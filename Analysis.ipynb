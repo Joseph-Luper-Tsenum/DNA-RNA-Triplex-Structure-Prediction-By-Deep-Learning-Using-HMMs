{
  "nbformat": 4,
  "nbformat_minor": 5,
  "metadata": {
    "colab": {
      "name": "Predicting triplex-forming DNAs and lncRNAs using histone modification-based features.ipynb",
      "provenance": [],
      "collapsed_sections": []
    },
    "kernelspec": {
      "display_name": "Python 3",
      "language": "python",
      "name": "python3"
    },
    "language_info": {
      "codemirror_mode": {
        "name": "ipython",
        "version": 3
      },
      "file_extension": ".py",
      "mimetype": "text/x-python",
      "name": "python",
      "nbconvert_exporter": "python",
      "pygments_lexer": "ipython3",
      "version": "3.8.8"
    },
    "papermill": {
      "default_parameters": {},
      "duration": 1101.153239,
      "end_time": "2021-05-27T18:07:02.844843",
      "environment_variables": {},
      "exception": null,
      "input_path": "Predicting triplex-forming DNAs and lncRNAs using histone modification-based features.ipynb",
      "output_path": "out_histone.ipynb",
      "parameters": {},
      "start_time": "2021-05-27T17:48:41.691604",
      "version": "2.3.3"
    }
  },
  "cells": [
    {
      "cell_type": "markdown",
      "metadata": {
        "papermill": {
          "duration": 0.082897,
          "end_time": "2021-05-27T17:48:44.833502",
          "exception": false,
          "start_time": "2021-05-27T17:48:44.750605",
          "status": "completed"
        },
        "tags": [],
        "id": "macro-living"
      },
      "source": [
        "## Please choose the next options"
      ],
      "id": "macro-living"
    },
    {
      "cell_type": "code",
      "metadata": {
        "execution": {
          "iopub.execute_input": "2021-05-27T17:48:44.998208Z",
          "iopub.status.busy": "2021-05-27T17:48:44.997411Z",
          "iopub.status.idle": "2021-05-27T17:48:45.003160Z",
          "shell.execute_reply": "2021-05-27T17:48:45.001943Z"
        },
        "papermill": {
          "duration": 0.091212,
          "end_time": "2021-05-27T17:48:45.003404",
          "exception": false,
          "start_time": "2021-05-27T17:48:44.912192",
          "status": "completed"
        },
        "tags": [],
        "id": "favorite-syria"
      },
      "source": [
        "_DO_GRIDSEARCH_OLD_DATA = False  # whether to perform hyperparameter gridsearch optimization on the old data\n",
        "_DO_GRIDSEARCH_NEW_DATA = False  # whether to perform hyperparameter gridsearch optimization on the new data"
      ],
      "id": "favorite-syria",
      "execution_count": 2,
      "outputs": []
    },
    {
      "cell_type": "markdown",
      "metadata": {
        "id": "frank-information",
        "papermill": {
          "duration": 0.07378,
          "end_time": "2021-05-27T17:48:45.156096",
          "exception": false,
          "start_time": "2021-05-27T17:48:45.082316",
          "status": "completed"
        },
        "tags": []
      },
      "source": [
        "## Installing packages\n",
        "\n",
        "We will start by installing required packages."
      ],
      "id": "frank-information"
    },
    {
      "cell_type": "code",
      "metadata": {
        "colab": {
          "base_uri": "https://localhost:8080/"
        },
        "execution": {
          "iopub.execute_input": "2021-05-27T17:48:45.318717Z",
          "iopub.status.busy": "2021-05-27T17:48:45.317584Z",
          "iopub.status.idle": "2021-05-27T17:48:57.848042Z",
          "shell.execute_reply": "2021-05-27T17:48:57.846657Z"
        },
        "id": "serious-richards",
        "papermill": {
          "duration": 12.615427,
          "end_time": "2021-05-27T17:48:57.848347",
          "exception": false,
          "start_time": "2021-05-27T17:48:45.232920",
          "status": "completed"
        },
        "tags": [],
        "outputId": "1ee72ac4-7586-40be-c7fa-e7aee7116909"
      },
      "source": [
        "# To write bash code in python jupyter cell, put ! before the command\n",
        "!pip install biopython\n",
        "!pip install tensorflow-addons\n",
        "!pip install gdown"
      ],
      "id": "serious-richards",
      "execution_count": 3,
      "outputs": [
        {
          "output_type": "stream",
          "name": "stdout",
          "text": [
            "Collecting biopython\n",
            "  Downloading biopython-1.79-cp37-cp37m-manylinux_2_5_x86_64.manylinux1_x86_64.whl (2.3 MB)\n",
            "\u001b[K     |████████████████████████████████| 2.3 MB 13.4 MB/s \n",
            "\u001b[?25hRequirement already satisfied: numpy in /usr/local/lib/python3.7/dist-packages (from biopython) (1.19.5)\n",
            "Installing collected packages: biopython\n",
            "Successfully installed biopython-1.79\n",
            "Collecting tensorflow-addons\n",
            "  Downloading tensorflow_addons-0.14.0-cp37-cp37m-manylinux_2_12_x86_64.manylinux2010_x86_64.whl (1.1 MB)\n",
            "\u001b[K     |████████████████████████████████| 1.1 MB 12.5 MB/s \n",
            "\u001b[?25hRequirement already satisfied: typeguard>=2.7 in /usr/local/lib/python3.7/dist-packages (from tensorflow-addons) (2.7.1)\n",
            "Installing collected packages: tensorflow-addons\n",
            "Successfully installed tensorflow-addons-0.14.0\n",
            "Requirement already satisfied: gdown in /usr/local/lib/python3.7/dist-packages (3.6.4)\n",
            "Requirement already satisfied: tqdm in /usr/local/lib/python3.7/dist-packages (from gdown) (4.62.0)\n",
            "Requirement already satisfied: requests in /usr/local/lib/python3.7/dist-packages (from gdown) (2.23.0)\n",
            "Requirement already satisfied: six in /usr/local/lib/python3.7/dist-packages (from gdown) (1.15.0)\n",
            "Requirement already satisfied: idna<3,>=2.5 in /usr/local/lib/python3.7/dist-packages (from requests->gdown) (2.10)\n",
            "Requirement already satisfied: urllib3!=1.25.0,!=1.25.1,<1.26,>=1.21.1 in /usr/local/lib/python3.7/dist-packages (from requests->gdown) (1.24.3)\n",
            "Requirement already satisfied: certifi>=2017.4.17 in /usr/local/lib/python3.7/dist-packages (from requests->gdown) (2021.5.30)\n",
            "Requirement already satisfied: chardet<4,>=3.0.2 in /usr/local/lib/python3.7/dist-packages (from requests->gdown) (3.0.4)\n"
          ]
        }
      ]
    },
    {
      "cell_type": "markdown",
      "metadata": {
        "id": "weighted-performer",
        "papermill": {
          "duration": 0.079182,
          "end_time": "2021-05-27T17:48:58.011549",
          "exception": false,
          "start_time": "2021-05-27T17:48:57.932367",
          "status": "completed"
        },
        "tags": []
      },
      "source": [
        "Let us clone the Github repository of [Zhang et al.](https://bmcbioinformatics.biomedcentral.com/articles/10.1186/s12859-020-03864-0) to access the [data](https://github.com/yuuuuzhang/TriplexFPP_data) and the [code](https://github.com/yuuuuzhang/TriplexFPP) (just in case we need them)."
      ],
      "id": "weighted-performer"
    },
    {
      "cell_type": "code",
      "metadata": {
        "colab": {
          "base_uri": "https://localhost:8080/"
        },
        "execution": {
          "iopub.execute_input": "2021-05-27T17:48:58.182224Z",
          "iopub.status.busy": "2021-05-27T17:48:58.180808Z",
          "iopub.status.idle": "2021-05-27T17:48:58.426447Z",
          "shell.execute_reply": "2021-05-27T17:48:58.427480Z"
        },
        "id": "permanent-recipient",
        "papermill": {
          "duration": 0.335532,
          "end_time": "2021-05-27T17:48:58.427778",
          "exception": false,
          "start_time": "2021-05-27T17:48:58.092246",
          "status": "completed"
        },
        "tags": [],
        "outputId": "e7a6fd76-e78b-4a9b-f926-399eeaebe719"
      },
      "source": [
        "!git clone https://github.com/yuuuuzhang/TriplexFPP_data.git  # downloading data\n",
        "!git clone https://github.com/yuuuuzhang/TriplexFPP.git  # downloading code"
      ],
      "id": "permanent-recipient",
      "execution_count": 4,
      "outputs": [
        {
          "output_type": "stream",
          "name": "stdout",
          "text": [
            "Cloning into 'TriplexFPP_data'...\n",
            "remote: Enumerating objects: 24, done.\u001b[K\n",
            "remote: Counting objects: 100% (24/24), done.\u001b[K\n",
            "remote: Compressing objects: 100% (20/20), done.\u001b[K\n",
            "remote: Total 24 (delta 4), reused 5 (delta 1), pack-reused 0\u001b[K\n",
            "Unpacking objects: 100% (24/24), done.\n",
            "Cloning into 'TriplexFPP'...\n",
            "remote: Enumerating objects: 124, done.\u001b[K\n",
            "remote: Counting objects: 100% (124/124), done.\u001b[K\n",
            "remote: Compressing objects: 100% (120/120), done.\u001b[K\n",
            "remote: Total 124 (delta 48), reused 0 (delta 0), pack-reused 0\u001b[K\n",
            "Receiving objects: 100% (124/124), 39.61 MiB | 11.81 MiB/s, done.\n",
            "Resolving deltas: 100% (48/48), done.\n"
          ]
        }
      ]
    },
    {
      "cell_type": "markdown",
      "metadata": {
        "id": "burning-attack",
        "papermill": {
          "duration": 0.079945,
          "end_time": "2021-05-27T17:48:58.589303",
          "exception": false,
          "start_time": "2021-05-27T17:48:58.509358",
          "status": "completed"
        },
        "tags": []
      },
      "source": [
        "Importing the needed packages.."
      ],
      "id": "burning-attack"
    },
    {
      "cell_type": "code",
      "metadata": {
        "execution": {
          "iopub.execute_input": "2021-05-27T17:48:58.778805Z",
          "iopub.status.busy": "2021-05-27T17:48:58.772076Z",
          "iopub.status.idle": "2021-05-27T17:49:08.725147Z",
          "shell.execute_reply": "2021-05-27T17:49:08.726889Z"
        },
        "id": "chronic-sigma",
        "papermill": {
          "duration": 10.049402,
          "end_time": "2021-05-27T17:49:08.727302",
          "exception": false,
          "start_time": "2021-05-27T17:48:58.677900",
          "status": "completed"
        },
        "tags": []
      },
      "source": [
        "import os\n",
        "import warnings\n",
        "warnings.filterwarnings(\"ignore\")\n",
        "\n",
        "import multiprocessing\n",
        "from joblib import Parallel, delayed\n",
        "from tqdm.notebook import tqdm\n",
        "\n",
        "from sklearn.model_selection import GridSearchCV\n",
        "from sklearn.metrics import roc_auc_score\n",
        "\n",
        "import matplotlib as mpl\n",
        "import matplotlib.pyplot as plt\n",
        "\n",
        "import numpy as np\n",
        "import math\n",
        "import pandas as pd\n",
        "from sklearn.utils import resample\n",
        "from sklearn.preprocessing import StandardScaler\n",
        "import tensorflow as tf\n",
        "import tensorflow_addons as tfa\n",
        "from tensorflow import keras\n",
        "from tensorflow.keras import backend as K\n",
        "from tensorflow.keras import losses, optimizers, metrics, layers, models, callbacks\n",
        "from tensorflow.keras.preprocessing.text import Tokenizer\n",
        "from tensorflow.keras.preprocessing.sequence import pad_sequences\n",
        "from tensorflow.keras.wrappers.scikit_learn import KerasClassifier\n",
        "from tensorflow.keras.models import load_model\n",
        "\n",
        "from Bio import SeqIO\n",
        "\n",
        "%matplotlib inline"
      ],
      "id": "chronic-sigma",
      "execution_count": 5,
      "outputs": []
    },
    {
      "cell_type": "markdown",
      "metadata": {
        "id": "bronze-wheel",
        "papermill": {
          "duration": 0.086789,
          "end_time": "2021-05-27T17:49:08.916615",
          "exception": false,
          "start_time": "2021-05-27T17:49:08.829826",
          "status": "completed"
        },
        "tags": []
      },
      "source": [
        "## Playing with the old negative data...\n",
        "\n",
        "Now let us get the positive and negative histone modification data."
      ],
      "id": "bronze-wheel"
    },
    {
      "cell_type": "code",
      "metadata": {
        "colab": {
          "base_uri": "https://localhost:8080/",
          "height": 785
        },
        "execution": {
          "iopub.execute_input": "2021-05-27T17:49:09.104355Z",
          "iopub.status.busy": "2021-05-27T17:49:09.099994Z",
          "iopub.status.idle": "2021-05-27T17:49:09.374346Z",
          "shell.execute_reply": "2021-05-27T17:49:09.375740Z"
        },
        "id": "animal-puppy",
        "papermill": {
          "duration": 0.376817,
          "end_time": "2021-05-27T17:49:09.376170",
          "exception": false,
          "start_time": "2021-05-27T17:49:08.999353",
          "status": "completed"
        },
        "tags": [],
        "outputId": "c524ef33-fdb9-46c7-b830-f5070c2af5ff"
      },
      "source": [
        "# Remembering the names of the histone modifications\n",
        "HM_names = ['H3K4me1', 'H3K4me2', 'H3K4me3', 'H3K9me1', 'H3K9me3', \n",
        "            'H3K27me3', 'H3K36me3', 'H3K79me2', 'H2A.Z', 'H3K9ac', \n",
        "            'H3K27ac', 'H4K20me1']\n",
        "\n",
        "# Creating a folder for figures\n",
        "!mkdir -p figs\n",
        "\n",
        "if not os.path.exists('./negative_data.csv'):\n",
        "    raise FileNotFoundError('Please put negative_data.csv in the same folder as the jupyter notebook')\n",
        "\n",
        "if not os.path.exists('./positive_data.csv'):\n",
        "    raise FileNotFoundError('Please put positive_data.csv in the same folder as the jupyter notebook')\n",
        "\n",
        "if not os.path.exists('./models.zip'):\n",
        "        raise FileNotFoundError('Please put models.zip in the same folder as the jupyter notebook')\n",
        "\n",
        "    \n",
        "!unzip \"./models.zip\"  # unzip processed_data.zip\n",
        "    \n",
        "# Reading the positive and negative data\n",
        "pos_data = pd.read_csv(\n",
        "    'positive_data.csv', sep='\\t', header=None, names=HM_names)\n",
        "neg_data = pd.read_csv(\n",
        "    'negative_data.csv', sep='\\t', header=None, names=HM_names)\n",
        "\n",
        "# Merging the data into one dataframe, creating the labels array\n",
        "raw_data = pd.concat([pos_data, neg_data], axis=0)\n",
        "labels = np.array([1]*len(pos_data) + [0]*len(neg_data))\n",
        "\n",
        "print(f'Overall, we have {raw_data.shape[0]} DNA regions and {raw_data.shape[1]} features..')\n",
        "print(f'{pos_data.shape[0]} DNA regions are positive, {neg_data.shape[0]} are negative..')\n",
        "raw_data.head()"
      ],
      "id": "animal-puppy",
      "execution_count": 6,
      "outputs": [
        {
          "output_type": "stream",
          "name": "stdout",
          "text": [
            "Downloading...\n",
            "From: https://drive.google.com/uc?id=1tug5b2Vz9LIIJoLOIlzE-0ZNHZFFqCh-\n",
            "To: /content/negative_data.csv\n",
            "100% 151k/151k [00:00<00:00, 53.7MB/s]\n",
            "Downloading...\n",
            "From: https://drive.google.com/uc?id=1TzamreBGzUWvdu6bmEs9-mlKTKSv5O58\n",
            "To: /content/positive_data.csv\n",
            "100% 128k/128k [00:00<00:00, 72.1MB/s]\n",
            "Downloading...\n",
            "From: https://drive.google.com/uc?id=1d-XTefCMfjUvYoUf5dBKzq5iEg3SZ_-2\n",
            "To: /content/models.zip\n",
            "129MB [00:00, 136MB/s]\n",
            "Archive:  ./models.zip\n",
            "   creating: models/\n",
            "  inflating: models/DNA_LSTM_3.h5    \n",
            "  inflating: models/DNA_LSTM_2.h5    \n",
            "  inflating: models/lncRNA_LSTM_1.h5  \n",
            "  inflating: models/lncRNA_CNN.h5    \n",
            "  inflating: models/DNA_CNN.h5       \n",
            "  inflating: models/lncRNA_ResNN.h5  \n",
            "  inflating: models/DNA_ResNN.h5     \n",
            "  inflating: models/DNA_LSTM_1.h5    \n",
            "  inflating: models/lncRNA_LSTM_2.h5  \n",
            "  inflating: models/lncRNA_LSTM_3.h5  \n",
            "  inflating: models/best_MLP.h5      \n",
            "  inflating: models/best_MLP_old.h5  \n",
            "   creating: models/.ipynb_checkpoints/\n",
            "  inflating: models/best_CNN_storage.h5  \n",
            "  inflating: models/best_CNN_old.h5  \n",
            "  inflating: models/best_MLP_storage.h5  \n",
            "  inflating: models/best_CNN.h5      \n",
            "Overall, we have 5561 DNA regions and 12 features..\n",
            "2547 DNA regions are positive, 3014 are negative..\n"
          ]
        },
        {
          "output_type": "execute_result",
          "data": {
            "text/html": [
              "<div>\n",
              "<style scoped>\n",
              "    .dataframe tbody tr th:only-of-type {\n",
              "        vertical-align: middle;\n",
              "    }\n",
              "\n",
              "    .dataframe tbody tr th {\n",
              "        vertical-align: top;\n",
              "    }\n",
              "\n",
              "    .dataframe thead th {\n",
              "        text-align: right;\n",
              "    }\n",
              "</style>\n",
              "<table border=\"1\" class=\"dataframe\">\n",
              "  <thead>\n",
              "    <tr style=\"text-align: right;\">\n",
              "      <th></th>\n",
              "      <th></th>\n",
              "      <th></th>\n",
              "      <th>H3K4me1</th>\n",
              "      <th>H3K4me2</th>\n",
              "      <th>H3K4me3</th>\n",
              "      <th>H3K9me1</th>\n",
              "      <th>H3K9me3</th>\n",
              "      <th>H3K27me3</th>\n",
              "      <th>H3K36me3</th>\n",
              "      <th>H3K79me2</th>\n",
              "      <th>H2A.Z</th>\n",
              "      <th>H3K9ac</th>\n",
              "      <th>H3K27ac</th>\n",
              "      <th>H4K20me1</th>\n",
              "    </tr>\n",
              "  </thead>\n",
              "  <tbody>\n",
              "    <tr>\n",
              "      <th rowspan=\"5\" valign=\"top\">chr1</th>\n",
              "      <th>629800</th>\n",
              "      <th>630250</th>\n",
              "      <td>0</td>\n",
              "      <td>0</td>\n",
              "      <td>0</td>\n",
              "      <td>0</td>\n",
              "      <td>0</td>\n",
              "      <td>0</td>\n",
              "      <td>0</td>\n",
              "      <td>0</td>\n",
              "      <td>0</td>\n",
              "      <td>0</td>\n",
              "      <td>0</td>\n",
              "      <td>0</td>\n",
              "    </tr>\n",
              "    <tr>\n",
              "      <th>1312900</th>\n",
              "      <th>1313050</th>\n",
              "      <td>1</td>\n",
              "      <td>0</td>\n",
              "      <td>2</td>\n",
              "      <td>2</td>\n",
              "      <td>0</td>\n",
              "      <td>1</td>\n",
              "      <td>0</td>\n",
              "      <td>1</td>\n",
              "      <td>3</td>\n",
              "      <td>2</td>\n",
              "      <td>1</td>\n",
              "      <td>0</td>\n",
              "    </tr>\n",
              "    <tr>\n",
              "      <th>1477250</th>\n",
              "      <th>1478000</th>\n",
              "      <td>1</td>\n",
              "      <td>7</td>\n",
              "      <td>6</td>\n",
              "      <td>15</td>\n",
              "      <td>7</td>\n",
              "      <td>2</td>\n",
              "      <td>33</td>\n",
              "      <td>8</td>\n",
              "      <td>2</td>\n",
              "      <td>2</td>\n",
              "      <td>11</td>\n",
              "      <td>6</td>\n",
              "    </tr>\n",
              "    <tr>\n",
              "      <th>2026750</th>\n",
              "      <th>2027100</th>\n",
              "      <td>3</td>\n",
              "      <td>2</td>\n",
              "      <td>0</td>\n",
              "      <td>1</td>\n",
              "      <td>2</td>\n",
              "      <td>11</td>\n",
              "      <td>1</td>\n",
              "      <td>0</td>\n",
              "      <td>0</td>\n",
              "      <td>0</td>\n",
              "      <td>3</td>\n",
              "      <td>4</td>\n",
              "    </tr>\n",
              "    <tr>\n",
              "      <th>5481750</th>\n",
              "      <th>5482050</th>\n",
              "      <td>2</td>\n",
              "      <td>0</td>\n",
              "      <td>3</td>\n",
              "      <td>1</td>\n",
              "      <td>5</td>\n",
              "      <td>3</td>\n",
              "      <td>1</td>\n",
              "      <td>0</td>\n",
              "      <td>3</td>\n",
              "      <td>1</td>\n",
              "      <td>0</td>\n",
              "      <td>5</td>\n",
              "    </tr>\n",
              "  </tbody>\n",
              "</table>\n",
              "</div>"
            ],
            "text/plain": [
              "                      H3K4me1  H3K4me2  H3K4me3  ...  H3K9ac  H3K27ac  H4K20me1\n",
              "chr1 629800  630250         0        0        0  ...       0        0         0\n",
              "     1312900 1313050        1        0        2  ...       2        1         0\n",
              "     1477250 1478000        1        7        6  ...       2       11         6\n",
              "     2026750 2027100        3        2        0  ...       0        3         4\n",
              "     5481750 5482050        2        0        3  ...       1        0         5\n",
              "\n",
              "[5 rows x 12 columns]"
            ]
          },
          "metadata": {},
          "execution_count": 6
        }
      ]
    },
    {
      "cell_type": "markdown",
      "metadata": {
        "id": "final-millennium",
        "papermill": {
          "duration": 0.082692,
          "end_time": "2021-05-27T17:49:09.541635",
          "exception": false,
          "start_time": "2021-05-27T17:49:09.458943",
          "status": "completed"
        },
        "tags": []
      },
      "source": [
        "Let us have a quick outlook on the data."
      ],
      "id": "final-millennium"
    },
    {
      "cell_type": "code",
      "metadata": {
        "colab": {
          "base_uri": "https://localhost:8080/",
          "height": 421
        },
        "execution": {
          "iopub.execute_input": "2021-05-27T17:49:09.729085Z",
          "iopub.status.busy": "2021-05-27T17:49:09.725778Z",
          "iopub.status.idle": "2021-05-27T17:49:09.804492Z",
          "shell.execute_reply": "2021-05-27T17:49:09.802889Z"
        },
        "id": "conservative-bangladesh",
        "papermill": {
          "duration": 0.174211,
          "end_time": "2021-05-27T17:49:09.804803",
          "exception": false,
          "start_time": "2021-05-27T17:49:09.630592",
          "status": "completed"
        },
        "tags": [],
        "outputId": "0b23f25d-9d17-4b9d-f14b-5346b6d04d01"
      },
      "source": [
        "raw_data.describe().T"
      ],
      "id": "conservative-bangladesh",
      "execution_count": null,
      "outputs": [
        {
          "output_type": "execute_result",
          "data": {
            "text/html": [
              "<div>\n",
              "<style scoped>\n",
              "    .dataframe tbody tr th:only-of-type {\n",
              "        vertical-align: middle;\n",
              "    }\n",
              "\n",
              "    .dataframe tbody tr th {\n",
              "        vertical-align: top;\n",
              "    }\n",
              "\n",
              "    .dataframe thead th {\n",
              "        text-align: right;\n",
              "    }\n",
              "</style>\n",
              "<table border=\"1\" class=\"dataframe\">\n",
              "  <thead>\n",
              "    <tr style=\"text-align: right;\">\n",
              "      <th></th>\n",
              "      <th>count</th>\n",
              "      <th>mean</th>\n",
              "      <th>std</th>\n",
              "      <th>min</th>\n",
              "      <th>25%</th>\n",
              "      <th>50%</th>\n",
              "      <th>75%</th>\n",
              "      <th>max</th>\n",
              "    </tr>\n",
              "  </thead>\n",
              "  <tbody>\n",
              "    <tr>\n",
              "      <th>H3K4me1</th>\n",
              "      <td>5561.0</td>\n",
              "      <td>9.392735</td>\n",
              "      <td>21.916701</td>\n",
              "      <td>0.0</td>\n",
              "      <td>1.0</td>\n",
              "      <td>3.0</td>\n",
              "      <td>8.0</td>\n",
              "      <td>423.0</td>\n",
              "    </tr>\n",
              "    <tr>\n",
              "      <th>H3K4me2</th>\n",
              "      <td>5561.0</td>\n",
              "      <td>8.316849</td>\n",
              "      <td>36.994180</td>\n",
              "      <td>0.0</td>\n",
              "      <td>1.0</td>\n",
              "      <td>2.0</td>\n",
              "      <td>4.0</td>\n",
              "      <td>738.0</td>\n",
              "    </tr>\n",
              "    <tr>\n",
              "      <th>H3K4me3</th>\n",
              "      <td>5561.0</td>\n",
              "      <td>7.591081</td>\n",
              "      <td>28.568157</td>\n",
              "      <td>0.0</td>\n",
              "      <td>1.0</td>\n",
              "      <td>3.0</td>\n",
              "      <td>5.0</td>\n",
              "      <td>688.0</td>\n",
              "    </tr>\n",
              "    <tr>\n",
              "      <th>H3K9me1</th>\n",
              "      <td>5561.0</td>\n",
              "      <td>8.319187</td>\n",
              "      <td>11.605494</td>\n",
              "      <td>0.0</td>\n",
              "      <td>3.0</td>\n",
              "      <td>6.0</td>\n",
              "      <td>11.0</td>\n",
              "      <td>272.0</td>\n",
              "    </tr>\n",
              "    <tr>\n",
              "      <th>H3K9me3</th>\n",
              "      <td>5561.0</td>\n",
              "      <td>8.649523</td>\n",
              "      <td>15.030867</td>\n",
              "      <td>0.0</td>\n",
              "      <td>3.0</td>\n",
              "      <td>6.0</td>\n",
              "      <td>11.0</td>\n",
              "      <td>375.0</td>\n",
              "    </tr>\n",
              "    <tr>\n",
              "      <th>H3K27me3</th>\n",
              "      <td>5561.0</td>\n",
              "      <td>7.025895</td>\n",
              "      <td>11.175451</td>\n",
              "      <td>0.0</td>\n",
              "      <td>2.0</td>\n",
              "      <td>4.0</td>\n",
              "      <td>8.0</td>\n",
              "      <td>244.0</td>\n",
              "    </tr>\n",
              "    <tr>\n",
              "      <th>H3K36me3</th>\n",
              "      <td>5561.0</td>\n",
              "      <td>7.115627</td>\n",
              "      <td>13.391831</td>\n",
              "      <td>0.0</td>\n",
              "      <td>1.0</td>\n",
              "      <td>3.0</td>\n",
              "      <td>7.0</td>\n",
              "      <td>272.0</td>\n",
              "    </tr>\n",
              "    <tr>\n",
              "      <th>H3K79me2</th>\n",
              "      <td>5561.0</td>\n",
              "      <td>11.406402</td>\n",
              "      <td>45.351889</td>\n",
              "      <td>0.0</td>\n",
              "      <td>1.0</td>\n",
              "      <td>3.0</td>\n",
              "      <td>6.0</td>\n",
              "      <td>961.0</td>\n",
              "    </tr>\n",
              "    <tr>\n",
              "      <th>H2A.Z</th>\n",
              "      <td>5561.0</td>\n",
              "      <td>11.170113</td>\n",
              "      <td>28.231969</td>\n",
              "      <td>0.0</td>\n",
              "      <td>2.0</td>\n",
              "      <td>5.0</td>\n",
              "      <td>10.0</td>\n",
              "      <td>479.0</td>\n",
              "    </tr>\n",
              "    <tr>\n",
              "      <th>H3K9ac</th>\n",
              "      <td>5561.0</td>\n",
              "      <td>9.812084</td>\n",
              "      <td>39.484859</td>\n",
              "      <td>0.0</td>\n",
              "      <td>2.0</td>\n",
              "      <td>4.0</td>\n",
              "      <td>7.0</td>\n",
              "      <td>1004.0</td>\n",
              "    </tr>\n",
              "    <tr>\n",
              "      <th>H3K27ac</th>\n",
              "      <td>5561.0</td>\n",
              "      <td>7.822514</td>\n",
              "      <td>33.865296</td>\n",
              "      <td>0.0</td>\n",
              "      <td>1.0</td>\n",
              "      <td>2.0</td>\n",
              "      <td>5.0</td>\n",
              "      <td>795.0</td>\n",
              "    </tr>\n",
              "    <tr>\n",
              "      <th>H4K20me1</th>\n",
              "      <td>5561.0</td>\n",
              "      <td>10.182521</td>\n",
              "      <td>15.390515</td>\n",
              "      <td>0.0</td>\n",
              "      <td>3.0</td>\n",
              "      <td>6.0</td>\n",
              "      <td>13.0</td>\n",
              "      <td>352.0</td>\n",
              "    </tr>\n",
              "  </tbody>\n",
              "</table>\n",
              "</div>"
            ],
            "text/plain": [
              "           count       mean        std  min  25%  50%   75%     max\n",
              "H3K4me1   5561.0   9.392735  21.916701  0.0  1.0  3.0   8.0   423.0\n",
              "H3K4me2   5561.0   8.316849  36.994180  0.0  1.0  2.0   4.0   738.0\n",
              "H3K4me3   5561.0   7.591081  28.568157  0.0  1.0  3.0   5.0   688.0\n",
              "H3K9me1   5561.0   8.319187  11.605494  0.0  3.0  6.0  11.0   272.0\n",
              "H3K9me3   5561.0   8.649523  15.030867  0.0  3.0  6.0  11.0   375.0\n",
              "H3K27me3  5561.0   7.025895  11.175451  0.0  2.0  4.0   8.0   244.0\n",
              "H3K36me3  5561.0   7.115627  13.391831  0.0  1.0  3.0   7.0   272.0\n",
              "H3K79me2  5561.0  11.406402  45.351889  0.0  1.0  3.0   6.0   961.0\n",
              "H2A.Z     5561.0  11.170113  28.231969  0.0  2.0  5.0  10.0   479.0\n",
              "H3K9ac    5561.0   9.812084  39.484859  0.0  2.0  4.0   7.0  1004.0\n",
              "H3K27ac   5561.0   7.822514  33.865296  0.0  1.0  2.0   5.0   795.0\n",
              "H4K20me1  5561.0  10.182521  15.390515  0.0  3.0  6.0  13.0   352.0"
            ]
          },
          "metadata": {
            "tags": []
          },
          "execution_count": 6
        }
      ]
    },
    {
      "cell_type": "markdown",
      "metadata": {
        "id": "superb-portsmouth",
        "papermill": {
          "duration": 0.080969,
          "end_time": "2021-05-27T17:49:09.968073",
          "exception": false,
          "start_time": "2021-05-27T17:49:09.887104",
          "status": "completed"
        },
        "tags": []
      },
      "source": [
        "Let us plot the region length distribution plot."
      ],
      "id": "superb-portsmouth"
    },
    {
      "cell_type": "code",
      "metadata": {
        "colab": {
          "base_uri": "https://localhost:8080/",
          "height": 400
        },
        "execution": {
          "iopub.execute_input": "2021-05-27T17:49:10.178595Z",
          "iopub.status.busy": "2021-05-27T17:49:10.147598Z",
          "iopub.status.idle": "2021-05-27T17:49:13.089774Z",
          "shell.execute_reply": "2021-05-27T17:49:13.090836Z"
        },
        "id": "expired-statistics",
        "papermill": {
          "duration": 3.039243,
          "end_time": "2021-05-27T17:49:13.091164",
          "exception": false,
          "start_time": "2021-05-27T17:49:10.051921",
          "status": "completed"
        },
        "tags": [],
        "outputId": "ba1e57b5-807f-47ea-f890-c68b628be35e"
      },
      "source": [
        "f, ax = plt.subplots(figsize=(20, 7))\n",
        "pos_lengths = pos_data.index.get_level_values(2) - pos_data.index.get_level_values(1)\n",
        "neg_lengths = neg_data.index.get_level_values(2) - neg_data.index.get_level_values(1)\n",
        "ax.hist(pos_lengths, bins=100, label='positive data')\n",
        "ax.hist(neg_lengths, bins=100, label='negative data', alpha=0.5)\n",
        "ax.set_xlabel('Region length')\n",
        "ax.set_ylabel('Occurrences')\n",
        "ax.set_title('The region length distribution')\n",
        "ax.legend();\n",
        "plt.savefig('./figs/pos_neg_data_len_dist_1.png', dpi=300)"
      ],
      "id": "expired-statistics",
      "execution_count": null,
      "outputs": [
        {
          "output_type": "display_data",
          "data": {
            "image/png": "[encoded data removed]",
            "text/plain": [
              "<Figure size 1440x504 with 1 Axes>"
            ]
          },
          "metadata": {
            "tags": [],
            "needs_background": "light"
          }
        }
      ]
    },
    {
      "cell_type": "markdown",
      "metadata": {
        "id": "three-portland",
        "papermill": {
          "duration": 0.088228,
          "end_time": "2021-05-27T17:49:13.269087",
          "exception": false,
          "start_time": "2021-05-27T17:49:13.180859",
          "status": "completed"
        },
        "tags": []
      },
      "source": [
        "Let us filter out sequences longer than 2000 BPs.."
      ],
      "id": "three-portland"
    },
    {
      "cell_type": "code",
      "metadata": {
        "colab": {
          "base_uri": "https://localhost:8080/"
        },
        "execution": {
          "iopub.execute_input": "2021-05-27T17:49:13.455310Z",
          "iopub.status.busy": "2021-05-27T17:49:13.452573Z",
          "iopub.status.idle": "2021-05-27T17:49:13.459029Z",
          "shell.execute_reply": "2021-05-27T17:49:13.460120Z"
        },
        "id": "rental-testimony",
        "papermill": {
          "duration": 0.106039,
          "end_time": "2021-05-27T17:49:13.460406",
          "exception": false,
          "start_time": "2021-05-27T17:49:13.354367",
          "status": "completed"
        },
        "tags": [],
        "outputId": "f2390652-408f-4e4a-afeb-1248268008c5"
      },
      "source": [
        "old_len = len(raw_data)\n",
        "filtered_data = raw_data.loc[(raw_data.index.get_level_values(2) - raw_data.index.get_level_values(1)) < 2000]\n",
        "print(f'After filtering we decreased the number of regions from {old_len} to '\n",
        "      f'{filtered_data.shape[0]}')"
      ],
      "id": "rental-testimony",
      "execution_count": null,
      "outputs": [
        {
          "output_type": "stream",
          "text": [
            "After filtering we decreased the number of regions from 5561 to 5473\n"
          ],
          "name": "stdout"
        }
      ]
    },
    {
      "cell_type": "code",
      "metadata": {
        "execution": {
          "iopub.execute_input": "2021-05-27T17:49:13.650238Z",
          "iopub.status.busy": "2021-05-27T17:49:13.643653Z",
          "iopub.status.idle": "2021-05-27T17:49:13.668792Z",
          "shell.execute_reply": "2021-05-27T17:49:13.667493Z"
        },
        "id": "deadly-moore",
        "papermill": {
          "duration": 0.121804,
          "end_time": "2021-05-27T17:49:13.669044",
          "exception": false,
          "start_time": "2021-05-27T17:49:13.547240",
          "status": "completed"
        },
        "tags": []
      },
      "source": [
        "# Setting some hyperparams\n",
        "_DATA_SIZE = len(filtered_data)\n",
        "_TRAIN_PERCENTAGE = 0.8\n",
        "_VAL_PERCENTAGE = 0.1\n",
        "_TEST_PERCENTAGE = 0.1\n",
        "_TRAIN_SIZE = int(_TRAIN_PERCENTAGE * _DATA_SIZE)\n",
        "_VAL_SIZE = int(_VAL_PERCENTAGE * _DATA_SIZE)\n",
        "_TEST_SIZE = int(_TEST_PERCENTAGE * _DATA_SIZE)\n",
        "\n",
        "# Setting numpy random seed for reproducibility\n",
        "np.random.seed(42)\n",
        "\n",
        "# Shuffling the data\n",
        "data_index = np.arange(_DATA_SIZE)\n",
        "np.random.shuffle(data_index)\n",
        "data, labels = filtered_data.iloc[data_index], labels[data_index]\n",
        "\n",
        "# Scale features for both datasets\n",
        "scaler = StandardScaler()\n",
        "scaler.fit(data[:_TRAIN_SIZE])\n",
        "data = scaler.transform(data)\n",
        "\n",
        "# Splitting data into train, validation and test as 80%/10%/10%\n",
        "train_data, train_labels = data[:_TRAIN_SIZE], labels[:_TRAIN_SIZE]\n",
        "test_data, test_labels = data[_TRAIN_SIZE:], labels[_TRAIN_SIZE:]\n",
        "val_data, val_labels = test_data[:_VAL_SIZE], test_labels[:_VAL_SIZE]\n",
        "test_data, test_labels = test_data[_TEST_SIZE:], test_labels[_TEST_SIZE:]"
      ],
      "id": "deadly-moore",
      "execution_count": null,
      "outputs": []
    },
    {
      "cell_type": "markdown",
      "metadata": {
        "id": "geological-console",
        "papermill": {
          "duration": 0.085633,
          "end_time": "2021-05-27T17:49:13.844071",
          "exception": false,
          "start_time": "2021-05-27T17:49:13.758438",
          "status": "completed"
        },
        "tags": []
      },
      "source": [
        "Let us prepare for training and testing.."
      ],
      "id": "geological-console"
    },
    {
      "cell_type": "code",
      "metadata": {
        "execution": {
          "iopub.execute_input": "2021-05-27T17:49:14.034635Z",
          "iopub.status.busy": "2021-05-27T17:49:14.029744Z",
          "iopub.status.idle": "2021-05-27T17:49:16.088002Z",
          "shell.execute_reply": "2021-05-27T17:49:16.085876Z"
        },
        "id": "addressed-sheriff",
        "papermill": {
          "duration": 2.158213,
          "end_time": "2021-05-27T17:49:16.088716",
          "exception": false,
          "start_time": "2021-05-27T17:49:13.930503",
          "status": "completed"
        },
        "tags": []
      },
      "source": [
        "# Defining some hyperparameters, as well as metrics and early stopping callback \n",
        "# that applies to all models\n",
        "_EPOCHS = 50\n",
        "_LEARNING_RATE = 1e-2\n",
        "_BATCH_SIZE = 32\n",
        "_VERBOSE = 1\n",
        "\n",
        "# Setting plotting parameters\n",
        "mpl.rcParams['figure.figsize'] = (12, 10)\n",
        "colors = plt.rcParams['axes.prop_cycle'].by_key()['color']\n",
        "\n",
        "def mcc(y_true, y_pred):\n",
        "    \"\"\"\n",
        "    Courtesy of https://stackoverflow.com/questions/56865344/how-do-i-calculate-the-matthews-correlation-coefficient-in-tensorflow\n",
        "    \"\"\"\n",
        "    predicted = tf.cast(tf.greater(y_pred, 0.5), tf.float32)\n",
        "    true_pos = tf.math.count_nonzero(predicted * y_true)\n",
        "    true_neg = tf.math.count_nonzero((predicted - 1) * (y_true - 1))\n",
        "    false_pos = tf.math.count_nonzero(predicted * (y_true - 1))\n",
        "    false_neg = tf.math.count_nonzero((predicted - 1) * y_true)\n",
        "    x = tf.cast((true_pos + false_pos) * (true_pos + false_neg) \n",
        "        * (true_neg + false_pos) * (true_neg + false_neg), tf.float32)\n",
        "    return tf.cast((true_pos * true_neg) - (false_pos * false_neg), tf.float32) / tf.sqrt(x)\n",
        "\n",
        "_METRICS = [\n",
        "      metrics.BinaryAccuracy(name='accuracy'),\n",
        "      metrics.Precision(name='precision'),\n",
        "      metrics.Recall(name='recall'),\n",
        "      metrics.AUC(name='auc'),\n",
        "      tfa.metrics.F1Score(name='f1_score', num_classes=1, threshold=0.5),\n",
        "      mcc\n",
        "]\n",
        "\n",
        "\n",
        "def plot_metrics(history, model_name):\n",
        "    # Courtesy of https://www.tensorflow.org/tutorials/structured_data/imbalanced_data#oversample_the_minority_class\n",
        "    metrics = ['loss', 'auc', 'precision', 'recall', 'f1_score', 'mcc']\n",
        "    fig = plt.figure(figsize=(20,7))\n",
        "    for n, metric in enumerate(metrics):\n",
        "        if metrics == 'f1_score':\n",
        "            curr_train_history = np.transpose(np.array(history.history[metric]))[0]\n",
        "            curr_val_history = np.transpose(np.array(history.history['val_'+metric]))[0]\n",
        "        else:\n",
        "            curr_train_history = np.array(history.history[metric])\n",
        "            curr_val_history = np.array(history.history['val_'+metric])\n",
        "        name = metric.replace(\"_\",\" \").capitalize()\n",
        "        plt.subplot(2, 3, n+1)\n",
        "        plt.plot(history.epoch, curr_train_history, color=colors[0], label='Train')\n",
        "        plt.plot(history.epoch, curr_val_history,\n",
        "                 color=colors[0], linestyle=\"--\", label='Val')\n",
        "        plt.xlabel('Epoch')\n",
        "        plt.ylabel(name)\n",
        "        filtered_train_history = curr_train_history[~np.isnan(curr_train_history)]\n",
        "        filtered_val_history = curr_val_history[~np.isnan(curr_val_history)]\n",
        "        if metric == 'loss':\n",
        "            plt.ylim([0, plt.ylim()[1]])\n",
        "        else:\n",
        "            plt.ylim([max(max(filtered_train_history, default=0) - 0.5, 0), 1])\n",
        "\n",
        "        plt.legend()\n",
        "\n",
        "    plt.savefig(f'./figs/training_{model_name}.png', dpi=300)\n",
        "\n",
        "def get_callbacks(model_name, with_early_stopping=True):\n",
        "    return [callbacks.EarlyStopping(patience=20, restore_best_weights=True,\n",
        "                                    verbose=_VERBOSE), \n",
        "            callbacks.ModelCheckpoint(filepath=f'./models/{model_name}.h5', verbose=_VERBOSE,\n",
        "                                      save_best_only=True)\n",
        "            ] if with_early_stopping else \\\n",
        "            [callbacks.ModelCheckpoint(filepath=f'./models/{model_name}.h5', verbose=_VERBOSE,\n",
        "                                      save_best_only=True)]"
      ],
      "id": "addressed-sheriff",
      "execution_count": null,
      "outputs": []
    },
    {
      "cell_type": "markdown",
      "metadata": {
        "id": "stuffed-freeware",
        "papermill": {
          "duration": 0.09508,
          "end_time": "2021-05-27T17:49:16.294387",
          "exception": false,
          "start_time": "2021-05-27T17:49:16.199307",
          "status": "completed"
        },
        "tags": []
      },
      "source": [
        "### Training and testing CNN based on paper\n",
        "\n",
        "Now as the data is ready we are ready to build the model and train it."
      ],
      "id": "stuffed-freeware"
    },
    {
      "cell_type": "code",
      "metadata": {
        "colab": {
          "base_uri": "https://localhost:8080/"
        },
        "execution": {
          "iopub.execute_input": "2021-05-27T17:49:16.522851Z",
          "iopub.status.busy": "2021-05-27T17:49:16.512030Z",
          "iopub.status.idle": "2021-05-27T17:49:16.631599Z",
          "shell.execute_reply": "2021-05-27T17:49:16.630448Z"
        },
        "id": "sufficient-ethernet",
        "papermill": {
          "duration": 0.237504,
          "end_time": "2021-05-27T17:49:16.631912",
          "exception": false,
          "start_time": "2021-05-27T17:49:16.394408",
          "status": "completed"
        },
        "tags": [],
        "outputId": "34aff639-84d2-45cf-bfda-48bfc38caa1a"
      },
      "source": [
        "MLP = models.Sequential(\n",
        "    [\n",
        "    layers.Dense(30, activation='relu', input_shape=(12,), name='dense_1'),\n",
        "    layers.Dense(60, activation='relu', name='dense_2'),\n",
        "    layers.Dropout(0.5, name='dropout_1'),\n",
        "    layers.Dense(60, activation='relu', name='dense_3'),\n",
        "    layers.Dropout(0.5, name='dropout_2'),\n",
        "    layers.Dense(30, activation='relu', name='dense_4'),\n",
        "    layers.Dense(1, activation='sigmoid', name='dense_5'),\n",
        "], name='MLP')\n",
        "\n",
        "MLP.compile(optimizer=optimizers.Adam(lr=_LEARNING_RATE),\n",
        "                loss=losses.BinaryCrossentropy(),\n",
        "                metrics=_METRICS)\n",
        "MLP.summary()"
      ],
      "id": "sufficient-ethernet",
      "execution_count": null,
      "outputs": [
        {
          "output_type": "stream",
          "text": [
            "Model: \"MLP\"\n",
            "_________________________________________________________________\n",
            "Layer (type)                 Output Shape              Param #   \n",
            "=================================================================\n",
            "dense_1 (Dense)              (None, 30)                390       \n",
            "_________________________________________________________________\n",
            "dense_2 (Dense)              (None, 60)                1860      \n",
            "_________________________________________________________________\n",
            "dropout_1 (Dropout)          (None, 60)                0         \n",
            "_________________________________________________________________\n",
            "dense_3 (Dense)              (None, 60)                3660      \n",
            "_________________________________________________________________\n",
            "dropout_2 (Dropout)          (None, 60)                0         \n",
            "_________________________________________________________________\n",
            "dense_4 (Dense)              (None, 30)                1830      \n",
            "_________________________________________________________________\n",
            "dense_5 (Dense)              (None, 1)                 31        \n",
            "=================================================================\n",
            "Total params: 7,771\n",
            "Trainable params: 7,771\n",
            "Non-trainable params: 0\n",
            "_________________________________________________________________\n"
          ],
          "name": "stdout"
        }
      ]
    },
    {
      "cell_type": "markdown",
      "metadata": {
        "id": "plain-elder",
        "papermill": {
          "duration": 0.104878,
          "end_time": "2021-05-27T17:49:16.831766",
          "exception": false,
          "start_time": "2021-05-27T17:49:16.726888",
          "status": "completed"
        },
        "tags": []
      },
      "source": [
        "Now we let us plot the training history."
      ],
      "id": "plain-elder"
    },
    {
      "cell_type": "code",
      "metadata": {
        "colab": {
          "base_uri": "https://localhost:8080/",
          "height": 1000
        },
        "collapsed": true,
        "execution": {
          "iopub.execute_input": "2021-05-27T17:49:17.047152Z",
          "iopub.status.busy": "2021-05-27T17:49:17.046022Z",
          "iopub.status.idle": "2021-05-27T17:50:46.431752Z",
          "shell.execute_reply": "2021-05-27T17:50:46.433120Z"
        },
        "id": "found-boundary",
        "jupyter": {
          "outputs_hidden": true
        },
        "papermill": {
          "duration": 89.496146,
          "end_time": "2021-05-27T17:50:46.433750",
          "exception": false,
          "start_time": "2021-05-27T17:49:16.937604",
          "status": "completed"
        },
        "tags": [],
        "outputId": "4e1b1458-fb54-4372-ae7b-a63a72ec1426"
      },
      "source": [
        "MLP_training_history = MLP.fit(train_data, train_labels, batch_size=_BATCH_SIZE,\n",
        "                                epochs=_EPOCHS, validation_data=(val_data, val_labels),\n",
        "                                verbose=_VERBOSE, callbacks=get_callbacks('MLP'))\n",
        "plot_metrics(MLP_training_history, 'MLP_1')"
      ],
      "id": "found-boundary",
      "execution_count": null,
      "outputs": [
        {
          "output_type": "stream",
          "text": [
            "Epoch 1/50\n",
            "137/137 [==============================] - 8s 32ms/step - loss: 0.7230 - accuracy: 0.5245 - precision: 0.5070 - recall: 0.3283 - auc: 0.5118 - f1_score: 0.3919 - mcc: nan - val_loss: 0.6872 - val_accuracy: 0.5612 - val_precision: 0.5556 - val_recall: 0.0413 - val_auc: 0.5530 - val_f1_score: 0.0769 - val_mcc: nan\n",
            "\n",
            "Epoch 00001: val_loss improved from inf to 0.68717, saving model to ./models/MLP.h5\n",
            "Epoch 2/50\n",
            "137/137 [==============================] - 3s 20ms/step - loss: 0.6926 - accuracy: 0.5277 - precision: 0.5072 - recall: 0.3546 - auc: 0.5340 - f1_score: 0.4080 - mcc: nan - val_loss: 0.6862 - val_accuracy: 0.5612 - val_precision: 1.0000 - val_recall: 0.0083 - val_auc: 0.5423 - val_f1_score: 0.0164 - val_mcc: nan\n",
            "\n",
            "Epoch 00002: val_loss improved from 0.68717 to 0.68616, saving model to ./models/MLP.h5\n",
            "Epoch 3/50\n",
            "137/137 [==============================] - 3s 21ms/step - loss: 0.6900 - accuracy: 0.5361 - precision: 0.4889 - recall: 0.0214 - auc: 0.5215 - f1_score: 0.0408 - mcc: nan - val_loss: 0.6887 - val_accuracy: 0.5558 - val_precision: 0.4444 - val_recall: 0.0165 - val_auc: 0.5590 - val_f1_score: 0.0319 - val_mcc: nan\n",
            "\n",
            "Epoch 00003: val_loss did not improve from 0.68616\n",
            "Epoch 4/50\n",
            "137/137 [==============================] - 3s 21ms/step - loss: 0.6885 - accuracy: 0.5445 - precision: 0.4938 - recall: 0.0708 - auc: 0.5212 - f1_score: 0.1214 - mcc: nan - val_loss: 0.6856 - val_accuracy: 0.5539 - val_precision: 0.4000 - val_recall: 0.0165 - val_auc: 0.5751 - val_f1_score: 0.0317 - val_mcc: nan\n",
            "\n",
            "Epoch 00004: val_loss improved from 0.68616 to 0.68557, saving model to ./models/MLP.h5\n",
            "Epoch 5/50\n",
            "137/137 [==============================] - 3s 23ms/step - loss: 0.6929 - accuracy: 0.5197 - precision: 0.4563 - recall: 0.0244 - auc: 0.4802 - f1_score: 0.0463 - mcc: nan - val_loss: 0.6873 - val_accuracy: 0.5576 - val_precision: 0.5000 - val_recall: 0.0124 - val_auc: 0.5637 - val_f1_score: 0.0242 - val_mcc: nan\n",
            "\n",
            "Epoch 00005: val_loss did not improve from 0.68557\n",
            "Epoch 6/50\n",
            "137/137 [==============================] - 3s 20ms/step - loss: 0.6900 - accuracy: 0.5380 - precision: 0.5242 - recall: 0.0950 - auc: 0.5309 - f1_score: 0.1521 - mcc: nan - val_loss: 0.6799 - val_accuracy: 0.5576 - val_precision: 0.0000e+00 - val_recall: 0.0000e+00 - val_auc: 0.5867 - val_f1_score: 0.0000e+00 - val_mcc: nan\n",
            "\n",
            "Epoch 00006: val_loss improved from 0.68557 to 0.67989, saving model to ./models/MLP.h5\n",
            "Epoch 7/50\n",
            "137/137 [==============================] - 3s 20ms/step - loss: 0.6935 - accuracy: 0.5285 - precision: 0.5297 - recall: 0.0846 - auc: 0.5185 - f1_score: 0.1436 - mcc: nan - val_loss: 0.6772 - val_accuracy: 0.5612 - val_precision: 1.0000 - val_recall: 0.0083 - val_auc: 0.5877 - val_f1_score: 0.0164 - val_mcc: nan\n",
            "\n",
            "Epoch 00007: val_loss improved from 0.67989 to 0.67721, saving model to ./models/MLP.h5\n",
            "Epoch 8/50\n",
            "137/137 [==============================] - 3s 22ms/step - loss: 0.6885 - accuracy: 0.5437 - precision: 0.5467 - recall: 0.0995 - auc: 0.5403 - f1_score: 0.1644 - mcc: nan - val_loss: 0.6863 - val_accuracy: 0.5576 - val_precision: 0.0000e+00 - val_recall: 0.0000e+00 - val_auc: 0.5430 - val_f1_score: 0.0000e+00 - val_mcc: nan\n",
            "\n",
            "Epoch 00008: val_loss did not improve from 0.67721\n",
            "Epoch 9/50\n",
            "137/137 [==============================] - 3s 21ms/step - loss: 0.6923 - accuracy: 0.5290 - precision: 0.5472 - recall: 0.1880 - auc: 0.5448 - f1_score: 0.2680 - mcc: nan - val_loss: 0.6818 - val_accuracy: 0.5649 - val_precision: 0.7500 - val_recall: 0.0248 - val_auc: 0.5777 - val_f1_score: 0.0480 - val_mcc: nan\n",
            "\n",
            "Epoch 00009: val_loss did not improve from 0.67721\n",
            "Epoch 10/50\n",
            "137/137 [==============================] - 3s 19ms/step - loss: 0.6899 - accuracy: 0.5356 - precision: 0.5131 - recall: 0.0570 - auc: 0.5379 - f1_score: 0.1021 - mcc: nan - val_loss: 0.6865 - val_accuracy: 0.5649 - val_precision: 1.0000 - val_recall: 0.0165 - val_auc: 0.5777 - val_f1_score: 0.0325 - val_mcc: nan\n",
            "\n",
            "Epoch 00010: val_loss did not improve from 0.67721\n",
            "Epoch 11/50\n",
            "137/137 [==============================] - 3s 23ms/step - loss: 0.6899 - accuracy: 0.5305 - precision: 0.4967 - recall: 0.1460 - auc: 0.5277 - f1_score: 0.2247 - mcc: nan - val_loss: 0.6802 - val_accuracy: 0.5649 - val_precision: 1.0000 - val_recall: 0.0165 - val_auc: 0.5871 - val_f1_score: 0.0325 - val_mcc: nan\n",
            "\n",
            "Epoch 00011: val_loss did not improve from 0.67721\n",
            "Epoch 12/50\n",
            "137/137 [==============================] - 3s 23ms/step - loss: 0.6884 - accuracy: 0.5405 - precision: 0.5797 - recall: 0.1682 - auc: 0.5545 - f1_score: 0.2569 - mcc: nan - val_loss: 0.6798 - val_accuracy: 0.5649 - val_precision: 0.6667 - val_recall: 0.0331 - val_auc: 0.5800 - val_f1_score: 0.0630 - val_mcc: nan\n",
            "\n",
            "Epoch 00012: val_loss did not improve from 0.67721\n",
            "Epoch 13/50\n",
            "137/137 [==============================] - 3s 24ms/step - loss: 0.6875 - accuracy: 0.5433 - precision: 0.5224 - recall: 0.0869 - auc: 0.5479 - f1_score: 0.1463 - mcc: nan - val_loss: 0.6923 - val_accuracy: 0.5210 - val_precision: 0.4773 - val_recall: 0.8678 - val_auc: 0.5816 - val_f1_score: 0.6158 - val_mcc: 0.1623\n",
            "\n",
            "Epoch 00013: val_loss did not improve from 0.67721\n",
            "Epoch 14/50\n",
            "137/137 [==============================] - 3s 21ms/step - loss: 0.6903 - accuracy: 0.5307 - precision: 0.5050 - recall: 0.4019 - auc: 0.5381 - f1_score: 0.4237 - mcc: nan - val_loss: 0.6796 - val_accuracy: 0.5576 - val_precision: 0.0000e+00 - val_recall: 0.0000e+00 - val_auc: 0.5777 - val_f1_score: 0.0000e+00 - val_mcc: nan\n",
            "\n",
            "Epoch 00014: val_loss did not improve from 0.67721\n",
            "Epoch 15/50\n",
            "137/137 [==============================] - 3s 21ms/step - loss: 0.6885 - accuracy: 0.5274 - precision: 0.4920 - recall: 0.0875 - auc: 0.5512 - f1_score: 0.1393 - mcc: nan - val_loss: 0.6849 - val_accuracy: 0.5484 - val_precision: 0.4911 - val_recall: 0.5702 - val_auc: 0.5592 - val_f1_score: 0.5277 - val_mcc: 0.1175\n",
            "\n",
            "Epoch 00015: val_loss did not improve from 0.67721\n",
            "Epoch 16/50\n",
            "137/137 [==============================] - 3s 21ms/step - loss: 0.6886 - accuracy: 0.5526 - precision: 0.5452 - recall: 0.2500 - auc: 0.5517 - f1_score: 0.3314 - mcc: nan - val_loss: 0.6786 - val_accuracy: 0.5576 - val_precision: 0.0000e+00 - val_recall: 0.0000e+00 - val_auc: 0.5755 - val_f1_score: 0.0000e+00 - val_mcc: nan\n",
            "\n",
            "Epoch 00016: val_loss did not improve from 0.67721\n",
            "Epoch 17/50\n",
            "137/137 [==============================] - 3s 22ms/step - loss: 0.6881 - accuracy: 0.5394 - precision: 0.5404 - recall: 0.3164 - auc: 0.5642 - f1_score: 0.3925 - mcc: 0.0757 - val_loss: 0.6799 - val_accuracy: 0.5612 - val_precision: 0.5039 - val_recall: 0.5331 - val_auc: 0.5746 - val_f1_score: 0.5181 - val_mcc: 0.1405\n",
            "\n",
            "Epoch 00017: val_loss did not improve from 0.67721\n",
            "Epoch 18/50\n",
            "137/137 [==============================] - 3s 21ms/step - loss: 0.6895 - accuracy: 0.5293 - precision: 0.4719 - recall: 0.1266 - auc: 0.5355 - f1_score: 0.1959 - mcc: nan - val_loss: 0.6773 - val_accuracy: 0.5521 - val_precision: 0.4960 - val_recall: 0.7686 - val_auc: 0.5845 - val_f1_score: 0.6029 - val_mcc: 0.1852\n",
            "\n",
            "Epoch 00018: val_loss did not improve from 0.67721\n",
            "Epoch 19/50\n",
            "137/137 [==============================] - 4s 26ms/step - loss: 0.6860 - accuracy: 0.5495 - precision: 0.5241 - recall: 0.5462 - auc: 0.5578 - f1_score: 0.5298 - mcc: nan - val_loss: 0.6788 - val_accuracy: 0.5777 - val_precision: 0.5224 - val_recall: 0.5289 - val_auc: 0.5882 - val_f1_score: 0.5257 - val_mcc: 0.1705\n",
            "\n",
            "Epoch 00019: val_loss did not improve from 0.67721\n",
            "Epoch 20/50\n",
            "137/137 [==============================] - 3s 26ms/step - loss: 0.6852 - accuracy: 0.5392 - precision: 0.5076 - recall: 0.4469 - auc: 0.5575 - f1_score: 0.4747 - mcc: nan - val_loss: 0.6857 - val_accuracy: 0.5338 - val_precision: 0.4832 - val_recall: 0.7727 - val_auc: 0.5729 - val_f1_score: 0.5946 - val_mcc: 0.1489\n",
            "\n",
            "Epoch 00020: val_loss did not improve from 0.67721\n",
            "Epoch 21/50\n",
            "137/137 [==============================] - 4s 26ms/step - loss: 0.6872 - accuracy: 0.5694 - precision: 0.5602 - recall: 0.5035 - auc: 0.5770 - f1_score: 0.5287 - mcc: 0.1373 - val_loss: 0.6788 - val_accuracy: 0.5594 - val_precision: 0.5018 - val_recall: 0.5744 - val_auc: 0.5737 - val_f1_score: 0.5356 - val_mcc: 0.1394\n",
            "\n",
            "Epoch 00021: val_loss did not improve from 0.67721\n",
            "Epoch 22/50\n",
            "137/137 [==============================] - 3s 24ms/step - loss: 0.6910 - accuracy: 0.5335 - precision: 0.5154 - recall: 0.5331 - auc: 0.5399 - f1_score: 0.5232 - mcc: 0.0755 - val_loss: 0.6785 - val_accuracy: 0.5466 - val_precision: 0.4893 - val_recall: 0.5661 - val_auc: 0.5711 - val_f1_score: 0.5249 - val_mcc: 0.1208\n",
            "\n",
            "Epoch 00022: val_loss did not improve from 0.67721\n",
            "Epoch 23/50\n",
            "137/137 [==============================] - 3s 20ms/step - loss: 0.6862 - accuracy: 0.5631 - precision: 0.5453 - recall: 0.5526 - auc: 0.5612 - f1_score: 0.5483 - mcc: 0.1290 - val_loss: 0.6858 - val_accuracy: 0.5448 - val_precision: 0.4906 - val_recall: 0.7562 - val_auc: 0.5718 - val_f1_score: 0.5951 - val_mcc: 0.1655\n",
            "\n",
            "Epoch 00023: val_loss did not improve from 0.67721\n",
            "Epoch 24/50\n",
            "137/137 [==============================] - 3s 20ms/step - loss: 0.6845 - accuracy: 0.5559 - precision: 0.5278 - recall: 0.5775 - auc: 0.5689 - f1_score: 0.5510 - mcc: 0.1143 - val_loss: 0.6793 - val_accuracy: 0.5722 - val_precision: 0.5144 - val_recall: 0.5909 - val_auc: 0.5879 - val_f1_score: 0.5500 - val_mcc: 0.1673\n",
            "\n",
            "Epoch 00024: val_loss did not improve from 0.67721\n",
            "Epoch 25/50\n",
            "137/137 [==============================] - 3s 20ms/step - loss: 0.6890 - accuracy: 0.5479 - precision: 0.5303 - recall: 0.5288 - auc: 0.5466 - f1_score: 0.5293 - mcc: 0.0958 - val_loss: 0.6778 - val_accuracy: 0.5704 - val_precision: 0.5123 - val_recall: 0.6033 - val_auc: 0.5857 - val_f1_score: 0.5541 - val_mcc: 0.1714\n",
            "\n",
            "Epoch 00025: val_loss did not improve from 0.67721\n",
            "Epoch 26/50\n",
            "137/137 [==============================] - 3s 19ms/step - loss: 0.6901 - accuracy: 0.5289 - precision: 0.5001 - recall: 0.4239 - auc: 0.5414 - f1_score: 0.4585 - mcc: 0.0451 - val_loss: 0.6794 - val_accuracy: 0.5740 - val_precision: 0.5236 - val_recall: 0.4132 - val_auc: 0.5882 - val_f1_score: 0.4619 - val_mcc: 0.1326\n",
            "\n",
            "Epoch 00026: val_loss did not improve from 0.67721\n",
            "Epoch 27/50\n",
            "137/137 [==============================] - 3s 21ms/step - loss: 0.6883 - accuracy: 0.5406 - precision: 0.5080 - recall: 0.4558 - auc: 0.5481 - f1_score: 0.4801 - mcc: 0.0686 - val_loss: 0.6818 - val_accuracy: 0.5484 - val_precision: 0.4931 - val_recall: 0.7397 - val_auc: 0.5774 - val_f1_score: 0.5917 - val_mcc: 0.1712\n",
            "Restoring model weights from the end of the best epoch.\n",
            "\n",
            "Epoch 00027: val_loss did not improve from 0.67721\n",
            "Epoch 00027: early stopping\n"
          ],
          "name": "stdout"
        },
        {
          "output_type": "display_data",
          "data": {
            "image/png": "[encoded data removed]",
            "text/plain": [
              "<Figure size 1440x504 with 6 Axes>"
            ]
          },
          "metadata": {
            "tags": [],
            "needs_background": "light"
          }
        }
      ]
    },
    {
      "cell_type": "markdown",
      "metadata": {
        "id": "subjective-windows",
        "papermill": {
          "duration": 0.959883,
          "end_time": "2021-05-27T17:50:48.090808",
          "exception": false,
          "start_time": "2021-05-27T17:50:47.130925",
          "status": "completed"
        },
        "tags": []
      },
      "source": [
        "Let us now test the model."
      ],
      "id": "subjective-windows"
    },
    {
      "cell_type": "code",
      "metadata": {
        "colab": {
          "base_uri": "https://localhost:8080/"
        },
        "execution": {
          "iopub.execute_input": "2021-05-27T17:50:50.006858Z",
          "iopub.status.busy": "2021-05-27T17:50:50.002039Z",
          "iopub.status.idle": "2021-05-27T17:50:50.335577Z",
          "shell.execute_reply": "2021-05-27T17:50:50.334479Z"
        },
        "id": "social-permission",
        "papermill": {
          "duration": 1.163262,
          "end_time": "2021-05-27T17:50:50.335870",
          "exception": false,
          "start_time": "2021-05-27T17:50:49.172608",
          "status": "completed"
        },
        "tags": [],
        "outputId": "183c4b95-ee6f-42ba-be75-daaacb1c8e0b"
      },
      "source": [
        "test_evals = MLP.evaluate(test_data, test_labels, verbose=_VERBOSE)\n",
        "for metrics_name, metrics_value in zip(MLP.metrics_names, test_evals):\n",
        "    print(f'Test {metrics_name}: {metrics_value}')   "
      ],
      "id": "social-permission",
      "execution_count": null,
      "outputs": [
        {
          "output_type": "stream",
          "text": [
            "18/18 [==============================] - 0s 13ms/step - loss: 0.6734 - accuracy: 0.5766 - precision: 1.0000 - recall: 0.0128 - auc: 0.5840 - f1_score: 0.0252 - mcc: nan   \n",
            "Test loss: 0.6733951568603516\n",
            "Test accuracy: 0.5766423344612122\n",
            "Test precision: 1.0\n",
            "Test recall: 0.012765957042574883\n",
            "Test auc: 0.5840256214141846\n",
            "Test f1_score: [0.02521008]\n",
            "Test mcc: nan\n"
          ],
          "name": "stdout"
        }
      ]
    },
    {
      "cell_type": "markdown",
      "metadata": {
        "id": "recent-quarterly",
        "papermill": {
          "duration": 0.702938,
          "end_time": "2021-05-27T17:50:51.764089",
          "exception": false,
          "start_time": "2021-05-27T17:50:51.061151",
          "status": "completed"
        },
        "tags": []
      },
      "source": [
        "We do the same thing for CNNs.."
      ],
      "id": "recent-quarterly"
    },
    {
      "cell_type": "code",
      "metadata": {
        "colab": {
          "base_uri": "https://localhost:8080/"
        },
        "execution": {
          "iopub.execute_input": "2021-05-27T17:50:53.167878Z",
          "iopub.status.busy": "2021-05-27T17:50:53.162811Z",
          "iopub.status.idle": "2021-05-27T17:50:53.275346Z",
          "shell.execute_reply": "2021-05-27T17:50:53.273998Z"
        },
        "id": "seven-catalyst",
        "papermill": {
          "duration": 0.817755,
          "end_time": "2021-05-27T17:50:53.275640",
          "exception": false,
          "start_time": "2021-05-27T17:50:52.457885",
          "status": "completed"
        },
        "tags": [],
        "outputId": "559b8ccd-9542-4175-dd68-737f7af31efc"
      },
      "source": [
        "CNN = models.Sequential(\n",
        "    [\n",
        "    layers.Reshape((12, -1), input_shape=(12,)),\n",
        "    layers.Conv1D(8, 8, activation='relu', name='conv_1'),\n",
        "    layers.Conv1D(8, 4, activation='relu', name='conv_2'),\n",
        "    layers.Flatten(name='flatten'),\n",
        "    layers.Dropout(0.5, name='dropout_1'),\n",
        "    layers.Dense(100, activation='relu', name='dense_1'),\n",
        "    layers.Dropout(0.5, name='dropout_2'),\n",
        "    layers.Dense(1, activation='sigmoid', name='dense_2')\n",
        "], name='CNN')\n",
        "\n",
        "CNN.compile(optimizer=optimizers.Adam(lr=_LEARNING_RATE),\n",
        "                loss=losses.BinaryCrossentropy(),\n",
        "                metrics=_METRICS)\n",
        "\n",
        "CNN.summary()"
      ],
      "id": "seven-catalyst",
      "execution_count": null,
      "outputs": [
        {
          "output_type": "stream",
          "text": [
            "Model: \"CNN\"\n",
            "_________________________________________________________________\n",
            "Layer (type)                 Output Shape              Param #   \n",
            "=================================================================\n",
            "reshape (Reshape)            (None, 12, 1)             0         \n",
            "_________________________________________________________________\n",
            "conv_1 (Conv1D)              (None, 5, 8)              72        \n",
            "_________________________________________________________________\n",
            "conv_2 (Conv1D)              (None, 2, 8)              264       \n",
            "_________________________________________________________________\n",
            "flatten (Flatten)            (None, 16)                0         \n",
            "_________________________________________________________________\n",
            "dropout_1 (Dropout)          (None, 16)                0         \n",
            "_________________________________________________________________\n",
            "dense_1 (Dense)              (None, 100)               1700      \n",
            "_________________________________________________________________\n",
            "dropout_2 (Dropout)          (None, 100)               0         \n",
            "_________________________________________________________________\n",
            "dense_2 (Dense)              (None, 1)                 101       \n",
            "=================================================================\n",
            "Total params: 2,137\n",
            "Trainable params: 2,137\n",
            "Non-trainable params: 0\n",
            "_________________________________________________________________\n"
          ],
          "name": "stdout"
        }
      ]
    },
    {
      "cell_type": "code",
      "metadata": {
        "colab": {
          "base_uri": "https://localhost:8080/",
          "height": 1000
        },
        "collapsed": true,
        "execution": {
          "iopub.execute_input": "2021-05-27T17:50:54.677498Z",
          "iopub.status.busy": "2021-05-27T17:50:54.676355Z",
          "iopub.status.idle": "2021-05-27T17:52:27.737897Z",
          "shell.execute_reply": "2021-05-27T17:52:27.739254Z"
        },
        "id": "opened-journal",
        "jupyter": {
          "outputs_hidden": true
        },
        "papermill": {
          "duration": 93.764822,
          "end_time": "2021-05-27T17:52:27.739790",
          "exception": false,
          "start_time": "2021-05-27T17:50:53.974968",
          "status": "completed"
        },
        "tags": [],
        "outputId": "165496ae-d5b0-4894-a286-78b500e43d41"
      },
      "source": [
        "CNN_training_history = CNN.fit(train_data, train_labels, batch_size=_BATCH_SIZE, \n",
        "                               epochs=_EPOCHS, validation_data=(val_data, val_labels),\n",
        "                               verbose=_VERBOSE, callbacks=get_callbacks('CNN'))\n",
        "plot_metrics(CNN_training_history, 'CNN_1')"
      ],
      "id": "opened-journal",
      "execution_count": null,
      "outputs": [
        {
          "output_type": "stream",
          "text": [
            "Epoch 1/50\n",
            "137/137 [==============================] - 8s 28ms/step - loss: 0.6970 - accuracy: 0.5354 - precision: 0.4991 - recall: 0.2330 - auc: 0.5317 - f1_score: 0.3054 - mcc: nan - val_loss: 0.6931 - val_accuracy: 0.5612 - val_precision: 0.5278 - val_recall: 0.0785 - val_auc: 0.5209 - val_f1_score: 0.1367 - val_mcc: nan\n",
            "\n",
            "Epoch 00001: val_loss improved from inf to 0.69311, saving model to ./models/CNN.h5\n",
            "Epoch 2/50\n",
            "137/137 [==============================] - 3s 19ms/step - loss: 0.7001 - accuracy: 0.5227 - precision: 0.4808 - recall: 0.1104 - auc: 0.4736 - f1_score: 0.1762 - mcc: nan - val_loss: 0.6868 - val_accuracy: 0.5631 - val_precision: 0.8000 - val_recall: 0.0165 - val_auc: 0.5100 - val_f1_score: 0.0324 - val_mcc: nan\n",
            "\n",
            "Epoch 00002: val_loss improved from 0.69311 to 0.68680, saving model to ./models/CNN.h5\n",
            "Epoch 3/50\n",
            "137/137 [==============================] - 3s 20ms/step - loss: 0.6921 - accuracy: 0.5256 - precision: 0.5111 - recall: 0.0337 - auc: 0.5039 - f1_score: 0.0610 - mcc: nan - val_loss: 0.6894 - val_accuracy: 0.5576 - val_precision: 0.0000e+00 - val_recall: 0.0000e+00 - val_auc: 0.5183 - val_f1_score: 0.0000e+00 - val_mcc: nan\n",
            "\n",
            "Epoch 00003: val_loss did not improve from 0.68680\n",
            "Epoch 4/50\n",
            "137/137 [==============================] - 3s 21ms/step - loss: 0.6925 - accuracy: 0.5157 - precision: 0.4605 - recall: 0.1081 - auc: 0.5019 - f1_score: 0.1658 - mcc: nan - val_loss: 0.6905 - val_accuracy: 0.5576 - val_precision: 0.5000 - val_recall: 0.0041 - val_auc: 0.5075 - val_f1_score: 0.0082 - val_mcc: nan\n",
            "\n",
            "Epoch 00004: val_loss did not improve from 0.68680\n",
            "Epoch 5/50\n",
            "137/137 [==============================] - 3s 20ms/step - loss: 0.6925 - accuracy: 0.5307 - precision: 0.6727 - recall: 0.0125 - auc: 0.4720 - f1_score: 0.0245 - mcc: nan - val_loss: 0.6884 - val_accuracy: 0.5558 - val_precision: 0.4000 - val_recall: 0.0083 - val_auc: 0.5190 - val_f1_score: 0.0162 - val_mcc: nan\n",
            "\n",
            "Epoch 00005: val_loss did not improve from 0.68680\n",
            "Epoch 6/50\n",
            "137/137 [==============================] - 3s 22ms/step - loss: 0.6943 - accuracy: 0.5078 - precision: 0.3686 - recall: 0.0177 - auc: 0.4814 - f1_score: 0.0335 - mcc: nan - val_loss: 0.6874 - val_accuracy: 0.5576 - val_precision: 0.0000e+00 - val_recall: 0.0000e+00 - val_auc: 0.5052 - val_f1_score: 0.0000e+00 - val_mcc: nan\n",
            "\n",
            "Epoch 00006: val_loss did not improve from 0.68680\n",
            "Epoch 7/50\n",
            "137/137 [==============================] - 3s 22ms/step - loss: 0.6925 - accuracy: 0.5219 - precision: 0.5733 - recall: 0.0230 - auc: 0.5022 - f1_score: 0.0434 - mcc: nan - val_loss: 0.6874 - val_accuracy: 0.5558 - val_precision: 0.4000 - val_recall: 0.0083 - val_auc: 0.5042 - val_f1_score: 0.0162 - val_mcc: nan\n",
            "\n",
            "Epoch 00007: val_loss did not improve from 0.68680\n",
            "Epoch 8/50\n",
            "137/137 [==============================] - 3s 25ms/step - loss: 0.6923 - accuracy: 0.5260 - precision: 0.5029 - recall: 0.0101 - auc: 0.4555 - f1_score: 0.0199 - mcc: nan - val_loss: 0.6916 - val_accuracy: 0.5576 - val_precision: 0.5000 - val_recall: 0.0372 - val_auc: 0.4988 - val_f1_score: 0.0692 - val_mcc: nan\n",
            "\n",
            "Epoch 00008: val_loss did not improve from 0.68680\n",
            "Epoch 9/50\n",
            "137/137 [==============================] - 3s 20ms/step - loss: 0.6907 - accuracy: 0.5196 - precision: 0.4556 - recall: 0.0550 - auc: 0.5068 - f1_score: 0.0975 - mcc: nan - val_loss: 0.6836 - val_accuracy: 0.5558 - val_precision: 0.4545 - val_recall: 0.0207 - val_auc: 0.5054 - val_f1_score: 0.0395 - val_mcc: nan\n",
            "\n",
            "Epoch 00009: val_loss improved from 0.68680 to 0.68356, saving model to ./models/CNN.h5\n",
            "Epoch 10/50\n",
            "137/137 [==============================] - 3s 22ms/step - loss: 0.6899 - accuracy: 0.5420 - precision: 0.5109 - recall: 0.0689 - auc: 0.5027 - f1_score: 0.1137 - mcc: nan - val_loss: 0.6888 - val_accuracy: 0.5631 - val_precision: 1.0000 - val_recall: 0.0124 - val_auc: 0.5093 - val_f1_score: 0.0245 - val_mcc: nan\n",
            "\n",
            "Epoch 00010: val_loss did not improve from 0.68356\n",
            "Epoch 11/50\n",
            "137/137 [==============================] - 3s 21ms/step - loss: 0.6919 - accuracy: 0.5290 - precision: 0.4579 - recall: 0.0058 - auc: 0.4773 - f1_score: 0.0113 - mcc: nan - val_loss: 0.6881 - val_accuracy: 0.5576 - val_precision: 0.5000 - val_recall: 0.0372 - val_auc: 0.5088 - val_f1_score: 0.0692 - val_mcc: nan\n",
            "\n",
            "Epoch 00011: val_loss did not improve from 0.68356\n",
            "Epoch 12/50\n",
            "137/137 [==============================] - 3s 21ms/step - loss: 0.6931 - accuracy: 0.5191 - precision: 0.4878 - recall: 0.0869 - auc: 0.5067 - f1_score: 0.1397 - mcc: nan - val_loss: 0.6879 - val_accuracy: 0.5558 - val_precision: 0.0000e+00 - val_recall: 0.0000e+00 - val_auc: 0.4971 - val_f1_score: 0.0000e+00 - val_mcc: nan\n",
            "\n",
            "Epoch 00012: val_loss did not improve from 0.68356\n",
            "Epoch 13/50\n",
            "137/137 [==============================] - 3s 22ms/step - loss: 0.6902 - accuracy: 0.5410 - precision: 0.0000e+00 - recall: 0.0000e+00 - auc: 0.4888 - f1_score: 0.0000e+00 - mcc: nan - val_loss: 0.6895 - val_accuracy: 0.5576 - val_precision: 0.0000e+00 - val_recall: 0.0000e+00 - val_auc: 0.5000 - val_f1_score: 0.0000e+00 - val_mcc: nan\n",
            "\n",
            "Epoch 00013: val_loss did not improve from 0.68356\n",
            "Epoch 14/50\n",
            "137/137 [==============================] - 3s 21ms/step - loss: 0.6916 - accuracy: 0.5333 - precision: 0.0000e+00 - recall: 0.0000e+00 - auc: 0.4770 - f1_score: 0.0000e+00 - mcc: nan - val_loss: 0.6895 - val_accuracy: 0.5576 - val_precision: 0.0000e+00 - val_recall: 0.0000e+00 - val_auc: 0.5000 - val_f1_score: 0.0000e+00 - val_mcc: nan\n",
            "\n",
            "Epoch 00014: val_loss did not improve from 0.68356\n",
            "Epoch 15/50\n",
            "137/137 [==============================] - 3s 22ms/step - loss: 0.6920 - accuracy: 0.5262 - precision: 0.0000e+00 - recall: 0.0000e+00 - auc: 0.4826 - f1_score: 0.0000e+00 - mcc: nan - val_loss: 0.6893 - val_accuracy: 0.5576 - val_precision: 0.0000e+00 - val_recall: 0.0000e+00 - val_auc: 0.5000 - val_f1_score: 0.0000e+00 - val_mcc: nan\n",
            "\n",
            "Epoch 00015: val_loss did not improve from 0.68356\n",
            "Epoch 16/50\n",
            "137/137 [==============================] - 3s 21ms/step - loss: 0.6926 - accuracy: 0.5197 - precision: 0.0000e+00 - recall: 0.0000e+00 - auc: 0.4905 - f1_score: 0.0000e+00 - mcc: nan - val_loss: 0.6879 - val_accuracy: 0.5576 - val_precision: 0.0000e+00 - val_recall: 0.0000e+00 - val_auc: 0.5000 - val_f1_score: 0.0000e+00 - val_mcc: nan\n",
            "\n",
            "Epoch 00016: val_loss did not improve from 0.68356\n",
            "Epoch 17/50\n",
            "137/137 [==============================] - 3s 20ms/step - loss: 0.6916 - accuracy: 0.5293 - precision: 0.0000e+00 - recall: 0.0000e+00 - auc: 0.4893 - f1_score: 0.0000e+00 - mcc: nan - val_loss: 0.6895 - val_accuracy: 0.5576 - val_precision: 0.0000e+00 - val_recall: 0.0000e+00 - val_auc: 0.5000 - val_f1_score: 0.0000e+00 - val_mcc: nan\n",
            "\n",
            "Epoch 00017: val_loss did not improve from 0.68356\n",
            "Epoch 18/50\n",
            "137/137 [==============================] - 3s 19ms/step - loss: 0.6924 - accuracy: 0.5206 - precision: 0.0000e+00 - recall: 0.0000e+00 - auc: 0.4802 - f1_score: 0.0000e+00 - mcc: nan - val_loss: 0.6883 - val_accuracy: 0.5576 - val_precision: 0.0000e+00 - val_recall: 0.0000e+00 - val_auc: 0.5000 - val_f1_score: 0.0000e+00 - val_mcc: nan\n",
            "\n",
            "Epoch 00018: val_loss did not improve from 0.68356\n",
            "Epoch 19/50\n",
            "137/137 [==============================] - 3s 20ms/step - loss: 0.6920 - accuracy: 0.5250 - precision: 0.0000e+00 - recall: 0.0000e+00 - auc: 0.4883 - f1_score: 0.0000e+00 - mcc: nan - val_loss: 0.6878 - val_accuracy: 0.5576 - val_precision: 0.0000e+00 - val_recall: 0.0000e+00 - val_auc: 0.5000 - val_f1_score: 0.0000e+00 - val_mcc: nan\n",
            "\n",
            "Epoch 00019: val_loss did not improve from 0.68356\n",
            "Epoch 20/50\n",
            "137/137 [==============================] - 3s 21ms/step - loss: 0.6915 - accuracy: 0.5297 - precision: 0.0000e+00 - recall: 0.0000e+00 - auc: 0.4933 - f1_score: 0.0000e+00 - mcc: nan - val_loss: 0.6881 - val_accuracy: 0.5576 - val_precision: 0.0000e+00 - val_recall: 0.0000e+00 - val_auc: 0.5000 - val_f1_score: 0.0000e+00 - val_mcc: nan\n",
            "\n",
            "Epoch 00020: val_loss did not improve from 0.68356\n",
            "Epoch 21/50\n",
            "137/137 [==============================] - 3s 21ms/step - loss: 0.6927 - accuracy: 0.5185 - precision: 0.0000e+00 - recall: 0.0000e+00 - auc: 0.4818 - f1_score: 0.0000e+00 - mcc: nan - val_loss: 0.6875 - val_accuracy: 0.5576 - val_precision: 0.0000e+00 - val_recall: 0.0000e+00 - val_auc: 0.5000 - val_f1_score: 0.0000e+00 - val_mcc: nan\n",
            "\n",
            "Epoch 00021: val_loss did not improve from 0.68356\n",
            "Epoch 22/50\n",
            "137/137 [==============================] - 3s 21ms/step - loss: 0.6919 - accuracy: 0.5274 - precision: 0.0000e+00 - recall: 0.0000e+00 - auc: 0.4951 - f1_score: 0.0000e+00 - mcc: nan - val_loss: 0.6885 - val_accuracy: 0.5576 - val_precision: 0.0000e+00 - val_recall: 0.0000e+00 - val_auc: 0.5000 - val_f1_score: 0.0000e+00 - val_mcc: nan\n",
            "\n",
            "Epoch 00022: val_loss did not improve from 0.68356\n",
            "Epoch 23/50\n",
            "137/137 [==============================] - 3s 21ms/step - loss: 0.6924 - accuracy: 0.5219 - precision: 0.0000e+00 - recall: 0.0000e+00 - auc: 0.4950 - f1_score: 0.0000e+00 - mcc: nan - val_loss: 0.6890 - val_accuracy: 0.5576 - val_precision: 0.0000e+00 - val_recall: 0.0000e+00 - val_auc: 0.5000 - val_f1_score: 0.0000e+00 - val_mcc: nan\n",
            "\n",
            "Epoch 00023: val_loss did not improve from 0.68356\n",
            "Epoch 24/50\n",
            "137/137 [==============================] - 3s 22ms/step - loss: 0.6924 - accuracy: 0.5211 - precision: 0.0000e+00 - recall: 0.0000e+00 - auc: 0.4827 - f1_score: 0.0000e+00 - mcc: nan - val_loss: 0.6880 - val_accuracy: 0.5576 - val_precision: 0.0000e+00 - val_recall: 0.0000e+00 - val_auc: 0.5000 - val_f1_score: 0.0000e+00 - val_mcc: nan\n",
            "\n",
            "Epoch 00024: val_loss did not improve from 0.68356\n",
            "Epoch 25/50\n",
            "137/137 [==============================] - 3s 20ms/step - loss: 0.6923 - accuracy: 0.5253 - precision: 0.0000e+00 - recall: 0.0000e+00 - auc: 0.4878 - f1_score: 0.0000e+00 - mcc: nan - val_loss: 0.6880 - val_accuracy: 0.5576 - val_precision: 0.0000e+00 - val_recall: 0.0000e+00 - val_auc: 0.5000 - val_f1_score: 0.0000e+00 - val_mcc: nan\n",
            "\n",
            "Epoch 00025: val_loss did not improve from 0.68356\n",
            "Epoch 26/50\n",
            "137/137 [==============================] - 3s 21ms/step - loss: 0.6921 - accuracy: 0.5257 - precision: 0.0000e+00 - recall: 0.0000e+00 - auc: 0.4723 - f1_score: 0.0000e+00 - mcc: nan - val_loss: 0.6877 - val_accuracy: 0.5576 - val_precision: 0.0000e+00 - val_recall: 0.0000e+00 - val_auc: 0.5000 - val_f1_score: 0.0000e+00 - val_mcc: nan\n",
            "\n",
            "Epoch 00026: val_loss did not improve from 0.68356\n",
            "Epoch 27/50\n",
            "137/137 [==============================] - 3s 21ms/step - loss: 0.6915 - accuracy: 0.5297 - precision: 0.0000e+00 - recall: 0.0000e+00 - auc: 0.4881 - f1_score: 0.0000e+00 - mcc: nan - val_loss: 0.6894 - val_accuracy: 0.5576 - val_precision: 0.0000e+00 - val_recall: 0.0000e+00 - val_auc: 0.5000 - val_f1_score: 0.0000e+00 - val_mcc: nan\n",
            "\n",
            "Epoch 00027: val_loss did not improve from 0.68356\n",
            "Epoch 28/50\n",
            "137/137 [==============================] - 3s 25ms/step - loss: 0.6911 - accuracy: 0.5357 - precision: 0.0000e+00 - recall: 0.0000e+00 - auc: 0.4958 - f1_score: 0.0000e+00 - mcc: nan - val_loss: 0.6901 - val_accuracy: 0.5576 - val_precision: 0.0000e+00 - val_recall: 0.0000e+00 - val_auc: 0.5000 - val_f1_score: 0.0000e+00 - val_mcc: nan\n",
            "\n",
            "Epoch 00028: val_loss did not improve from 0.68356\n",
            "Epoch 29/50\n",
            "137/137 [==============================] - 3s 19ms/step - loss: 0.6919 - accuracy: 0.5301 - precision: 0.0000e+00 - recall: 0.0000e+00 - auc: 0.4797 - f1_score: 0.0000e+00 - mcc: nan - val_loss: 0.6891 - val_accuracy: 0.5576 - val_precision: 0.0000e+00 - val_recall: 0.0000e+00 - val_auc: 0.5000 - val_f1_score: 0.0000e+00 - val_mcc: nan\n",
            "Restoring model weights from the end of the best epoch.\n",
            "\n",
            "Epoch 00029: val_loss did not improve from 0.68356\n",
            "Epoch 00029: early stopping\n"
          ],
          "name": "stdout"
        },
        {
          "output_type": "display_data",
          "data": {
            "image/png": "[encoded data removed]",
            "text/plain": [
              "<Figure size 1440x504 with 6 Axes>"
            ]
          },
          "metadata": {
            "tags": [],
            "needs_background": "light"
          }
        }
      ]
    },
    {
      "cell_type": "code",
      "metadata": {
        "colab": {
          "base_uri": "https://localhost:8080/"
        },
        "execution": {
          "iopub.execute_input": "2021-05-27T17:52:30.436993Z",
          "iopub.status.busy": "2021-05-27T17:52:30.435701Z",
          "iopub.status.idle": "2021-05-27T17:52:30.800941Z",
          "shell.execute_reply": "2021-05-27T17:52:30.799847Z"
        },
        "id": "educational-alfred",
        "papermill": {
          "duration": 1.722495,
          "end_time": "2021-05-27T17:52:30.801679",
          "exception": false,
          "start_time": "2021-05-27T17:52:29.079184",
          "status": "completed"
        },
        "tags": [],
        "outputId": "193b6625-d76c-41a1-824e-1158e0343c52"
      },
      "source": [
        "test_evals = CNN.evaluate(test_data, test_labels, verbose=_VERBOSE)\n",
        "for metrics_name, metrics_value in zip(CNN.metrics_names, test_evals):\n",
        "    print(f'Test {metrics_name}: {metrics_value}')   "
      ],
      "id": "educational-alfred",
      "execution_count": null,
      "outputs": [
        {
          "output_type": "stream",
          "text": [
            "18/18 [==============================] - 0s 14ms/step - loss: 0.6829 - accuracy: 0.5730 - precision: 0.5556 - recall: 0.0213 - auc: 0.5076 - f1_score: 0.0410 - mcc: nan     \n",
            "Test loss: 0.6828963160514832\n",
            "Test accuracy: 0.5729926824569702\n",
            "Test precision: 0.5555555820465088\n",
            "Test recall: 0.021276595070958138\n",
            "Test auc: 0.5076337456703186\n",
            "Test f1_score: [0.04098361]\n",
            "Test mcc: nan\n"
          ],
          "name": "stdout"
        }
      ]
    },
    {
      "cell_type": "markdown",
      "metadata": {
        "papermill": {
          "duration": 1.3188,
          "end_time": "2021-05-27T17:52:33.531244",
          "exception": false,
          "start_time": "2021-05-27T17:52:32.212444",
          "status": "completed"
        },
        "tags": [],
        "id": "healthy-boards"
      },
      "source": [
        "Let us try the grid search optimization to find the maximum possible NN performance.."
      ],
      "id": "healthy-boards"
    },
    {
      "cell_type": "code",
      "metadata": {
        "execution": {
          "iopub.execute_input": "2021-05-27T17:52:36.202548Z",
          "iopub.status.busy": "2021-05-27T17:52:36.201258Z",
          "iopub.status.idle": "2021-05-27T17:52:36.205839Z",
          "shell.execute_reply": "2021-05-27T17:52:36.206857Z"
        },
        "papermill": {
          "duration": 1.351584,
          "end_time": "2021-05-27T17:52:36.207159",
          "exception": false,
          "start_time": "2021-05-27T17:52:34.855575",
          "status": "completed"
        },
        "tags": [],
        "id": "significant-angel"
      },
      "source": [
        "if _DO_GRIDSEARCH_OLD_DATA:\n",
        "    X = np.concatenate([train_data, val_data])\n",
        "    Y = np.concatenate([train_labels, val_labels])"
      ],
      "id": "significant-angel",
      "execution_count": null,
      "outputs": []
    },
    {
      "cell_type": "code",
      "metadata": {
        "execution": {
          "iopub.execute_input": "2021-05-27T17:52:38.878834Z",
          "iopub.status.busy": "2021-05-27T17:52:38.872886Z",
          "iopub.status.idle": "2021-05-27T17:52:38.887591Z",
          "shell.execute_reply": "2021-05-27T17:52:38.886307Z"
        },
        "papermill": {
          "duration": 1.358181,
          "end_time": "2021-05-27T17:52:38.887848",
          "exception": false,
          "start_time": "2021-05-27T17:52:37.529667",
          "status": "completed"
        },
        "tags": [],
        "id": "threaded-clause"
      },
      "source": [
        "if _DO_GRIDSEARCH_OLD_DATA:\n",
        "    def create_MLP(num_hidden_layers, add_dropout, lr, batch_size):\n",
        "        model = models.Sequential(name='MLP')\n",
        "        model.add(layers.Dense(30, input_dim=12, activation='relu', name='layer_0'))\n",
        "        num_inside_layers = num_hidden_layers + int(add_dropout)\n",
        "        for i in range(num_inside_layers):\n",
        "            if add_dropout and i == (num_inside_layers // 2):\n",
        "                model.add(layers.Dropout(0.5, name=f'layer_{i + 1}'))\n",
        "            else:\n",
        "                model.add(layers.Dense(50, activation='relu', name=f'layer_{i + 1}'))\n",
        "        model.add(layers.Dense(1, activation='sigmoid', name='final'))\n",
        "        model.compile(optimizer=optimizers.Adam(lr=lr), \n",
        "                      loss=losses.BinaryCrossentropy(), \n",
        "                      metrics=_METRICS)\n",
        "\n",
        "        return model\n",
        "\n",
        "    model = KerasClassifier(build_fn=create_MLP, verbose=0)\n",
        "    # define the grid search parameters\n",
        "    grid_num_hidden_layers = [2, 3]\n",
        "    dropouts = [True]\n",
        "    lrs = [0.0001, 0.001, 0.01, 0.1]\n",
        "    batch_sizes = [30, 50, 100]\n",
        "    epochs = [60, 80]\n",
        "    param_grid = dict(batch_size=batch_sizes, num_hidden_layers=grid_num_hidden_layers, \n",
        "                      add_dropout=dropouts, lr=lrs, epochs=epochs)\n",
        "    grid = GridSearchCV(estimator=model, scoring='roc_auc', param_grid=param_grid, n_jobs=1, cv=3, verbose=2, error_score=\"raise\")\n",
        "    grid_result = grid.fit(X, Y)\n",
        "    best_model = grid_result.best_estimator_.model\n",
        "    best_model.save('models/best_MLP_old.h5')\n",
        "    # summarize results\n",
        "    print(\"Best: %f using %s\" % (grid_result.best_score_, grid_result.best_params_))\n",
        "    means = grid_result.cv_results_['mean_test_score']\n",
        "    stds = grid_result.cv_results_['std_test_score']\n",
        "    params = grid_result.cv_results_['params']\n",
        "    for mean, stdev, param in zip(means, stds, params):\n",
        "        print(\"%f (%f) with: %r\" % (mean, stdev, param))\n",
        "    print(grid_result.best_estimator_.model.summary())"
      ],
      "id": "threaded-clause",
      "execution_count": null,
      "outputs": []
    },
    {
      "cell_type": "code",
      "metadata": {
        "execution": {
          "iopub.execute_input": "2021-05-27T17:52:41.587160Z",
          "iopub.status.busy": "2021-05-27T17:52:41.582109Z",
          "iopub.status.idle": "2021-05-27T17:52:41.812967Z",
          "shell.execute_reply": "2021-05-27T17:52:41.811852Z"
        },
        "papermill": {
          "duration": 1.581576,
          "end_time": "2021-05-27T17:52:41.813610",
          "exception": false,
          "start_time": "2021-05-27T17:52:40.232034",
          "status": "completed"
        },
        "tags": [],
        "id": "adopted-thing",
        "outputId": "cb1411dc-3fe7-46d7-b239-8a44c3e0d7bd"
      },
      "source": [
        "best_MLP_old = load_model('models/best_MLP_old.h5', \n",
        "                          custom_objects = {\n",
        "                              'f1_score': tfa.metrics.F1Score(name='f1_score', num_classes=1, threshold=0.5),\n",
        "                              'mcc': mcc\n",
        "                          })\n",
        "best_MLP_old.compile(optimizer=optimizers.Adam(lr=_LEARNING_RATE), \n",
        "                 loss=losses.BinaryCrossentropy(),\n",
        "                 metrics=_METRICS)\n",
        "best_MLP_old.summary()"
      ],
      "id": "adopted-thing",
      "execution_count": null,
      "outputs": [
        {
          "output_type": "stream",
          "text": [
            "Model: \"MLP\"\n",
            "_________________________________________________________________\n",
            "Layer (type)                 Output Shape              Param #   \n",
            "=================================================================\n",
            "layer_0 (Dense)              (None, 30)                390       \n",
            "_________________________________________________________________\n",
            "layer_1 (Dense)              (None, 50)                1550      \n",
            "_________________________________________________________________\n",
            "layer_2 (Dropout)            (None, 50)                0         \n",
            "_________________________________________________________________\n",
            "layer_3 (Dense)              (None, 50)                2550      \n",
            "_________________________________________________________________\n",
            "final (Dense)                (None, 1)                 51        \n",
            "=================================================================\n",
            "Total params: 4,541\n",
            "Trainable params: 4,541\n",
            "Non-trainable params: 0\n",
            "_________________________________________________________________\n"
          ],
          "name": "stdout"
        }
      ]
    },
    {
      "cell_type": "code",
      "metadata": {
        "execution": {
          "iopub.execute_input": "2021-05-27T17:52:44.517635Z",
          "iopub.status.busy": "2021-05-27T17:52:44.516515Z",
          "iopub.status.idle": "2021-05-27T17:52:46.187872Z",
          "shell.execute_reply": "2021-05-27T17:52:46.184798Z"
        },
        "papermill": {
          "duration": 3.003472,
          "end_time": "2021-05-27T17:52:46.188147",
          "exception": false,
          "start_time": "2021-05-27T17:52:43.184675",
          "status": "completed"
        },
        "tags": [],
        "id": "necessary-seeker",
        "outputId": "77e2e5c6-ca68-4b4f-f47d-0a247f01c649"
      },
      "source": [
        "test_evals = best_MLP_old.evaluate(test_data, test_labels, verbose=_VERBOSE)\n",
        "for metrics_name, metrics_value in zip(best_MLP_old.metrics_names, test_evals):\n",
        "    print(f'Test {metrics_name}: {metrics_value}')     "
      ],
      "id": "necessary-seeker",
      "execution_count": null,
      "outputs": [
        {
          "output_type": "stream",
          "text": [
            "18/18 [==============================] - 2s 13ms/step - loss: 0.6784 - accuracy: 0.5761 - precision: 0.5179 - recall: 0.1218 - auc: 0.5305 - f1_score: 0.1931 - mcc: 0.0913\n",
            "Test loss: 0.6744797229766846\n",
            "Test accuracy: 0.5793795585632324\n",
            "Test precision: 0.5286624431610107\n",
            "Test recall: 0.1765957474708557\n",
            "Test auc: 0.5430256128311157\n",
            "Test f1_score: [0.2647528]\n",
            "Test mcc: 0.08297319710254669\n"
          ],
          "name": "stdout"
        }
      ]
    },
    {
      "cell_type": "code",
      "metadata": {
        "execution": {
          "iopub.execute_input": "2021-05-27T17:52:48.895252Z",
          "iopub.status.busy": "2021-05-27T17:52:48.884244Z",
          "iopub.status.idle": "2021-05-27T17:52:48.910584Z",
          "shell.execute_reply": "2021-05-27T17:52:48.909492Z"
        },
        "papermill": {
          "duration": 1.367788,
          "end_time": "2021-05-27T17:52:48.910810",
          "exception": false,
          "start_time": "2021-05-27T17:52:47.543022",
          "status": "completed"
        },
        "tags": [],
        "id": "united-worse"
      },
      "source": [
        "if _DO_GRIDSEARCH_OLD_DATA:\n",
        "    def create_CNN(num_conv_layers, num_hidden_layers, num_out_filters, kernel_size, \n",
        "                   add_dropout, lr, batch_size):\n",
        "        model = models.Sequential(name='CNN')\n",
        "        model.add(layers.Reshape((12, -1), input_shape=(12,), name='reshape'))\n",
        "        for i in range(num_conv_layers):\n",
        "            model.add(\n",
        "                layers.Conv1D(num_out_filters*(i + 1), kernel_size, \n",
        "                              activation='relu', \n",
        "                              name=f'layer_{i + 1}'))\n",
        "        model.add(layers.Flatten(name='flatten')),\n",
        "        for i in range(num_hidden_layers):\n",
        "            model.add(layers.Dense(50, activation='relu', name=f'layer_{num_conv_layers + i + 1}'))\n",
        "        if add_dropout:\n",
        "            model.add(layers.Dropout(0.5, name='dropout'))\n",
        "        model.add(layers.Dense(10, activation='relu', name='pre-final'))\n",
        "        model.add(layers.Dense(1, activation='sigmoid', name='final'))\n",
        "\n",
        "        model.compile(optimizer=optimizers.Adam(lr=lr), \n",
        "                      loss=losses.BinaryCrossentropy(),\n",
        "                      metrics=_METRICS)\n",
        "        return model\n",
        "\n",
        "    model = KerasClassifier(build_fn=create_CNN, verbose=0)\n",
        "    # define the grid search parameters\n",
        "    grid_num_conv_layers = [2]\n",
        "    grid_num_hidden_layers = [1, 2]\n",
        "    dropouts = [True]\n",
        "    filter_sizes = [4, 8]\n",
        "    kernel_sizes = [3, 6]\n",
        "    lrs = [0.0001, 0.001, 0.01, 0.1]\n",
        "    batch_sizes = [50, 100]\n",
        "    epochs = [60, 70]\n",
        "    param_grid = dict(batch_size=batch_sizes, num_conv_layers=grid_num_conv_layers, num_hidden_layers=grid_num_hidden_layers,\n",
        "                      add_dropout=dropouts, num_out_filters=filter_sizes, kernel_size=kernel_sizes, lr=lrs, epochs=epochs)\n",
        "    grid = GridSearchCV(estimator=model, scoring='roc_auc', cv=3, param_grid=param_grid, n_jobs=1, verbose=2, error_score=\"raise\")\n",
        "    grid_result = grid.fit(X, Y)\n",
        "    best_model = grid_result.best_estimator_.model\n",
        "    best_model.save('models/best_CNN_old.h5')\n",
        "    # summarize results\n",
        "    print(\"Best: %f using %s\" % (grid_result.best_score_, grid_result.best_params_))\n",
        "    means = grid_result.cv_results_['mean_test_score']\n",
        "    stds = grid_result.cv_results_['std_test_score']\n",
        "    params = grid_result.cv_results_['params']\n",
        "    for mean, stdev, param in zip(means, stds, params):\n",
        "        print(\"%f (%f) with: %r\" % (mean, stdev, param))\n",
        "    print(grid_result.best_estimator_.model.summary())"
      ],
      "id": "united-worse",
      "execution_count": null,
      "outputs": []
    },
    {
      "cell_type": "code",
      "metadata": {
        "execution": {
          "iopub.execute_input": "2021-05-27T17:52:51.667267Z",
          "iopub.status.busy": "2021-05-27T17:52:51.664189Z",
          "iopub.status.idle": "2021-05-27T17:52:51.943234Z",
          "shell.execute_reply": "2021-05-27T17:52:51.941921Z"
        },
        "papermill": {
          "duration": 1.679521,
          "end_time": "2021-05-27T17:52:51.943559",
          "exception": false,
          "start_time": "2021-05-27T17:52:50.264038",
          "status": "completed"
        },
        "tags": [],
        "id": "collected-instrumentation",
        "outputId": "475e61be-4129-4bb6-dcac-ca29f1153992"
      },
      "source": [
        "best_CNN_old = load_model('models/best_CNN_old.h5', \n",
        "                          custom_objects = {\n",
        "                              'f1_score': tfa.metrics.F1Score(name='f1_score', num_classes=1, threshold=0.5),\n",
        "                              'mcc': mcc\n",
        "                          })\n",
        "best_CNN_old.compile(optimizer=optimizers.Adam(lr=_LEARNING_RATE), \n",
        "                 loss=losses.BinaryCrossentropy(),\n",
        "                 metrics=_METRICS)\n",
        "best_CNN_old.summary()"
      ],
      "id": "collected-instrumentation",
      "execution_count": null,
      "outputs": [
        {
          "output_type": "stream",
          "text": [
            "Model: \"CNN\"\n",
            "_________________________________________________________________\n",
            "Layer (type)                 Output Shape              Param #   \n",
            "=================================================================\n",
            "reshape (Reshape)            (None, 12, 1)             0         \n",
            "_________________________________________________________________\n",
            "layer_1 (Conv1D)             (None, 7, 8)              56        \n",
            "_________________________________________________________________\n",
            "layer_2 (Conv1D)             (None, 2, 16)             784       \n",
            "_________________________________________________________________\n",
            "flatten (Flatten)            (None, 32)                0         \n",
            "_________________________________________________________________\n",
            "layer_3 (Dense)              (None, 50)                1650      \n",
            "_________________________________________________________________\n",
            "dropout (Dropout)            (None, 50)                0         \n",
            "_________________________________________________________________\n",
            "pre-final (Dense)            (None, 10)                510       \n",
            "_________________________________________________________________\n",
            "final (Dense)                (None, 1)                 11        \n",
            "=================================================================\n",
            "Total params: 3,011\n",
            "Trainable params: 3,011\n",
            "Non-trainable params: 0\n",
            "_________________________________________________________________\n"
          ],
          "name": "stdout"
        }
      ]
    },
    {
      "cell_type": "code",
      "metadata": {
        "execution": {
          "iopub.execute_input": "2021-05-27T17:52:54.637178Z",
          "iopub.status.busy": "2021-05-27T17:52:54.636067Z",
          "iopub.status.idle": "2021-05-27T17:52:56.388063Z",
          "shell.execute_reply": "2021-05-27T17:52:56.386965Z"
        },
        "papermill": {
          "duration": 3.096618,
          "end_time": "2021-05-27T17:52:56.388356",
          "exception": false,
          "start_time": "2021-05-27T17:52:53.291738",
          "status": "completed"
        },
        "tags": [],
        "id": "adapted-microwave",
        "outputId": "acb78422-daf3-4991-d224-9fe622c9261f"
      },
      "source": [
        "test_evals = best_CNN_old.evaluate(test_data, test_labels, verbose=_VERBOSE)\n",
        "for metrics_name, metrics_value in zip(best_CNN_old.metrics_names, test_evals):\n",
        "    print(f'Test {metrics_name}: {metrics_value}')     "
      ],
      "id": "adapted-microwave",
      "execution_count": null,
      "outputs": [
        {
          "output_type": "stream",
          "text": [
            "18/18 [==============================] - 2s 15ms/step - loss: 0.7001 - accuracy: 0.5709 - precision: 0.4993 - recall: 0.2412 - auc: 0.5449 - f1_score: 0.3236 - mcc: 0.0469\n",
            "Test loss: 0.6892246603965759\n",
            "Test accuracy: 0.5699513554573059\n",
            "Test precision: 0.4975247383117676\n",
            "Test recall: 0.2851063907146454\n",
            "Test auc: 0.5520056486129761\n",
            "Test f1_score: [0.3624887]\n",
            "Test mcc: 0.05476408451795578\n"
          ],
          "name": "stdout"
        }
      ]
    },
    {
      "cell_type": "markdown",
      "metadata": {
        "papermill": {
          "duration": 1.389401,
          "end_time": "2021-05-27T17:52:59.136531",
          "exception": false,
          "start_time": "2021-05-27T17:52:57.747130",
          "status": "completed"
        },
        "tags": [],
        "id": "interstate-motor"
      },
      "source": [
        "Finally let us plot the performance of optimized networks.."
      ],
      "id": "interstate-motor"
    },
    {
      "cell_type": "code",
      "metadata": {
        "execution": {
          "iopub.execute_input": "2021-05-27T17:53:01.857044Z",
          "iopub.status.busy": "2021-05-27T17:53:01.851027Z",
          "iopub.status.idle": "2021-05-27T17:53:27.495116Z",
          "shell.execute_reply": "2021-05-27T17:53:27.496193Z"
        },
        "papermill": {
          "duration": 27.014892,
          "end_time": "2021-05-27T17:53:27.496534",
          "exception": false,
          "start_time": "2021-05-27T17:53:00.481642",
          "status": "completed"
        },
        "tags": [],
        "id": "copyrighted-trade",
        "outputId": "0b41c1f8-003f-44a4-8592-2aec61a45a5a"
      },
      "source": [
        "# Choose the metric to plot\n",
        "metric_to_plot = 'auc'  # possible options are: accuracy, precision, recall, auc, f1_score, mcc\n",
        "_BOOTSTRAP_N = 50\n",
        "_SAMPLES_PER_BOOTSTRAP = 400\n",
        "\n",
        "def get_bootstrap_statistics(model, test_data, test_labels, metrics, \n",
        "                             n_bootstraps, n_samples):\n",
        "    # This function evaluates the model performance based on bootstrap \n",
        "    # statistics\n",
        "    evals = []\n",
        "    for _ in range(n_bootstraps):\n",
        "        sub_data, sub_target = resample(test_data, test_labels, n_samples=n_samples)\n",
        "        sub_eval = model.evaluate(sub_data, sub_target, verbose=0)\n",
        "        evals.append(sub_eval[model.metrics_names.index(metrics)])\n",
        "\n",
        "    return np.mean(evals), np.std(evals) * 2\n",
        "\n",
        "\n",
        "models_dict = {'MLP': best_MLP_old, 'CNN': best_CNN_old}\n",
        "model_metrics = {}\n",
        "\n",
        "# Computing the metric lncRNA models\n",
        "for model_name, model in models_dict.items():\n",
        "    model_metrics[model_name] = get_bootstrap_statistics(\n",
        "        model, test_data, test_labels, metric_to_plot, _BOOTSTRAP_N, \n",
        "        _SAMPLES_PER_BOOTSTRAP\n",
        "    )\n",
        "\n",
        "f, ax = plt.subplots(1, 1, figsize=(10, 6))\n",
        "\n",
        "ax.bar(range(len(model_metrics)), \n",
        "          [mean for model_name, (mean, _) in model_metrics.items()], \n",
        "          yerr=[err for model_name, (_, err) in model_metrics.items()], \n",
        "          align='center', alpha=0.5, ecolor='black', capsize=10)\n",
        "ax.set_ylabel(f'{metric_to_plot} score')\n",
        "ax.set_xticks(range(len(model_metrics)))\n",
        "ax.set_xticklabels([model_name for model_name, _ in model_metrics.items()])\n",
        "ax.set_title('Performance comparison of models, HMM data, old negative data')\n",
        "ax.yaxis.grid(True)\n",
        "ax.set_ylim([0, 1])\n",
        "\n",
        "# Make some labels.\n",
        "for bar, (mean, std) in zip(ax.patches, model_metrics.values()):\n",
        "    ax.annotate(fr'${mean:.2f} \\pm {std:.2f}$', \n",
        "                   (bar.get_x() + bar.get_width() / 2, \n",
        "                    0), ha='center', va='center',\n",
        "                   size=10, xytext=(0, 8),\n",
        "                   textcoords='offset points')\n",
        "\n",
        "plt.savefig('./figs/optimized_model_comparison_old.png', dpi=300)"
      ],
      "id": "copyrighted-trade",
      "execution_count": null,
      "outputs": [
        {
          "output_type": "display_data",
          "data": {
            "image/png": "[encoded data removed]",
            "text/plain": [
              "<Figure size 720x432 with 1 Axes>"
            ]
          },
          "metadata": {
            "tags": [],
            "needs_background": "light"
          }
        }
      ]
    },
    {
      "cell_type": "markdown",
      "metadata": {
        "id": "documented-bracket",
        "papermill": {
          "duration": 1.532209,
          "end_time": "2021-05-27T17:53:30.968324",
          "exception": false,
          "start_time": "2021-05-27T17:53:29.436115",
          "status": "completed"
        },
        "tags": []
      },
      "source": [
        "As you may have noticed, the NN training does not go well - the loss does not decrease through the training epochs. One of the reasons to this problem may be the faulty negative data that we used from the original paper. To tackle this issue we decided to adapt the [Zhang et al. 2020](https://bmcbioinformatics.biomedcentral.com/articles/10.1186/s12859-020-03864-0) approach, where they used random promoter regions as negative data."
      ],
      "id": "documented-bracket"
    },
    {
      "cell_type": "markdown",
      "metadata": {
        "papermill": {
          "duration": 1.742304,
          "end_time": "2021-05-27T17:53:34.519520",
          "exception": false,
          "start_time": "2021-05-27T17:53:32.777216",
          "status": "completed"
        },
        "tags": [],
        "id": "adjacent-installation"
      },
      "source": [
        "### Playing with the new negative data\n",
        "\n",
        "We will use [Ensembl](http://www.ensembl.org/index.html) site to obtain the full list of human promoters. Let us load the file from the copy on a Google Drive."
      ],
      "id": "adjacent-installation"
    },
    {
      "cell_type": "code",
      "metadata": {
        "colab": {
          "base_uri": "https://localhost:8080/",
          "height": 289
        },
        "execution": {
          "iopub.execute_input": "2021-05-27T17:53:37.490413Z",
          "iopub.status.busy": "2021-05-27T17:53:37.483870Z",
          "iopub.status.idle": "2021-05-27T17:53:37.534380Z",
          "shell.execute_reply": "2021-05-27T17:53:37.533250Z"
        },
        "id": "comparative-league",
        "papermill": {
          "duration": 1.432504,
          "end_time": "2021-05-27T17:53:37.534633",
          "exception": false,
          "start_time": "2021-05-27T17:53:36.102129",
          "status": "completed"
        },
        "tags": [],
        "outputId": "6f1866a1-0c9f-4176-fe90-b3a82a49bfa4"
      },
      "source": [
        "if not os.path.exists('./mart_export.txt'):\n",
        "    raise FileNotFoundError('Please put mart_export.txt in the same folder as the jupyter notebook')    \n",
        "\n",
        "promoters = pd.read_csv('mart_export.txt')\n",
        "print(f'Overall we have {promoters.shape[0]} promoters')\n",
        "promoters.head()"
      ],
      "id": "comparative-league",
      "execution_count": 8,
      "outputs": [
        {
          "output_type": "stream",
          "name": "stdout",
          "text": [
            "Downloading...\n",
            "From: https://drive.google.com/uc?id=1OzNuYy08LoNZqKwK7dqY-Wwp9G70OGH4\n",
            "To: /content/mart_export.txt.gz\n",
            "\r  0% 0.00/298k [00:00<?, ?B/s]\r100% 298k/298k [00:00<00:00, 52.2MB/s]\n",
            "Overall we have 36597 promoters\n"
          ]
        },
        {
          "output_type": "execute_result",
          "data": {
            "text/html": [
              "<div>\n",
              "<style scoped>\n",
              "    .dataframe tbody tr th:only-of-type {\n",
              "        vertical-align: middle;\n",
              "    }\n",
              "\n",
              "    .dataframe tbody tr th {\n",
              "        vertical-align: top;\n",
              "    }\n",
              "\n",
              "    .dataframe thead th {\n",
              "        text-align: right;\n",
              "    }\n",
              "</style>\n",
              "<table border=\"1\" class=\"dataframe\">\n",
              "  <thead>\n",
              "    <tr style=\"text-align: right;\">\n",
              "      <th></th>\n",
              "      <th>Chromosome/scaffold name</th>\n",
              "      <th>Start (bp)</th>\n",
              "      <th>End (bp)</th>\n",
              "      <th>Feature type</th>\n",
              "    </tr>\n",
              "  </thead>\n",
              "  <tbody>\n",
              "    <tr>\n",
              "      <th>0</th>\n",
              "      <td>19</td>\n",
              "      <td>11557400</td>\n",
              "      <td>11561001</td>\n",
              "      <td>Promoter</td>\n",
              "    </tr>\n",
              "    <tr>\n",
              "      <th>1</th>\n",
              "      <td>7</td>\n",
              "      <td>150685000</td>\n",
              "      <td>150688401</td>\n",
              "      <td>Promoter</td>\n",
              "    </tr>\n",
              "    <tr>\n",
              "      <th>2</th>\n",
              "      <td>4</td>\n",
              "      <td>64408801</td>\n",
              "      <td>64409600</td>\n",
              "      <td>Promoter</td>\n",
              "    </tr>\n",
              "    <tr>\n",
              "      <th>3</th>\n",
              "      <td>7</td>\n",
              "      <td>33107400</td>\n",
              "      <td>33110600</td>\n",
              "      <td>Promoter</td>\n",
              "    </tr>\n",
              "    <tr>\n",
              "      <th>4</th>\n",
              "      <td>16</td>\n",
              "      <td>29108800</td>\n",
              "      <td>29109001</td>\n",
              "      <td>Promoter</td>\n",
              "    </tr>\n",
              "  </tbody>\n",
              "</table>\n",
              "</div>"
            ],
            "text/plain": [
              "  Chromosome/scaffold name  Start (bp)   End (bp) Feature type\n",
              "0                       19    11557400   11561001     Promoter\n",
              "1                        7   150685000  150688401     Promoter\n",
              "2                        4    64408801   64409600     Promoter\n",
              "3                        7    33107400   33110600     Promoter\n",
              "4                       16    29108800   29109001     Promoter"
            ]
          },
          "metadata": {},
          "execution_count": 8
        }
      ]
    },
    {
      "cell_type": "markdown",
      "metadata": {
        "id": "romance-cooperative",
        "papermill": {
          "duration": 1.362324,
          "end_time": "2021-05-27T17:53:40.280707",
          "exception": false,
          "start_time": "2021-05-27T17:53:38.918383",
          "status": "completed"
        },
        "tags": []
      },
      "source": [
        "Let us check the length distribution of available promoters and the positive data regions."
      ],
      "id": "romance-cooperative"
    },
    {
      "cell_type": "code",
      "metadata": {
        "colab": {
          "base_uri": "https://localhost:8080/",
          "height": 400
        },
        "execution": {
          "iopub.execute_input": "2021-05-27T17:53:42.984140Z",
          "iopub.status.busy": "2021-05-27T17:53:42.976939Z",
          "iopub.status.idle": "2021-05-27T17:53:46.578446Z",
          "shell.execute_reply": "2021-05-27T17:53:46.577087Z"
        },
        "id": "inappropriate-cambridge",
        "papermill": {
          "duration": 4.953248,
          "end_time": "2021-05-27T17:53:46.578791",
          "exception": false,
          "start_time": "2021-05-27T17:53:41.625543",
          "status": "completed"
        },
        "tags": [],
        "outputId": "8294ccfd-8814-4671-c696-0d3fc6da8593"
      },
      "source": [
        "f, ax = plt.subplots(figsize=(20, 7))\n",
        "ax.hist((promoters['End (bp)'] - promoters['Start (bp)']), bins=100, label='negative (promoter) data')\n",
        "lengths = pos_data.index.get_level_values(2) - pos_data.index.get_level_values(1)\n",
        "ax.hist(lengths, bins=100, label='positive data')\n",
        "ax.set_xlabel('Region length')\n",
        "ax.set_ylabel('Occurrences')\n",
        "ax.set_title('The region length distribution')\n",
        "plt.yscale('log')\n",
        "ax.legend();\n",
        "plt.savefig('./figs/pos_neg_data_len_dist_2.png', dpi=300)"
      ],
      "id": "inappropriate-cambridge",
      "execution_count": null,
      "outputs": [
        {
          "output_type": "display_data",
          "data": {
            "image/png": "[encoded data removed]",
            "text/plain": [
              "<Figure size 1440x504 with 1 Axes>"
            ]
          },
          "metadata": {
            "tags": [],
            "needs_background": "light"
          }
        }
      ]
    },
    {
      "cell_type": "markdown",
      "metadata": {
        "id": "first-plate",
        "papermill": {
          "duration": 1.580645,
          "end_time": "2021-05-27T17:53:49.762311",
          "exception": false,
          "start_time": "2021-05-27T17:53:48.181666",
          "status": "completed"
        },
        "tags": []
      },
      "source": [
        "As you may have noticed the length distribution between the negative and positive data is different. To match their lengths, we will filter out too long regions from negative data (> 2000 bp), we also drop all regions from chromosome X (as it was done in [Zhang et al. 2020](https://bmcbioinformatics.biomedcentral.com/articles/10.1186/s12859-020-03864-0)). Additionally we will filter out regions that overlap with positive data regions.\n",
        "\n",
        "The final result will be saved under .bed file which we will use to obtain the ChIP-seq count data, which finally be used as negative data."
      ],
      "id": "first-plate"
    },
    {
      "cell_type": "code",
      "metadata": {
        "colab": {
          "base_uri": "https://localhost:8080/"
        },
        "execution": {
          "iopub.execute_input": "2021-05-27T17:53:52.830531Z",
          "iopub.status.busy": "2021-05-27T17:53:52.829244Z",
          "iopub.status.idle": "2021-05-27T17:53:52.849523Z",
          "shell.execute_reply": "2021-05-27T17:53:52.850545Z"
        },
        "id": "significant-postcard",
        "papermill": {
          "duration": 1.593955,
          "end_time": "2021-05-27T17:53:52.850850",
          "exception": false,
          "start_time": "2021-05-27T17:53:51.256895",
          "status": "completed"
        },
        "tags": [],
        "outputId": "eabb06d6-9bdd-4d6e-e97c-0b758c97cee4"
      },
      "source": [
        "old_len = len(promoters)\n",
        "filtered_promoters = \\\n",
        "    promoters[lambda x: ((x['End (bp)'] - x['Start (bp)']) < 2000) & (x['Chromosome/scaffold name'] != 'X')]\n",
        "print(f'After first round of filtering, we decreased number of reginos from {old_len} '\n",
        "      f'to {filtered_promoters.shape[0]}.')"
      ],
      "id": "significant-postcard",
      "execution_count": null,
      "outputs": [
        {
          "output_type": "stream",
          "text": [
            "After first round of filtering, we decreased number of reginos from 36597 to 20275.\n"
          ],
          "name": "stdout"
        }
      ]
    },
    {
      "cell_type": "markdown",
      "metadata": {
        "id": "armed-overhead",
        "papermill": {
          "duration": 1.50795,
          "end_time": "2021-05-27T17:53:55.882937",
          "exception": false,
          "start_time": "2021-05-27T17:53:54.374987",
          "status": "completed"
        },
        "tags": []
      },
      "source": [
        "The following cell may take some time to compute.."
      ],
      "id": "armed-overhead"
    },
    {
      "cell_type": "code",
      "metadata": {
        "execution": {
          "iopub.execute_input": "2021-05-27T17:54:00.117105Z",
          "iopub.status.busy": "2021-05-27T17:54:00.115797Z",
          "iopub.status.idle": "2021-05-27T17:54:00.129432Z",
          "shell.execute_reply": "2021-05-27T17:54:00.130300Z"
        },
        "id": "fallen-comfort",
        "papermill": {
          "duration": 2.83385,
          "end_time": "2021-05-27T17:54:00.130578",
          "exception": false,
          "start_time": "2021-05-27T17:53:57.296728",
          "status": "completed"
        },
        "tags": []
      },
      "source": [
        "if False:\n",
        "    res = []\n",
        "    for ind, d in tqdm(filtered_promoters.iterrows()):\n",
        "        flag = False\n",
        "        for (chr, st, end), d_1 in pos_data.iterrows():\n",
        "            if st <= d['Start (bp)'] <= end or st <= d['End (bp)'] <= end:\n",
        "                flag = True\n",
        "                break\n",
        "        if not flag:\n",
        "            res.append(d)\n",
        "    final_promoters = pd.concat(res, axis=1).T\n",
        "    final_promoters[['Chromosome/scaffold name', 'Start (bp)', 'End (bp)']] \\\n",
        "        .to_csv('negative.bed', index=False, header=False, sep='\\t')"
      ],
      "id": "fallen-comfort",
      "execution_count": null,
      "outputs": []
    },
    {
      "cell_type": "markdown",
      "metadata": {
        "id": "preliminary-stress",
        "papermill": {
          "duration": 1.360978,
          "end_time": "2021-05-27T17:54:02.923545",
          "exception": false,
          "start_time": "2021-05-27T17:54:01.562567",
          "status": "completed"
        },
        "tags": []
      },
      "source": [
        "Now we are ready to obtain the ChIP-seq data from the regions saved in negative .csv file. "
      ],
      "id": "preliminary-stress"
    },
    {
      "cell_type": "code",
      "metadata": {
        "colab": {
          "base_uri": "https://localhost:8080/"
        },
        "execution": {
          "iopub.execute_input": "2021-05-27T17:54:05.618366Z",
          "iopub.status.busy": "2021-05-27T17:54:05.614545Z",
          "iopub.status.idle": "2021-05-27T17:54:05.676793Z",
          "shell.execute_reply": "2021-05-27T17:54:05.675697Z"
        },
        "id": "revolutionary-charlotte",
        "papermill": {
          "duration": 1.410416,
          "end_time": "2021-05-27T17:54:05.677070",
          "exception": false,
          "start_time": "2021-05-27T17:54:04.266654",
          "status": "completed"
        },
        "tags": [],
        "outputId": "bda25a7d-f672-4c5f-ffb1-9fcd3ea1fd8a"
      },
      "source": [
        "if not os.path.exists('./promoter_negative_data.csv'):\n",
        "    raise FileNotFoundError('Please put promoter_negative_data.csv in the same folder as the jupyter notebook')    \n",
        "\n",
        "neg_data = pd.read_csv(\n",
        "    'promoter_negative_data.csv', sep='\\t', header=None, names=HM_names)\n",
        "\n",
        "print(f'Overall we have {neg_data.shape[0]} negative samples.')"
      ],
      "id": "revolutionary-charlotte",
      "execution_count": 7,
      "outputs": [
        {
          "output_type": "stream",
          "name": "stdout",
          "text": [
            "Downloading...\n",
            "From: https://drive.google.com/uc?id=1Hc8QUlpvSlWhErJNdtGrBGDt1MR6Fnpd\n",
            "To: /content/promoter_negative_data.csv\n",
            "\r  0% 0.00/997k [00:00<?, ?B/s]\r100% 997k/997k [00:00<00:00, 65.7MB/s]\n",
            "Overall we have 19800 negative samples.\n"
          ]
        }
      ]
    },
    {
      "cell_type": "code",
      "metadata": {
        "colab": {
          "base_uri": "https://localhost:8080/",
          "height": 439
        },
        "execution": {
          "iopub.execute_input": "2021-05-27T17:54:08.385742Z",
          "iopub.status.busy": "2021-05-27T17:54:08.381901Z",
          "iopub.status.idle": "2021-05-27T17:54:08.417579Z",
          "shell.execute_reply": "2021-05-27T17:54:08.416467Z"
        },
        "id": "forbidden-appearance",
        "papermill": {
          "duration": 1.39024,
          "end_time": "2021-05-27T17:54:08.417803",
          "exception": false,
          "start_time": "2021-05-27T17:54:07.027563",
          "status": "completed"
        },
        "tags": [],
        "outputId": "4b7e9a26-ff9f-4ed2-94ff-292ea771233d"
      },
      "source": [
        "neg_data"
      ],
      "id": "forbidden-appearance",
      "execution_count": null,
      "outputs": [
        {
          "output_type": "execute_result",
          "data": {
            "text/html": [
              "<div>\n",
              "<style scoped>\n",
              "    .dataframe tbody tr th:only-of-type {\n",
              "        vertical-align: middle;\n",
              "    }\n",
              "\n",
              "    .dataframe tbody tr th {\n",
              "        vertical-align: top;\n",
              "    }\n",
              "\n",
              "    .dataframe thead th {\n",
              "        text-align: right;\n",
              "    }\n",
              "</style>\n",
              "<table border=\"1\" class=\"dataframe\">\n",
              "  <thead>\n",
              "    <tr style=\"text-align: right;\">\n",
              "      <th></th>\n",
              "      <th></th>\n",
              "      <th></th>\n",
              "      <th>H3K4me1</th>\n",
              "      <th>H3K4me2</th>\n",
              "      <th>H3K4me3</th>\n",
              "      <th>H3K9me1</th>\n",
              "      <th>H3K9me3</th>\n",
              "      <th>H3K27me3</th>\n",
              "      <th>H3K36me3</th>\n",
              "      <th>H3K79me2</th>\n",
              "      <th>H2A.Z</th>\n",
              "      <th>H3K9ac</th>\n",
              "      <th>H3K27ac</th>\n",
              "      <th>H4K20me1</th>\n",
              "    </tr>\n",
              "  </thead>\n",
              "  <tbody>\n",
              "    <tr>\n",
              "      <th>chr16</th>\n",
              "      <th>29108800</th>\n",
              "      <th>29109001</th>\n",
              "      <td>1</td>\n",
              "      <td>0</td>\n",
              "      <td>0</td>\n",
              "      <td>0</td>\n",
              "      <td>1</td>\n",
              "      <td>5</td>\n",
              "      <td>0</td>\n",
              "      <td>0</td>\n",
              "      <td>4</td>\n",
              "      <td>0</td>\n",
              "      <td>0</td>\n",
              "      <td>2</td>\n",
              "    </tr>\n",
              "    <tr>\n",
              "      <th>chr6</th>\n",
              "      <th>158799200</th>\n",
              "      <th>158799601</th>\n",
              "      <td>7</td>\n",
              "      <td>5</td>\n",
              "      <td>3</td>\n",
              "      <td>5</td>\n",
              "      <td>0</td>\n",
              "      <td>4</td>\n",
              "      <td>1</td>\n",
              "      <td>6</td>\n",
              "      <td>3</td>\n",
              "      <td>3</td>\n",
              "      <td>4</td>\n",
              "      <td>7</td>\n",
              "    </tr>\n",
              "    <tr>\n",
              "      <th>chr15</th>\n",
              "      <th>31217800</th>\n",
              "      <th>31218001</th>\n",
              "      <td>1</td>\n",
              "      <td>5</td>\n",
              "      <td>0</td>\n",
              "      <td>2</td>\n",
              "      <td>0</td>\n",
              "      <td>3</td>\n",
              "      <td>4</td>\n",
              "      <td>4</td>\n",
              "      <td>4</td>\n",
              "      <td>0</td>\n",
              "      <td>2</td>\n",
              "      <td>7</td>\n",
              "    </tr>\n",
              "    <tr>\n",
              "      <th>chr11</th>\n",
              "      <th>72132600</th>\n",
              "      <th>72133201</th>\n",
              "      <td>8</td>\n",
              "      <td>2</td>\n",
              "      <td>3</td>\n",
              "      <td>7</td>\n",
              "      <td>3</td>\n",
              "      <td>1</td>\n",
              "      <td>7</td>\n",
              "      <td>21</td>\n",
              "      <td>4</td>\n",
              "      <td>4</td>\n",
              "      <td>7</td>\n",
              "      <td>10</td>\n",
              "    </tr>\n",
              "    <tr>\n",
              "      <th>chr3</th>\n",
              "      <th>185929800</th>\n",
              "      <th>185930201</th>\n",
              "      <td>1</td>\n",
              "      <td>1</td>\n",
              "      <td>2</td>\n",
              "      <td>5</td>\n",
              "      <td>5</td>\n",
              "      <td>6</td>\n",
              "      <td>7</td>\n",
              "      <td>3</td>\n",
              "      <td>12</td>\n",
              "      <td>5</td>\n",
              "      <td>6</td>\n",
              "      <td>7</td>\n",
              "    </tr>\n",
              "    <tr>\n",
              "      <th>...</th>\n",
              "      <th>...</th>\n",
              "      <th>...</th>\n",
              "      <td>...</td>\n",
              "      <td>...</td>\n",
              "      <td>...</td>\n",
              "      <td>...</td>\n",
              "      <td>...</td>\n",
              "      <td>...</td>\n",
              "      <td>...</td>\n",
              "      <td>...</td>\n",
              "      <td>...</td>\n",
              "      <td>...</td>\n",
              "      <td>...</td>\n",
              "      <td>...</td>\n",
              "    </tr>\n",
              "    <tr>\n",
              "      <th>chr12</th>\n",
              "      <th>6409801</th>\n",
              "      <th>6410200</th>\n",
              "      <td>1</td>\n",
              "      <td>1</td>\n",
              "      <td>4</td>\n",
              "      <td>4</td>\n",
              "      <td>5</td>\n",
              "      <td>4</td>\n",
              "      <td>1</td>\n",
              "      <td>0</td>\n",
              "      <td>6</td>\n",
              "      <td>4</td>\n",
              "      <td>0</td>\n",
              "      <td>1</td>\n",
              "    </tr>\n",
              "    <tr>\n",
              "      <th>chr5</th>\n",
              "      <th>78540200</th>\n",
              "      <th>78540601</th>\n",
              "      <td>12</td>\n",
              "      <td>4</td>\n",
              "      <td>4</td>\n",
              "      <td>10</td>\n",
              "      <td>7</td>\n",
              "      <td>5</td>\n",
              "      <td>8</td>\n",
              "      <td>39</td>\n",
              "      <td>5</td>\n",
              "      <td>6</td>\n",
              "      <td>0</td>\n",
              "      <td>12</td>\n",
              "    </tr>\n",
              "    <tr>\n",
              "      <th>chr2</th>\n",
              "      <th>239236200</th>\n",
              "      <th>239236401</th>\n",
              "      <td>0</td>\n",
              "      <td>0</td>\n",
              "      <td>2</td>\n",
              "      <td>1</td>\n",
              "      <td>1</td>\n",
              "      <td>1</td>\n",
              "      <td>6</td>\n",
              "      <td>0</td>\n",
              "      <td>0</td>\n",
              "      <td>0</td>\n",
              "      <td>1</td>\n",
              "      <td>3</td>\n",
              "    </tr>\n",
              "    <tr>\n",
              "      <th>chr6</th>\n",
              "      <th>154355000</th>\n",
              "      <th>154355401</th>\n",
              "      <td>3</td>\n",
              "      <td>1</td>\n",
              "      <td>1</td>\n",
              "      <td>2</td>\n",
              "      <td>9</td>\n",
              "      <td>2</td>\n",
              "      <td>3</td>\n",
              "      <td>2</td>\n",
              "      <td>5</td>\n",
              "      <td>0</td>\n",
              "      <td>2</td>\n",
              "      <td>1</td>\n",
              "    </tr>\n",
              "    <tr>\n",
              "      <th>chr16</th>\n",
              "      <th>58495400</th>\n",
              "      <th>58496001</th>\n",
              "      <td>8</td>\n",
              "      <td>1</td>\n",
              "      <td>1</td>\n",
              "      <td>14</td>\n",
              "      <td>4</td>\n",
              "      <td>6</td>\n",
              "      <td>4</td>\n",
              "      <td>4</td>\n",
              "      <td>8</td>\n",
              "      <td>3</td>\n",
              "      <td>4</td>\n",
              "      <td>8</td>\n",
              "    </tr>\n",
              "  </tbody>\n",
              "</table>\n",
              "<p>19800 rows × 12 columns</p>\n",
              "</div>"
            ],
            "text/plain": [
              "                           H3K4me1  H3K4me2  H3K4me3  ...  H3K9ac  H3K27ac  H4K20me1\n",
              "chr16 29108800  29109001         1        0        0  ...       0        0         2\n",
              "chr6  158799200 158799601        7        5        3  ...       3        4         7\n",
              "chr15 31217800  31218001         1        5        0  ...       0        2         7\n",
              "chr11 72132600  72133201         8        2        3  ...       4        7        10\n",
              "chr3  185929800 185930201        1        1        2  ...       5        6         7\n",
              "...                            ...      ...      ...  ...     ...      ...       ...\n",
              "chr12 6409801   6410200          1        1        4  ...       4        0         1\n",
              "chr5  78540200  78540601        12        4        4  ...       6        0        12\n",
              "chr2  239236200 239236401        0        0        2  ...       0        1         3\n",
              "chr6  154355000 154355401        3        1        1  ...       0        2         1\n",
              "chr16 58495400  58496001         8        1        1  ...       3        4         8\n",
              "\n",
              "[19800 rows x 12 columns]"
            ]
          },
          "metadata": {
            "tags": []
          },
          "execution_count": 10
        }
      ]
    },
    {
      "cell_type": "markdown",
      "metadata": {
        "id": "restricted-scholarship",
        "papermill": {
          "duration": 1.352876,
          "end_time": "2021-05-27T17:54:11.093968",
          "exception": false,
          "start_time": "2021-05-27T17:54:09.741092",
          "status": "completed"
        },
        "tags": []
      },
      "source": [
        "We may notice that the amount of negative data is almost 8 times bigger than the amount of positive data. Again, to deal with this disbalance we oversample positive data and undersample negative data. Let us fix the final data size to be 8000."
      ],
      "id": "restricted-scholarship"
    },
    {
      "cell_type": "code",
      "metadata": {
        "execution": {
          "iopub.execute_input": "2021-05-27T17:54:13.866687Z",
          "iopub.status.busy": "2021-05-27T17:54:13.860407Z",
          "iopub.status.idle": "2021-05-27T17:54:13.900074Z",
          "shell.execute_reply": "2021-05-27T17:54:13.900681Z"
        },
        "id": "adverse-needle",
        "papermill": {
          "duration": 1.45326,
          "end_time": "2021-05-27T17:54:13.900881",
          "exception": false,
          "start_time": "2021-05-27T17:54:12.447621",
          "status": "completed"
        },
        "tags": []
      },
      "source": [
        "_DATA_SIZE = 8000\n",
        "_TRAIN_PERCENTAGE = 0.8\n",
        "_VAL_PERCENTAGE = 0.1\n",
        "_TEST_PERCENTAGE = 0.1\n",
        "_TRAIN_SIZE = int(_TRAIN_PERCENTAGE * _DATA_SIZE)\n",
        "_VAL_SIZE = int(_VAL_PERCENTAGE * _DATA_SIZE)\n",
        "_TEST_SIZE = int(_TEST_PERCENTAGE * _DATA_SIZE)\n",
        "\n",
        "# Oversampling positive data and undersampling negative data\n",
        "neg_data_balanced = resample(neg_data, n_samples=_DATA_SIZE // 2)\n",
        "pos_data_balanced = resample(pos_data, n_samples=_DATA_SIZE // 2)\n",
        "\n",
        "# Merging the negative and positive data, creating labels array\n",
        "raw_df = pd.concat([neg_data_balanced, pos_data_balanced], axis=0)\n",
        "raw_data = raw_df.to_numpy()\n",
        "labels = np.array([0]*(_DATA_SIZE // 2) + [1]*(_DATA_SIZE // 2))\n",
        "\n",
        "# Shuffling the data\n",
        "np.random.seed(42)\n",
        "data_index = np.arange(_DATA_SIZE)\n",
        "np.random.shuffle(data_index)\n",
        "raw_df, raw_data, labels = raw_df.iloc[data_index], raw_data[data_index], labels[data_index]\n",
        "\n",
        "# Scale features for both datasets\n",
        "scaler = StandardScaler()\n",
        "scaler.fit(raw_data[:_TRAIN_SIZE])\n",
        "data = scaler.transform(raw_data)\n",
        "\n",
        "# Splitting data into train, validation and test as 80%/10%/10%\n",
        "train_data, train_labels = data[:_TRAIN_SIZE], labels[:_TRAIN_SIZE]\n",
        "test_data, test_labels = data[_TRAIN_SIZE:], labels[_TRAIN_SIZE:]\n",
        "val_data, val_labels = test_data[:_VAL_SIZE], test_labels[:_VAL_SIZE]\n",
        "test_data, test_labels = test_data[_TEST_SIZE:], test_labels[_TEST_SIZE:]"
      ],
      "id": "adverse-needle",
      "execution_count": null,
      "outputs": []
    },
    {
      "cell_type": "markdown",
      "metadata": {
        "id": "endless-bookmark",
        "papermill": {
          "duration": 1.436527,
          "end_time": "2021-05-27T17:54:17.060383",
          "exception": false,
          "start_time": "2021-05-27T17:54:15.623856",
          "status": "completed"
        },
        "tags": []
      },
      "source": [
        "Now we are ready to train the model. We will again reset the training hyperparameters and the NN architectures."
      ],
      "id": "endless-bookmark"
    },
    {
      "cell_type": "code",
      "metadata": {
        "execution": {
          "iopub.execute_input": "2021-05-27T17:54:20.645843Z",
          "iopub.status.busy": "2021-05-27T17:54:20.640327Z",
          "iopub.status.idle": "2021-05-27T17:54:20.734312Z",
          "shell.execute_reply": "2021-05-27T17:54:20.735329Z"
        },
        "id": "prerequisite-contact",
        "papermill": {
          "duration": 1.775112,
          "end_time": "2021-05-27T17:54:20.735636",
          "exception": false,
          "start_time": "2021-05-27T17:54:18.960524",
          "status": "completed"
        },
        "tags": []
      },
      "source": [
        "# Defining some hyperparameters, as well as metrics and early stopping callback \n",
        "# that applies to all models\n",
        "_EPOCHS = 100\n",
        "_LEARNING_RATE = 1e-3\n",
        "_BATCH_SIZE = 32\n",
        "_VERBOSE = 1\n",
        "\n",
        "# Setting plotting parameters\n",
        "mpl.rcParams['figure.figsize'] = (12, 10)\n",
        "colors = plt.rcParams['axes.prop_cycle'].by_key()['color']\n",
        "\n",
        "def mcc(y_true, y_pred):\n",
        "    \"\"\"\n",
        "    Courtesy of https://stackoverflow.com/questions/56865344/how-do-i-calculate-the-matthews-correlation-coefficient-in-tensorflow\n",
        "    \"\"\"\n",
        "    predicted = tf.cast(tf.greater(y_pred, 0.5), tf.float32)\n",
        "    true_pos = tf.math.count_nonzero(predicted * y_true)\n",
        "    true_neg = tf.math.count_nonzero((predicted - 1) * (y_true - 1))\n",
        "    false_pos = tf.math.count_nonzero(predicted * (y_true - 1))\n",
        "    false_neg = tf.math.count_nonzero((predicted - 1) * y_true)\n",
        "    x = tf.cast((true_pos + false_pos) * (true_pos + false_neg) \n",
        "        * (true_neg + false_pos) * (true_neg + false_neg), tf.float32)\n",
        "    return tf.cast((true_pos * true_neg) - (false_pos * false_neg), tf.float32) / tf.sqrt(x)\n",
        "\n",
        "_METRICS = [\n",
        "      metrics.BinaryAccuracy(name='accuracy'),\n",
        "      metrics.Precision(name='precision'),\n",
        "      metrics.Recall(name='recall'),\n",
        "      metrics.AUC(name='auc'),\n",
        "      tfa.metrics.F1Score(name='f1_score', num_classes=1, threshold=0.5),\n",
        "      mcc\n",
        "]\n",
        "\n",
        "\n",
        "def plot_metrics(history, model_name):\n",
        "    # Courtesy of https://www.tensorflow.org/tutorials/structured_data/imbalanced_data#oversample_the_minority_class\n",
        "    metrics = ['loss', 'auc', 'precision', 'recall', 'f1_score', 'mcc']\n",
        "    fig = plt.figure(figsize=(20,7))\n",
        "    for n, metric in enumerate(metrics):\n",
        "        if metrics == 'f1_score':\n",
        "            curr_train_history = np.transpose(np.array(history.history[metric]))[0]\n",
        "            curr_val_history = np.transpose(np.array(history.history['val_'+metric]))[0]\n",
        "        else:\n",
        "            curr_train_history = np.array(history.history[metric])\n",
        "            curr_val_history = np.array(history.history['val_'+metric])\n",
        "        name = metric.replace(\"_\",\" \").capitalize()\n",
        "        plt.subplot(2, 3, n+1)\n",
        "        plt.plot(history.epoch, curr_train_history, color=colors[0], label='Train')\n",
        "        plt.plot(history.epoch, curr_val_history,\n",
        "                 color=colors[0], linestyle=\"--\", label='Val')\n",
        "        plt.xlabel('Epoch')\n",
        "        plt.ylabel(name)\n",
        "        filtered_train_history = curr_train_history[~np.isnan(curr_train_history)]\n",
        "        filtered_val_history = curr_val_history[~np.isnan(curr_val_history)]\n",
        "        if metric == 'loss':\n",
        "            plt.ylim([0, plt.ylim()[1]])\n",
        "        else:\n",
        "            plt.ylim([max(max(filtered_train_history, default=0) - 0.5, 0), 1])\n",
        "\n",
        "        plt.legend()\n",
        "\n",
        "    plt.savefig(f'./figs/training_{model_name}.png', dpi=300)\n",
        "\n",
        "\n",
        "def get_callbacks(model_name, with_early_stopping=True):\n",
        "    return [callbacks.EarlyStopping(patience=20, restore_best_weights=True,\n",
        "                                    verbose=_VERBOSE), \n",
        "            callbacks.ModelCheckpoint(filepath=f'./models/{model_name}.h5', verbose=_VERBOSE,\n",
        "                                      save_best_only=True)\n",
        "            ] if with_early_stopping else \\\n",
        "            [callbacks.ModelCheckpoint(filepath=f'./models/{model_name}.h5', verbose=_VERBOSE,\n",
        "                                      save_best_only=True)]"
      ],
      "id": "prerequisite-contact",
      "execution_count": null,
      "outputs": []
    },
    {
      "cell_type": "code",
      "metadata": {
        "colab": {
          "base_uri": "https://localhost:8080/"
        },
        "execution": {
          "iopub.execute_input": "2021-05-27T17:54:23.624985Z",
          "iopub.status.busy": "2021-05-27T17:54:23.614274Z",
          "iopub.status.idle": "2021-05-27T17:54:23.696132Z",
          "shell.execute_reply": "2021-05-27T17:54:23.696989Z"
        },
        "id": "weighted-professor",
        "papermill": {
          "duration": 1.547461,
          "end_time": "2021-05-27T17:54:23.697265",
          "exception": false,
          "start_time": "2021-05-27T17:54:22.149804",
          "status": "completed"
        },
        "tags": [],
        "outputId": "e8bf8921-19db-4e00-a8a3-1f3fa089c634"
      },
      "source": [
        "MLP = models.Sequential(\n",
        "    [\n",
        "    layers.Dense(30, activation='relu', input_shape=(12,), name='dense_1'),\n",
        "    layers.Dense(45, activation='relu', name='dense_2'),\n",
        "    layers.Dense(20, activation='relu', name='dense_3'),\n",
        "    layers.Dense(1, activation='sigmoid', name='dense_4'),\n",
        "], name='MLP')\n",
        "\n",
        "MLP.compile(optimizer=optimizers.Adam(lr=_LEARNING_RATE),\n",
        "                loss=losses.BinaryCrossentropy(),\n",
        "                metrics=_METRICS)\n",
        "MLP.summary()"
      ],
      "id": "weighted-professor",
      "execution_count": null,
      "outputs": [
        {
          "output_type": "stream",
          "text": [
            "Model: \"MLP\"\n",
            "_________________________________________________________________\n",
            "Layer (type)                 Output Shape              Param #   \n",
            "=================================================================\n",
            "dense_1 (Dense)              (None, 30)                390       \n",
            "_________________________________________________________________\n",
            "dense_2 (Dense)              (None, 45)                1395      \n",
            "_________________________________________________________________\n",
            "dense_3 (Dense)              (None, 20)                920       \n",
            "_________________________________________________________________\n",
            "dense_4 (Dense)              (None, 1)                 21        \n",
            "=================================================================\n",
            "Total params: 2,726\n",
            "Trainable params: 2,726\n",
            "Non-trainable params: 0\n",
            "_________________________________________________________________\n"
          ],
          "name": "stdout"
        }
      ]
    },
    {
      "cell_type": "code",
      "metadata": {
        "colab": {
          "base_uri": "https://localhost:8080/",
          "height": 1000
        },
        "collapsed": true,
        "execution": {
          "iopub.execute_input": "2021-05-27T17:54:26.409713Z",
          "iopub.status.busy": "2021-05-27T17:54:26.408205Z",
          "iopub.status.idle": "2021-05-27T18:00:01.959335Z",
          "shell.execute_reply": "2021-05-27T18:00:01.960681Z"
        },
        "id": "chubby-currency",
        "jupyter": {
          "outputs_hidden": true
        },
        "papermill": {
          "duration": 336.892593,
          "end_time": "2021-05-27T18:00:01.961237",
          "exception": false,
          "start_time": "2021-05-27T17:54:25.068644",
          "status": "completed"
        },
        "tags": [],
        "outputId": "34ca4f60-4dd3-4089-eea3-98956c26b3e6"
      },
      "source": [
        "MLP_training_history = MLP.fit(train_data, train_labels, batch_size=_BATCH_SIZE,\n",
        "                                epochs=_EPOCHS, validation_data=(val_data, val_labels),\n",
        "                                verbose=_VERBOSE, callbacks=get_callbacks('MLP', with_early_stopping=False))\n",
        "plot_metrics(MLP_training_history, 'MLP_2')"
      ],
      "id": "chubby-currency",
      "execution_count": null,
      "outputs": [
        {
          "output_type": "stream",
          "text": [
            "Epoch 1/100\n",
            "200/200 [==============================] - 6s 22ms/step - loss: 0.7018 - accuracy: 0.5172 - precision: 0.5222 - recall: 0.4839 - auc: 0.5227 - f1_score: 0.4982 - mcc: 0.0437 - val_loss: 0.6820 - val_accuracy: 0.5863 - val_precision: 0.6016 - val_recall: 0.5648 - val_auc: 0.6040 - val_f1_score: 0.5826 - val_mcc: 0.1765\n",
            "\n",
            "Epoch 00001: val_loss improved from inf to 0.68203, saving model to ./models/MLP.h5\n",
            "Epoch 2/100\n",
            "200/200 [==============================] - 3s 17ms/step - loss: 0.6826 - accuracy: 0.5645 - precision: 0.5670 - recall: 0.5106 - auc: 0.5796 - f1_score: 0.5369 - mcc: 0.1358 - val_loss: 0.6860 - val_accuracy: 0.5612 - val_precision: 0.5863 - val_recall: 0.4817 - val_auc: 0.5865 - val_f1_score: 0.5289 - val_mcc: 0.1303\n",
            "\n",
            "Epoch 00002: val_loss did not improve from 0.68203\n",
            "Epoch 3/100\n",
            "200/200 [==============================] - 3s 16ms/step - loss: 0.6776 - accuracy: 0.5761 - precision: 0.5752 - recall: 0.5372 - auc: 0.5968 - f1_score: 0.5553 - mcc: 0.1592 - val_loss: 0.6856 - val_accuracy: 0.5675 - val_precision: 0.5789 - val_recall: 0.5648 - val_auc: 0.5879 - val_f1_score: 0.5718 - val_mcc: 0.1408\n",
            "\n",
            "Epoch 00003: val_loss did not improve from 0.68203\n",
            "Epoch 4/100\n",
            "200/200 [==============================] - 3s 15ms/step - loss: 0.6758 - accuracy: 0.5806 - precision: 0.5847 - recall: 0.5189 - auc: 0.5990 - f1_score: 0.5493 - mcc: nan - val_loss: 0.6837 - val_accuracy: 0.5688 - val_precision: 0.5821 - val_recall: 0.5550 - val_auc: 0.5900 - val_f1_score: 0.5682 - val_mcc: 0.1440\n",
            "\n",
            "Epoch 00004: val_loss did not improve from 0.68203\n",
            "Epoch 5/100\n",
            "200/200 [==============================] - 3s 17ms/step - loss: 0.6729 - accuracy: 0.5825 - precision: 0.5861 - recall: 0.5263 - auc: 0.6092 - f1_score: 0.5543 - mcc: 0.1604 - val_loss: 0.6778 - val_accuracy: 0.5663 - val_precision: 0.5824 - val_recall: 0.5355 - val_auc: 0.6026 - val_f1_score: 0.5580 - val_mcc: 0.1331\n",
            "\n",
            "Epoch 00005: val_loss improved from 0.68203 to 0.67775, saving model to ./models/MLP.h5\n",
            "Epoch 6/100\n",
            "200/200 [==============================] - 3s 16ms/step - loss: 0.6691 - accuracy: 0.5870 - precision: 0.5901 - recall: 0.5539 - auc: 0.6167 - f1_score: 0.5713 - mcc: 0.1752 - val_loss: 0.6778 - val_accuracy: 0.5700 - val_precision: 0.5921 - val_recall: 0.5110 - val_auc: 0.6036 - val_f1_score: 0.5486 - val_mcc: 0.1449\n",
            "\n",
            "Epoch 00006: val_loss did not improve from 0.67775\n",
            "Epoch 7/100\n",
            "200/200 [==============================] - 3s 17ms/step - loss: 0.6691 - accuracy: 0.5787 - precision: 0.5839 - recall: 0.5204 - auc: 0.6184 - f1_score: 0.5502 - mcc: 0.1602 - val_loss: 0.6798 - val_accuracy: 0.5650 - val_precision: 0.5735 - val_recall: 0.5819 - val_auc: 0.6032 - val_f1_score: 0.5777 - val_mcc: 0.1340\n",
            "\n",
            "Epoch 00007: val_loss did not improve from 0.67775\n",
            "Epoch 8/100\n",
            "200/200 [==============================] - 3s 17ms/step - loss: 0.6670 - accuracy: 0.5851 - precision: 0.5949 - recall: 0.5459 - auc: 0.6236 - f1_score: 0.5693 - mcc: 0.1724 - val_loss: 0.6838 - val_accuracy: 0.5700 - val_precision: 0.5964 - val_recall: 0.4914 - val_auc: 0.5991 - val_f1_score: 0.5389 - val_mcc: 0.1461\n",
            "\n",
            "Epoch 00008: val_loss did not improve from 0.67775\n",
            "Epoch 9/100\n",
            "200/200 [==============================] - 3s 16ms/step - loss: 0.6637 - accuracy: 0.5975 - precision: 0.6102 - recall: 0.5629 - auc: 0.6302 - f1_score: 0.5853 - mcc: 0.1948 - val_loss: 0.6727 - val_accuracy: 0.5800 - val_precision: 0.6083 - val_recall: 0.5012 - val_auc: 0.6139 - val_f1_score: 0.5496 - val_mcc: 0.1639\n",
            "\n",
            "Epoch 00009: val_loss improved from 0.67775 to 0.67273, saving model to ./models/MLP.h5\n",
            "Epoch 10/100\n",
            "200/200 [==============================] - 3s 16ms/step - loss: 0.6606 - accuracy: 0.5956 - precision: 0.6048 - recall: 0.5261 - auc: 0.6386 - f1_score: 0.5625 - mcc: 0.1919 - val_loss: 0.6705 - val_accuracy: 0.5750 - val_precision: 0.5989 - val_recall: 0.5110 - val_auc: 0.6220 - val_f1_score: 0.5515 - val_mcc: 0.1545\n",
            "\n",
            "Epoch 00010: val_loss improved from 0.67273 to 0.67052, saving model to ./models/MLP.h5\n",
            "Epoch 11/100\n",
            "200/200 [==============================] - 3s 16ms/step - loss: 0.6564 - accuracy: 0.6014 - precision: 0.6098 - recall: 0.5510 - auc: 0.6483 - f1_score: 0.5787 - mcc: 0.2035 - val_loss: 0.6771 - val_accuracy: 0.5913 - val_precision: 0.5782 - val_recall: 0.7408 - val_auc: 0.6107 - val_f1_score: 0.6495 - val_mcc: 0.1815\n",
            "\n",
            "Epoch 00011: val_loss did not improve from 0.67052\n",
            "Epoch 12/100\n",
            "200/200 [==============================] - 3s 16ms/step - loss: 0.6645 - accuracy: 0.5850 - precision: 0.5860 - recall: 0.5998 - auc: 0.6286 - f1_score: 0.5913 - mcc: 0.1679 - val_loss: 0.6713 - val_accuracy: 0.5925 - val_precision: 0.6301 - val_recall: 0.4914 - val_auc: 0.6194 - val_f1_score: 0.5522 - val_mcc: 0.1926\n",
            "\n",
            "Epoch 00012: val_loss did not improve from 0.67052\n",
            "Epoch 13/100\n",
            "200/200 [==============================] - 3s 15ms/step - loss: 0.6512 - accuracy: 0.6133 - precision: 0.6308 - recall: 0.5479 - auc: 0.6618 - f1_score: 0.5860 - mcc: 0.2329 - val_loss: 0.6666 - val_accuracy: 0.5850 - val_precision: 0.6192 - val_recall: 0.4890 - val_auc: 0.6335 - val_f1_score: 0.5464 - val_mcc: 0.1792\n",
            "\n",
            "Epoch 00013: val_loss improved from 0.67052 to 0.66662, saving model to ./models/MLP.h5\n",
            "Epoch 14/100\n",
            "200/200 [==============================] - 4s 18ms/step - loss: 0.6590 - accuracy: 0.5904 - precision: 0.5978 - recall: 0.5413 - auc: 0.6381 - f1_score: 0.5679 - mcc: 0.1830 - val_loss: 0.6857 - val_accuracy: 0.5738 - val_precision: 0.5950 - val_recall: 0.5208 - val_auc: 0.6175 - val_f1_score: 0.5554 - val_mcc: 0.1553\n",
            "\n",
            "Epoch 00014: val_loss did not improve from 0.66662\n",
            "Epoch 15/100\n",
            "200/200 [==============================] - 3s 16ms/step - loss: 0.6554 - accuracy: 0.6067 - precision: 0.6115 - recall: 0.5395 - auc: 0.6472 - f1_score: 0.5731 - mcc: 0.2139 - val_loss: 0.6714 - val_accuracy: 0.5788 - val_precision: 0.6011 - val_recall: 0.5232 - val_auc: 0.6117 - val_f1_score: 0.5595 - val_mcc: 0.1609\n",
            "\n",
            "Epoch 00015: val_loss did not improve from 0.66662\n",
            "Epoch 16/100\n",
            "200/200 [==============================] - 4s 20ms/step - loss: 0.6512 - accuracy: 0.6068 - precision: 0.6084 - recall: 0.5429 - auc: 0.6540 - f1_score: 0.5735 - mcc: 0.2038 - val_loss: 0.6737 - val_accuracy: 0.5750 - val_precision: 0.6049 - val_recall: 0.4866 - val_auc: 0.6155 - val_f1_score: 0.5393 - val_mcc: 0.1595\n",
            "\n",
            "Epoch 00016: val_loss did not improve from 0.66662\n",
            "Epoch 17/100\n",
            "200/200 [==============================] - 3s 16ms/step - loss: 0.6467 - accuracy: 0.6102 - precision: 0.6281 - recall: 0.5681 - auc: 0.6624 - f1_score: 0.5964 - mcc: 0.2268 - val_loss: 0.6677 - val_accuracy: 0.5825 - val_precision: 0.6206 - val_recall: 0.4719 - val_auc: 0.6357 - val_f1_score: 0.5361 - val_mcc: 0.1783\n",
            "\n",
            "Epoch 00017: val_loss did not improve from 0.66662\n",
            "Epoch 18/100\n",
            "200/200 [==============================] - 3s 17ms/step - loss: 0.6427 - accuracy: 0.6297 - precision: 0.6448 - recall: 0.5899 - auc: 0.6703 - f1_score: 0.6159 - mcc: 0.2575 - val_loss: 0.6765 - val_accuracy: 0.5900 - val_precision: 0.6188 - val_recall: 0.5159 - val_auc: 0.6256 - val_f1_score: 0.5627 - val_mcc: 0.1968\n",
            "\n",
            "Epoch 00018: val_loss did not improve from 0.66662\n",
            "Epoch 19/100\n",
            "200/200 [==============================] - 3s 16ms/step - loss: 0.6390 - accuracy: 0.6306 - precision: 0.6434 - recall: 0.5880 - auc: 0.6794 - f1_score: 0.6142 - mcc: 0.2647 - val_loss: 0.6703 - val_accuracy: 0.5925 - val_precision: 0.6150 - val_recall: 0.5428 - val_auc: 0.6357 - val_f1_score: 0.5766 - val_mcc: 0.1941\n",
            "\n",
            "Epoch 00019: val_loss did not improve from 0.66662\n",
            "Epoch 20/100\n",
            "200/200 [==============================] - 3s 17ms/step - loss: 0.6371 - accuracy: 0.6300 - precision: 0.6397 - recall: 0.5810 - auc: 0.6843 - f1_score: 0.6089 - mcc: 0.2637 - val_loss: 0.6711 - val_accuracy: 0.5875 - val_precision: 0.5892 - val_recall: 0.6381 - val_auc: 0.6315 - val_f1_score: 0.6127 - val_mcc: 0.1841\n",
            "\n",
            "Epoch 00020: val_loss did not improve from 0.66662\n",
            "Epoch 21/100\n",
            "200/200 [==============================] - 3s 17ms/step - loss: 0.6398 - accuracy: 0.6289 - precision: 0.6360 - recall: 0.6054 - auc: 0.6781 - f1_score: 0.6198 - mcc: 0.2597 - val_loss: 0.6704 - val_accuracy: 0.5975 - val_precision: 0.6058 - val_recall: 0.6088 - val_auc: 0.6364 - val_f1_score: 0.6073 - val_mcc: 0.1982\n",
            "\n",
            "Epoch 00021: val_loss did not improve from 0.66662\n",
            "Epoch 22/100\n",
            "200/200 [==============================] - 3s 16ms/step - loss: 0.6359 - accuracy: 0.6261 - precision: 0.6379 - recall: 0.5871 - auc: 0.6800 - f1_score: 0.6113 - mcc: 0.2594 - val_loss: 0.6680 - val_accuracy: 0.6100 - val_precision: 0.6247 - val_recall: 0.5941 - val_auc: 0.6360 - val_f1_score: 0.6090 - val_mcc: 0.2247\n",
            "\n",
            "Epoch 00022: val_loss did not improve from 0.66662\n",
            "Epoch 23/100\n",
            "200/200 [==============================] - 3s 15ms/step - loss: 0.6260 - accuracy: 0.6401 - precision: 0.6459 - recall: 0.6003 - auc: 0.6995 - f1_score: 0.6221 - mcc: 0.2861 - val_loss: 0.6733 - val_accuracy: 0.6062 - val_precision: 0.6049 - val_recall: 0.6626 - val_auc: 0.6410 - val_f1_score: 0.6324 - val_mcc: 0.2223\n",
            "\n",
            "Epoch 00023: val_loss did not improve from 0.66662\n",
            "Epoch 24/100\n",
            "200/200 [==============================] - 3s 16ms/step - loss: 0.6379 - accuracy: 0.6232 - precision: 0.6244 - recall: 0.5818 - auc: 0.6771 - f1_score: 0.6016 - mcc: 0.2546 - val_loss: 0.6677 - val_accuracy: 0.5913 - val_precision: 0.6057 - val_recall: 0.5746 - val_auc: 0.6381 - val_f1_score: 0.5897 - val_mcc: 0.1913\n",
            "\n",
            "Epoch 00024: val_loss did not improve from 0.66662\n",
            "Epoch 25/100\n",
            "200/200 [==============================] - 3s 16ms/step - loss: 0.6225 - accuracy: 0.6475 - precision: 0.6628 - recall: 0.5999 - auc: 0.7071 - f1_score: 0.6291 - mcc: 0.2977 - val_loss: 0.6656 - val_accuracy: 0.5763 - val_precision: 0.6232 - val_recall: 0.4328 - val_auc: 0.6438 - val_f1_score: 0.5108 - val_mcc: 0.1725\n",
            "\n",
            "Epoch 00025: val_loss improved from 0.66662 to 0.66559, saving model to ./models/MLP.h5\n",
            "Epoch 26/100\n",
            "200/200 [==============================] - 3s 15ms/step - loss: 0.6313 - accuracy: 0.6298 - precision: 0.6523 - recall: 0.5875 - auc: 0.6921 - f1_score: 0.6155 - mcc: 0.2705 - val_loss: 0.6771 - val_accuracy: 0.5888 - val_precision: 0.6242 - val_recall: 0.4914 - val_auc: 0.6324 - val_f1_score: 0.5499 - val_mcc: 0.1942\n",
            "\n",
            "Epoch 00026: val_loss did not improve from 0.66559\n",
            "Epoch 27/100\n",
            "200/200 [==============================] - 3s 16ms/step - loss: 0.6201 - accuracy: 0.6578 - precision: 0.6752 - recall: 0.5895 - auc: 0.7086 - f1_score: 0.6289 - mcc: 0.3188 - val_loss: 0.6686 - val_accuracy: 0.6112 - val_precision: 0.6065 - val_recall: 0.6822 - val_auc: 0.6445 - val_f1_score: 0.6421 - val_mcc: 0.2222\n",
            "\n",
            "Epoch 00027: val_loss did not improve from 0.66559\n",
            "Epoch 28/100\n",
            "200/200 [==============================] - 3s 16ms/step - loss: 0.6166 - accuracy: 0.6570 - precision: 0.6617 - recall: 0.6386 - auc: 0.7176 - f1_score: 0.6498 - mcc: 0.3170 - val_loss: 0.6655 - val_accuracy: 0.5863 - val_precision: 0.6318 - val_recall: 0.4572 - val_auc: 0.6486 - val_f1_score: 0.5305 - val_mcc: 0.1967\n",
            "\n",
            "Epoch 00028: val_loss improved from 0.66559 to 0.66552, saving model to ./models/MLP.h5\n",
            "Epoch 29/100\n",
            "200/200 [==============================] - 3s 16ms/step - loss: 0.6146 - accuracy: 0.6573 - precision: 0.6711 - recall: 0.5903 - auc: 0.7155 - f1_score: 0.6275 - mcc: 0.3191 - val_loss: 0.6778 - val_accuracy: 0.5925 - val_precision: 0.6056 - val_recall: 0.5819 - val_auc: 0.6363 - val_f1_score: 0.5935 - val_mcc: 0.1934\n",
            "\n",
            "Epoch 00029: val_loss did not improve from 0.66552\n",
            "Epoch 30/100\n",
            "200/200 [==============================] - 3s 16ms/step - loss: 0.6156 - accuracy: 0.6442 - precision: 0.6571 - recall: 0.6104 - auc: 0.7123 - f1_score: 0.6324 - mcc: 0.2875 - val_loss: 0.6639 - val_accuracy: 0.6012 - val_precision: 0.6092 - val_recall: 0.6137 - val_auc: 0.6363 - val_f1_score: 0.6114 - val_mcc: 0.2058\n",
            "\n",
            "Epoch 00030: val_loss improved from 0.66552 to 0.66389, saving model to ./models/MLP.h5\n",
            "Epoch 31/100\n",
            "200/200 [==============================] - 3s 16ms/step - loss: 0.6118 - accuracy: 0.6605 - precision: 0.6648 - recall: 0.6369 - auc: 0.7219 - f1_score: 0.6504 - mcc: 0.3282 - val_loss: 0.6798 - val_accuracy: 0.5925 - val_precision: 0.5797 - val_recall: 0.7384 - val_auc: 0.6358 - val_f1_score: 0.6495 - val_mcc: 0.1925\n",
            "\n",
            "Epoch 00031: val_loss did not improve from 0.66389\n",
            "Epoch 32/100\n",
            "200/200 [==============================] - 3s 16ms/step - loss: 0.6119 - accuracy: 0.6513 - precision: 0.6529 - recall: 0.6531 - auc: 0.7208 - f1_score: 0.6522 - mcc: 0.3126 - val_loss: 0.6639 - val_accuracy: 0.5850 - val_precision: 0.6222 - val_recall: 0.4792 - val_auc: 0.6501 - val_f1_score: 0.5414 - val_mcc: 0.1917\n",
            "\n",
            "Epoch 00032: val_loss improved from 0.66389 to 0.66387, saving model to ./models/MLP.h5\n",
            "Epoch 33/100\n",
            "200/200 [==============================] - 3s 16ms/step - loss: 0.6141 - accuracy: 0.6498 - precision: 0.6587 - recall: 0.6097 - auc: 0.7152 - f1_score: 0.6329 - mcc: 0.3027 - val_loss: 0.6789 - val_accuracy: 0.5975 - val_precision: 0.6166 - val_recall: 0.5623 - val_auc: 0.6358 - val_f1_score: 0.5882 - val_mcc: 0.2034\n",
            "\n",
            "Epoch 00033: val_loss did not improve from 0.66387\n",
            "Epoch 34/100\n",
            "200/200 [==============================] - 4s 18ms/step - loss: 0.6014 - accuracy: 0.6697 - precision: 0.6745 - recall: 0.6510 - auc: 0.7349 - f1_score: 0.6623 - mcc: 0.3455 - val_loss: 0.6686 - val_accuracy: 0.6100 - val_precision: 0.6131 - val_recall: 0.6430 - val_auc: 0.6411 - val_f1_score: 0.6277 - val_mcc: 0.2224\n",
            "\n",
            "Epoch 00034: val_loss did not improve from 0.66387\n",
            "Epoch 35/100\n",
            "200/200 [==============================] - 3s 15ms/step - loss: 0.6074 - accuracy: 0.6543 - precision: 0.6548 - recall: 0.6705 - auc: 0.7209 - f1_score: 0.6623 - mcc: 0.3102 - val_loss: 0.6659 - val_accuracy: 0.6125 - val_precision: 0.6334 - val_recall: 0.5746 - val_auc: 0.6484 - val_f1_score: 0.6026 - val_mcc: 0.2377\n",
            "\n",
            "Epoch 00035: val_loss did not improve from 0.66387\n",
            "Epoch 36/100\n",
            "200/200 [==============================] - 3s 14ms/step - loss: 0.6079 - accuracy: 0.6541 - precision: 0.6509 - recall: 0.6282 - auc: 0.7246 - f1_score: 0.6392 - mcc: 0.3122 - val_loss: 0.6759 - val_accuracy: 0.6212 - val_precision: 0.6123 - val_recall: 0.7066 - val_auc: 0.6487 - val_f1_score: 0.6561 - val_mcc: 0.2526\n",
            "\n",
            "Epoch 00036: val_loss did not improve from 0.66387\n",
            "Epoch 37/100\n",
            "200/200 [==============================] - 3s 17ms/step - loss: 0.5956 - accuracy: 0.6678 - precision: 0.6687 - recall: 0.6271 - auc: 0.7395 - f1_score: 0.6463 - mcc: 0.3424 - val_loss: 0.6786 - val_accuracy: 0.5938 - val_precision: 0.6029 - val_recall: 0.6015 - val_auc: 0.6299 - val_f1_score: 0.6022 - val_mcc: 0.1933\n",
            "\n",
            "Epoch 00037: val_loss did not improve from 0.66387\n",
            "Epoch 38/100\n",
            "200/200 [==============================] - 3s 17ms/step - loss: 0.5967 - accuracy: 0.6769 - precision: 0.6754 - recall: 0.6576 - auc: 0.7409 - f1_score: 0.6660 - mcc: 0.3573 - val_loss: 0.6647 - val_accuracy: 0.6212 - val_precision: 0.6109 - val_recall: 0.7139 - val_auc: 0.6555 - val_f1_score: 0.6584 - val_mcc: 0.2499\n",
            "\n",
            "Epoch 00038: val_loss did not improve from 0.66387\n",
            "Epoch 39/100\n",
            "200/200 [==============================] - 3s 15ms/step - loss: 0.5962 - accuracy: 0.6642 - precision: 0.6695 - recall: 0.6579 - auc: 0.7378 - f1_score: 0.6633 - mcc: 0.3365 - val_loss: 0.6666 - val_accuracy: 0.6200 - val_precision: 0.6230 - val_recall: 0.6504 - val_auc: 0.6474 - val_f1_score: 0.6364 - val_mcc: 0.2483\n",
            "\n",
            "Epoch 00039: val_loss did not improve from 0.66387\n",
            "Epoch 40/100\n",
            "200/200 [==============================] - 3s 16ms/step - loss: 0.5893 - accuracy: 0.6765 - precision: 0.6767 - recall: 0.6661 - auc: 0.7478 - f1_score: 0.6713 - mcc: 0.3568 - val_loss: 0.6767 - val_accuracy: 0.6000 - val_precision: 0.6174 - val_recall: 0.5721 - val_auc: 0.6411 - val_f1_score: 0.5939 - val_mcc: 0.2112\n",
            "\n",
            "Epoch 00040: val_loss did not improve from 0.66387\n",
            "Epoch 41/100\n",
            "200/200 [==============================] - 3s 16ms/step - loss: 0.5917 - accuracy: 0.6695 - precision: 0.6755 - recall: 0.6363 - auc: 0.7402 - f1_score: 0.6551 - mcc: 0.3457 - val_loss: 0.6690 - val_accuracy: 0.6263 - val_precision: 0.6291 - val_recall: 0.6553 - val_auc: 0.6528 - val_f1_score: 0.6419 - val_mcc: 0.2520\n",
            "\n",
            "Epoch 00041: val_loss did not improve from 0.66387\n",
            "Epoch 42/100\n",
            "200/200 [==============================] - 3s 16ms/step - loss: 0.5857 - accuracy: 0.6810 - precision: 0.6896 - recall: 0.6451 - auc: 0.7518 - f1_score: 0.6663 - mcc: 0.3739 - val_loss: 0.6804 - val_accuracy: 0.5838 - val_precision: 0.6387 - val_recall: 0.4279 - val_auc: 0.6537 - val_f1_score: 0.5124 - val_mcc: 0.1915\n",
            "\n",
            "Epoch 00042: val_loss did not improve from 0.66387\n",
            "Epoch 43/100\n",
            "200/200 [==============================] - 3s 17ms/step - loss: 0.5958 - accuracy: 0.6601 - precision: 0.6701 - recall: 0.6285 - auc: 0.7362 - f1_score: 0.6475 - mcc: 0.3306 - val_loss: 0.6675 - val_accuracy: 0.6225 - val_precision: 0.6103 - val_recall: 0.7237 - val_auc: 0.6531 - val_f1_score: 0.6622 - val_mcc: 0.2495\n",
            "\n",
            "Epoch 00043: val_loss did not improve from 0.66387\n",
            "Epoch 44/100\n",
            "200/200 [==============================] - 3s 17ms/step - loss: 0.5811 - accuracy: 0.6882 - precision: 0.6923 - recall: 0.6800 - auc: 0.7574 - f1_score: 0.6860 - mcc: 0.3766 - val_loss: 0.6761 - val_accuracy: 0.6175 - val_precision: 0.6493 - val_recall: 0.5477 - val_auc: 0.6471 - val_f1_score: 0.5942 - val_mcc: 0.2547\n",
            "\n",
            "Epoch 00044: val_loss did not improve from 0.66387\n",
            "Epoch 45/100\n",
            "200/200 [==============================] - 3s 16ms/step - loss: 0.5808 - accuracy: 0.6875 - precision: 0.6906 - recall: 0.6793 - auc: 0.7575 - f1_score: 0.6848 - mcc: 0.3779 - val_loss: 0.6718 - val_accuracy: 0.6250 - val_precision: 0.6477 - val_recall: 0.5844 - val_auc: 0.6487 - val_f1_score: 0.6144 - val_mcc: 0.2569\n",
            "\n",
            "Epoch 00045: val_loss did not improve from 0.66387\n",
            "Epoch 46/100\n",
            "200/200 [==============================] - 3s 16ms/step - loss: 0.5810 - accuracy: 0.6827 - precision: 0.6954 - recall: 0.6247 - auc: 0.7552 - f1_score: 0.6563 - mcc: 0.3681 - val_loss: 0.6801 - val_accuracy: 0.6100 - val_precision: 0.6198 - val_recall: 0.6137 - val_auc: 0.6477 - val_f1_score: 0.6167 - val_mcc: 0.2272\n",
            "\n",
            "Epoch 00046: val_loss did not improve from 0.66387\n",
            "Epoch 47/100\n",
            "200/200 [==============================] - 3s 16ms/step - loss: 0.5710 - accuracy: 0.6916 - precision: 0.7008 - recall: 0.6711 - auc: 0.7666 - f1_score: 0.6848 - mcc: 0.3922 - val_loss: 0.6833 - val_accuracy: 0.6112 - val_precision: 0.6612 - val_recall: 0.4914 - val_auc: 0.6584 - val_f1_score: 0.5638 - val_mcc: 0.2401\n",
            "\n",
            "Epoch 00047: val_loss did not improve from 0.66387\n",
            "Epoch 48/100\n",
            "200/200 [==============================] - 3s 17ms/step - loss: 0.5784 - accuracy: 0.6801 - precision: 0.6903 - recall: 0.6761 - auc: 0.7586 - f1_score: 0.6825 - mcc: 0.3670 - val_loss: 0.6824 - val_accuracy: 0.6200 - val_precision: 0.6496 - val_recall: 0.5575 - val_auc: 0.6513 - val_f1_score: 0.6000 - val_mcc: 0.2572\n",
            "\n",
            "Epoch 00048: val_loss did not improve from 0.66387\n",
            "Epoch 49/100\n",
            "200/200 [==============================] - 3s 15ms/step - loss: 0.5744 - accuracy: 0.6899 - precision: 0.6904 - recall: 0.6861 - auc: 0.7623 - f1_score: 0.6879 - mcc: 0.3787 - val_loss: 0.6809 - val_accuracy: 0.6275 - val_precision: 0.6231 - val_recall: 0.6870 - val_auc: 0.6562 - val_f1_score: 0.6535 - val_mcc: 0.2651\n",
            "\n",
            "Epoch 00049: val_loss did not improve from 0.66387\n",
            "Epoch 50/100\n",
            "200/200 [==============================] - 3s 16ms/step - loss: 0.5683 - accuracy: 0.7003 - precision: 0.6986 - recall: 0.7147 - auc: 0.7700 - f1_score: 0.7063 - mcc: 0.4037 - val_loss: 0.6987 - val_accuracy: 0.6162 - val_precision: 0.6275 - val_recall: 0.6137 - val_auc: 0.6416 - val_f1_score: 0.6205 - val_mcc: 0.2413\n",
            "\n",
            "Epoch 00050: val_loss did not improve from 0.66387\n",
            "Epoch 51/100\n",
            "200/200 [==============================] - 4s 18ms/step - loss: 0.5815 - accuracy: 0.6846 - precision: 0.6924 - recall: 0.6596 - auc: 0.7561 - f1_score: 0.6754 - mcc: 0.3820 - val_loss: 0.6679 - val_accuracy: 0.6325 - val_precision: 0.6517 - val_recall: 0.6039 - val_auc: 0.6602 - val_f1_score: 0.6269 - val_mcc: 0.2706\n",
            "\n",
            "Epoch 00051: val_loss did not improve from 0.66387\n",
            "Epoch 52/100\n",
            "200/200 [==============================] - 3s 16ms/step - loss: 0.5753 - accuracy: 0.6856 - precision: 0.6920 - recall: 0.6827 - auc: 0.7605 - f1_score: 0.6865 - mcc: 0.3747 - val_loss: 0.6796 - val_accuracy: 0.6325 - val_precision: 0.6231 - val_recall: 0.7115 - val_auc: 0.6535 - val_f1_score: 0.6644 - val_mcc: 0.2708\n",
            "\n",
            "Epoch 00052: val_loss did not improve from 0.66387\n",
            "Epoch 53/100\n",
            "200/200 [==============================] - 4s 19ms/step - loss: 0.5744 - accuracy: 0.6855 - precision: 0.6913 - recall: 0.6665 - auc: 0.7629 - f1_score: 0.6784 - mcc: 0.3776 - val_loss: 0.6754 - val_accuracy: 0.6237 - val_precision: 0.6492 - val_recall: 0.5746 - val_auc: 0.6571 - val_f1_score: 0.6096 - val_mcc: 0.2549\n",
            "\n",
            "Epoch 00053: val_loss did not improve from 0.66387\n",
            "Epoch 54/100\n",
            "200/200 [==============================] - 3s 16ms/step - loss: 0.5640 - accuracy: 0.6862 - precision: 0.6917 - recall: 0.6669 - auc: 0.7737 - f1_score: 0.6788 - mcc: 0.3712 - val_loss: 0.6690 - val_accuracy: 0.6112 - val_precision: 0.6061 - val_recall: 0.6846 - val_auc: 0.6566 - val_f1_score: 0.6429 - val_mcc: 0.2233\n",
            "\n",
            "Epoch 00054: val_loss did not improve from 0.66387\n",
            "Epoch 55/100\n",
            "200/200 [==============================] - 3s 15ms/step - loss: 0.5683 - accuracy: 0.6954 - precision: 0.6984 - recall: 0.7032 - auc: 0.7684 - f1_score: 0.7007 - mcc: 0.3887 - val_loss: 0.7003 - val_accuracy: 0.5962 - val_precision: 0.6335 - val_recall: 0.4988 - val_auc: 0.6422 - val_f1_score: 0.5581 - val_mcc: 0.2092\n",
            "\n",
            "Epoch 00055: val_loss did not improve from 0.66387\n",
            "Epoch 56/100\n",
            "200/200 [==============================] - 3s 15ms/step - loss: 0.5669 - accuracy: 0.6868 - precision: 0.6917 - recall: 0.6741 - auc: 0.7683 - f1_score: 0.6826 - mcc: 0.3702 - val_loss: 0.6811 - val_accuracy: 0.6200 - val_precision: 0.6096 - val_recall: 0.7139 - val_auc: 0.6539 - val_f1_score: 0.6577 - val_mcc: 0.2496\n",
            "\n",
            "Epoch 00056: val_loss did not improve from 0.66387\n",
            "Epoch 57/100\n",
            "200/200 [==============================] - 3s 16ms/step - loss: 0.5610 - accuracy: 0.7004 - precision: 0.6991 - recall: 0.6990 - auc: 0.7761 - f1_score: 0.6983 - mcc: 0.4068 - val_loss: 0.6870 - val_accuracy: 0.6125 - val_precision: 0.6021 - val_recall: 0.7139 - val_auc: 0.6481 - val_f1_score: 0.6532 - val_mcc: 0.2388\n",
            "\n",
            "Epoch 00057: val_loss did not improve from 0.66387\n",
            "Epoch 58/100\n",
            "200/200 [==============================] - 3s 16ms/step - loss: 0.5661 - accuracy: 0.6902 - precision: 0.6830 - recall: 0.6874 - auc: 0.7699 - f1_score: 0.6847 - mcc: 0.3916 - val_loss: 0.6762 - val_accuracy: 0.6187 - val_precision: 0.6135 - val_recall: 0.6870 - val_auc: 0.6553 - val_f1_score: 0.6482 - val_mcc: 0.2526\n",
            "\n",
            "Epoch 00058: val_loss did not improve from 0.66387\n",
            "Epoch 59/100\n",
            "200/200 [==============================] - 3s 17ms/step - loss: 0.5627 - accuracy: 0.7042 - precision: 0.7027 - recall: 0.7024 - auc: 0.7760 - f1_score: 0.7022 - mcc: 0.4125 - val_loss: 0.6881 - val_accuracy: 0.6025 - val_precision: 0.6182 - val_recall: 0.5819 - val_auc: 0.6623 - val_f1_score: 0.5995 - val_mcc: 0.2197\n",
            "\n",
            "Epoch 00059: val_loss did not improve from 0.66387\n",
            "Epoch 60/100\n",
            "200/200 [==============================] - 3s 16ms/step - loss: 0.5603 - accuracy: 0.6938 - precision: 0.6974 - recall: 0.6929 - auc: 0.7760 - f1_score: 0.6950 - mcc: 0.3907 - val_loss: 0.6877 - val_accuracy: 0.6000 - val_precision: 0.6261 - val_recall: 0.5403 - val_auc: 0.6664 - val_f1_score: 0.5801 - val_mcc: 0.2170\n",
            "\n",
            "Epoch 00060: val_loss did not improve from 0.66387\n",
            "Epoch 61/100\n",
            "200/200 [==============================] - 3s 17ms/step - loss: 0.5568 - accuracy: 0.7017 - precision: 0.7069 - recall: 0.6939 - auc: 0.7802 - f1_score: 0.7001 - mcc: 0.4088 - val_loss: 0.6728 - val_accuracy: 0.6363 - val_precision: 0.6347 - val_recall: 0.6797 - val_auc: 0.6682 - val_f1_score: 0.6564 - val_mcc: 0.2844\n",
            "\n",
            "Epoch 00061: val_loss did not improve from 0.66387\n",
            "Epoch 62/100\n",
            "200/200 [==============================] - 3s 16ms/step - loss: 0.5517 - accuracy: 0.7049 - precision: 0.7052 - recall: 0.7106 - auc: 0.7837 - f1_score: 0.7077 - mcc: 0.4061 - val_loss: 0.6863 - val_accuracy: 0.6012 - val_precision: 0.6166 - val_recall: 0.5819 - val_auc: 0.6657 - val_f1_score: 0.5987 - val_mcc: 0.2197\n",
            "\n",
            "Epoch 00062: val_loss did not improve from 0.66387\n",
            "Epoch 63/100\n",
            "200/200 [==============================] - 3s 16ms/step - loss: 0.5503 - accuracy: 0.7069 - precision: 0.7116 - recall: 0.7014 - auc: 0.7851 - f1_score: 0.7064 - mcc: 0.4125 - val_loss: 0.6842 - val_accuracy: 0.6175 - val_precision: 0.6304 - val_recall: 0.6088 - val_auc: 0.6609 - val_f1_score: 0.6194 - val_mcc: 0.2418\n",
            "\n",
            "Epoch 00063: val_loss did not improve from 0.66387\n",
            "Epoch 64/100\n",
            "200/200 [==============================] - 3s 16ms/step - loss: 0.5422 - accuracy: 0.7131 - precision: 0.7122 - recall: 0.7141 - auc: 0.7960 - f1_score: 0.7130 - mcc: 0.4304 - val_loss: 0.6702 - val_accuracy: 0.6300 - val_precision: 0.6270 - val_recall: 0.6822 - val_auc: 0.6721 - val_f1_score: 0.6534 - val_mcc: 0.2729\n",
            "\n",
            "Epoch 00064: val_loss did not improve from 0.66387\n",
            "Epoch 65/100\n",
            "200/200 [==============================] - 3s 16ms/step - loss: 0.5542 - accuracy: 0.6956 - precision: 0.6983 - recall: 0.6798 - auc: 0.7798 - f1_score: 0.6887 - mcc: 0.3997 - val_loss: 0.6884 - val_accuracy: 0.6212 - val_precision: 0.6147 - val_recall: 0.6944 - val_auc: 0.6624 - val_f1_score: 0.6521 - val_mcc: 0.2499\n",
            "\n",
            "Epoch 00065: val_loss did not improve from 0.66387\n",
            "Epoch 66/100\n",
            "200/200 [==============================] - 3s 16ms/step - loss: 0.5479 - accuracy: 0.7098 - precision: 0.7100 - recall: 0.7115 - auc: 0.7918 - f1_score: 0.7105 - mcc: 0.4247 - val_loss: 0.6797 - val_accuracy: 0.6187 - val_precision: 0.6287 - val_recall: 0.6210 - val_auc: 0.6690 - val_f1_score: 0.6248 - val_mcc: 0.2468\n",
            "\n",
            "Epoch 00066: val_loss did not improve from 0.66387\n",
            "Epoch 67/100\n",
            "200/200 [==============================] - 3s 16ms/step - loss: 0.5434 - accuracy: 0.7188 - precision: 0.7277 - recall: 0.7053 - auc: 0.7938 - f1_score: 0.7155 - mcc: 0.4429 - val_loss: 0.6853 - val_accuracy: 0.6275 - val_precision: 0.6108 - val_recall: 0.7482 - val_auc: 0.6675 - val_f1_score: 0.6725 - val_mcc: 0.2677\n",
            "\n",
            "Epoch 00067: val_loss did not improve from 0.66387\n",
            "Epoch 68/100\n",
            "200/200 [==============================] - 3s 16ms/step - loss: 0.5388 - accuracy: 0.7226 - precision: 0.7156 - recall: 0.7364 - auc: 0.8009 - f1_score: 0.7255 - mcc: 0.4490 - val_loss: 0.6941 - val_accuracy: 0.6100 - val_precision: 0.6293 - val_recall: 0.5770 - val_auc: 0.6579 - val_f1_score: 0.6020 - val_mcc: 0.2238\n",
            "\n",
            "Epoch 00068: val_loss did not improve from 0.66387\n",
            "Epoch 69/100\n",
            "200/200 [==============================] - 3s 17ms/step - loss: 0.5409 - accuracy: 0.7143 - precision: 0.7155 - recall: 0.6983 - auc: 0.7965 - f1_score: 0.7066 - mcc: 0.4323 - val_loss: 0.6915 - val_accuracy: 0.6012 - val_precision: 0.5970 - val_recall: 0.6773 - val_auc: 0.6465 - val_f1_score: 0.6346 - val_mcc: 0.2094\n",
            "\n",
            "Epoch 00069: val_loss did not improve from 0.66387\n",
            "Epoch 70/100\n",
            "200/200 [==============================] - 3s 16ms/step - loss: 0.5570 - accuracy: 0.7016 - precision: 0.7035 - recall: 0.6900 - auc: 0.7780 - f1_score: 0.6965 - mcc: 0.4105 - val_loss: 0.7144 - val_accuracy: 0.6175 - val_precision: 0.5896 - val_recall: 0.8289 - val_auc: 0.6641 - val_f1_score: 0.6890 - val_mcc: 0.2505\n",
            "\n",
            "Epoch 00070: val_loss did not improve from 0.66387\n",
            "Epoch 71/100\n",
            "200/200 [==============================] - 4s 18ms/step - loss: 0.5354 - accuracy: 0.7107 - precision: 0.7021 - recall: 0.7190 - auc: 0.7994 - f1_score: 0.7095 - mcc: 0.4304 - val_loss: 0.6886 - val_accuracy: 0.6087 - val_precision: 0.6039 - val_recall: 0.6822 - val_auc: 0.6645 - val_f1_score: 0.6406 - val_mcc: 0.2281\n",
            "\n",
            "Epoch 00071: val_loss did not improve from 0.66387\n",
            "Epoch 72/100\n",
            "200/200 [==============================] - 3s 14ms/step - loss: 0.5394 - accuracy: 0.7148 - precision: 0.7140 - recall: 0.7170 - auc: 0.7974 - f1_score: 0.7153 - mcc: 0.4350 - val_loss: 0.6832 - val_accuracy: 0.6263 - val_precision: 0.6297 - val_recall: 0.6528 - val_auc: 0.6716 - val_f1_score: 0.6411 - val_mcc: 0.2637\n",
            "\n",
            "Epoch 00072: val_loss did not improve from 0.66387\n",
            "Epoch 73/100\n",
            "200/200 [==============================] - 3s 15ms/step - loss: 0.5346 - accuracy: 0.7195 - precision: 0.7229 - recall: 0.7057 - auc: 0.8017 - f1_score: 0.7138 - mcc: 0.4501 - val_loss: 0.6848 - val_accuracy: 0.6313 - val_precision: 0.6173 - val_recall: 0.7335 - val_auc: 0.6649 - val_f1_score: 0.6704 - val_mcc: 0.2743\n",
            "\n",
            "Epoch 00073: val_loss did not improve from 0.66387\n",
            "Epoch 74/100\n",
            "200/200 [==============================] - 3s 17ms/step - loss: 0.5327 - accuracy: 0.7245 - precision: 0.7145 - recall: 0.7425 - auc: 0.8055 - f1_score: 0.7276 - mcc: 0.4563 - val_loss: 0.6842 - val_accuracy: 0.6200 - val_precision: 0.6078 - val_recall: 0.7237 - val_auc: 0.6665 - val_f1_score: 0.6607 - val_mcc: 0.2512\n",
            "\n",
            "Epoch 00074: val_loss did not improve from 0.66387\n",
            "Epoch 75/100\n",
            "200/200 [==============================] - 3s 17ms/step - loss: 0.5293 - accuracy: 0.7277 - precision: 0.7265 - recall: 0.7389 - auc: 0.8068 - f1_score: 0.7324 - mcc: 0.4577 - val_loss: 0.6810 - val_accuracy: 0.6288 - val_precision: 0.6191 - val_recall: 0.7115 - val_auc: 0.6662 - val_f1_score: 0.6621 - val_mcc: 0.2688\n",
            "\n",
            "Epoch 00075: val_loss did not improve from 0.66387\n",
            "Epoch 76/100\n",
            "200/200 [==============================] - 3s 14ms/step - loss: 0.5330 - accuracy: 0.7214 - precision: 0.7251 - recall: 0.7231 - auc: 0.8046 - f1_score: 0.7240 - mcc: 0.4510 - val_loss: 0.6859 - val_accuracy: 0.6275 - val_precision: 0.6259 - val_recall: 0.6748 - val_auc: 0.6671 - val_f1_score: 0.6494 - val_mcc: 0.2668\n",
            "\n",
            "Epoch 00076: val_loss did not improve from 0.66387\n",
            "Epoch 77/100\n",
            "200/200 [==============================] - 3s 15ms/step - loss: 0.5334 - accuracy: 0.7296 - precision: 0.7298 - recall: 0.7485 - auc: 0.8018 - f1_score: 0.7390 - mcc: 0.4623 - val_loss: 0.6938 - val_accuracy: 0.6037 - val_precision: 0.6322 - val_recall: 0.5379 - val_auc: 0.6697 - val_f1_score: 0.5812 - val_mcc: 0.2312\n",
            "\n",
            "Epoch 00077: val_loss did not improve from 0.66387\n",
            "Epoch 78/100\n",
            "200/200 [==============================] - 3s 17ms/step - loss: 0.5304 - accuracy: 0.7187 - precision: 0.7236 - recall: 0.7055 - auc: 0.8062 - f1_score: 0.7140 - mcc: 0.4458 - val_loss: 0.6919 - val_accuracy: 0.6125 - val_precision: 0.6443 - val_recall: 0.5403 - val_auc: 0.6729 - val_f1_score: 0.5878 - val_mcc: 0.2436\n",
            "\n",
            "Epoch 00078: val_loss did not improve from 0.66387\n",
            "Epoch 79/100\n",
            "200/200 [==============================] - 3s 16ms/step - loss: 0.5265 - accuracy: 0.7171 - precision: 0.7268 - recall: 0.7064 - auc: 0.8103 - f1_score: 0.7157 - mcc: 0.4385 - val_loss: 0.7186 - val_accuracy: 0.6275 - val_precision: 0.6412 - val_recall: 0.6161 - val_auc: 0.6621 - val_f1_score: 0.6284 - val_mcc: 0.2623\n",
            "\n",
            "Epoch 00079: val_loss did not improve from 0.66387\n",
            "Epoch 80/100\n",
            "200/200 [==============================] - 3s 16ms/step - loss: 0.5312 - accuracy: 0.7266 - precision: 0.7308 - recall: 0.7162 - auc: 0.8075 - f1_score: 0.7232 - mcc: 0.4594 - val_loss: 0.6950 - val_accuracy: 0.6400 - val_precision: 0.6458 - val_recall: 0.6553 - val_auc: 0.6713 - val_f1_score: 0.6505 - val_mcc: 0.2886\n",
            "\n",
            "Epoch 00080: val_loss did not improve from 0.66387\n",
            "Epoch 81/100\n",
            "200/200 [==============================] - 3s 17ms/step - loss: 0.5337 - accuracy: 0.7236 - precision: 0.7192 - recall: 0.7330 - auc: 0.8018 - f1_score: 0.7259 - mcc: 0.4584 - val_loss: 0.6786 - val_accuracy: 0.6288 - val_precision: 0.6279 - val_recall: 0.6724 - val_auc: 0.6719 - val_f1_score: 0.6494 - val_mcc: 0.2655\n",
            "\n",
            "Epoch 00081: val_loss did not improve from 0.66387\n",
            "Epoch 82/100\n",
            "200/200 [==============================] - 3s 17ms/step - loss: 0.5160 - accuracy: 0.7321 - precision: 0.7242 - recall: 0.7385 - auc: 0.8199 - f1_score: 0.7311 - mcc: 0.4581 - val_loss: 0.6922 - val_accuracy: 0.6175 - val_precision: 0.6253 - val_recall: 0.6284 - val_auc: 0.6621 - val_f1_score: 0.6268 - val_mcc: 0.2462\n",
            "\n",
            "Epoch 00082: val_loss did not improve from 0.66387\n",
            "Epoch 83/100\n",
            "200/200 [==============================] - 3s 17ms/step - loss: 0.5260 - accuracy: 0.7294 - precision: 0.7315 - recall: 0.7118 - auc: 0.8118 - f1_score: 0.7214 - mcc: 0.4597 - val_loss: 0.6933 - val_accuracy: 0.6250 - val_precision: 0.6225 - val_recall: 0.6773 - val_auc: 0.6721 - val_f1_score: 0.6487 - val_mcc: 0.2545\n",
            "\n",
            "Epoch 00083: val_loss did not improve from 0.66387\n",
            "Epoch 84/100\n",
            "200/200 [==============================] - 3s 17ms/step - loss: 0.5181 - accuracy: 0.7352 - precision: 0.7292 - recall: 0.7565 - auc: 0.8178 - f1_score: 0.7422 - mcc: 0.4719 - val_loss: 0.7574 - val_accuracy: 0.6025 - val_precision: 0.5919 - val_recall: 0.7164 - val_auc: 0.6416 - val_f1_score: 0.6482 - val_mcc: 0.2103\n",
            "\n",
            "Epoch 00084: val_loss did not improve from 0.66387\n",
            "Epoch 85/100\n",
            "200/200 [==============================] - 3s 16ms/step - loss: 0.5313 - accuracy: 0.7210 - precision: 0.7135 - recall: 0.7123 - auc: 0.8040 - f1_score: 0.7123 - mcc: 0.4495 - val_loss: 0.7012 - val_accuracy: 0.6150 - val_precision: 0.6229 - val_recall: 0.6259 - val_auc: 0.6718 - val_f1_score: 0.6244 - val_mcc: 0.2415\n",
            "\n",
            "Epoch 00085: val_loss did not improve from 0.66387\n",
            "Epoch 86/100\n",
            "200/200 [==============================] - 3s 16ms/step - loss: 0.5173 - accuracy: 0.7323 - precision: 0.7323 - recall: 0.7169 - auc: 0.8191 - f1_score: 0.7244 - mcc: 0.4679 - val_loss: 0.6899 - val_accuracy: 0.6288 - val_precision: 0.6379 - val_recall: 0.6333 - val_auc: 0.6711 - val_f1_score: 0.6356 - val_mcc: 0.2683\n",
            "\n",
            "Epoch 00086: val_loss did not improve from 0.66387\n",
            "Epoch 87/100\n",
            "200/200 [==============================] - 3s 17ms/step - loss: 0.5213 - accuracy: 0.7290 - precision: 0.7222 - recall: 0.7189 - auc: 0.8117 - f1_score: 0.7205 - mcc: 0.4642 - val_loss: 0.7142 - val_accuracy: 0.6237 - val_precision: 0.6280 - val_recall: 0.6479 - val_auc: 0.6658 - val_f1_score: 0.6378 - val_mcc: 0.2514\n",
            "\n",
            "Epoch 00087: val_loss did not improve from 0.66387\n",
            "Epoch 88/100\n",
            "200/200 [==============================] - 4s 18ms/step - loss: 0.5128 - accuracy: 0.7408 - precision: 0.7438 - recall: 0.7433 - auc: 0.8237 - f1_score: 0.7434 - mcc: 0.4841 - val_loss: 0.6834 - val_accuracy: 0.6338 - val_precision: 0.6543 - val_recall: 0.6015 - val_auc: 0.6765 - val_f1_score: 0.6268 - val_mcc: 0.2812\n",
            "\n",
            "Epoch 00088: val_loss did not improve from 0.66387\n",
            "Epoch 89/100\n",
            "200/200 [==============================] - 4s 19ms/step - loss: 0.5196 - accuracy: 0.7277 - precision: 0.7287 - recall: 0.7183 - auc: 0.8129 - f1_score: 0.7233 - mcc: 0.4571 - val_loss: 0.6989 - val_accuracy: 0.6200 - val_precision: 0.6454 - val_recall: 0.5697 - val_auc: 0.6658 - val_f1_score: 0.6052 - val_mcc: 0.2537\n",
            "\n",
            "Epoch 00089: val_loss did not improve from 0.66387\n",
            "Epoch 90/100\n",
            "200/200 [==============================] - 3s 17ms/step - loss: 0.5243 - accuracy: 0.7260 - precision: 0.7252 - recall: 0.7323 - auc: 0.8098 - f1_score: 0.7286 - mcc: 0.4570 - val_loss: 0.7048 - val_accuracy: 0.6288 - val_precision: 0.6202 - val_recall: 0.7066 - val_auc: 0.6712 - val_f1_score: 0.6606 - val_mcc: 0.2658\n",
            "\n",
            "Epoch 00090: val_loss did not improve from 0.66387\n",
            "Epoch 91/100\n",
            "200/200 [==============================] - 3s 17ms/step - loss: 0.5128 - accuracy: 0.7355 - precision: 0.7328 - recall: 0.7371 - auc: 0.8193 - f1_score: 0.7347 - mcc: 0.4759 - val_loss: 0.7245 - val_accuracy: 0.6250 - val_precision: 0.6128 - val_recall: 0.7237 - val_auc: 0.6588 - val_f1_score: 0.6637 - val_mcc: 0.2600\n",
            "\n",
            "Epoch 00091: val_loss did not improve from 0.66387\n",
            "Epoch 92/100\n",
            "200/200 [==============================] - 3s 15ms/step - loss: 0.5199 - accuracy: 0.7253 - precision: 0.7225 - recall: 0.7437 - auc: 0.8130 - f1_score: 0.7326 - mcc: 0.4596 - val_loss: 0.7101 - val_accuracy: 0.6250 - val_precision: 0.6394 - val_recall: 0.6112 - val_auc: 0.6641 - val_f1_score: 0.6250 - val_mcc: 0.2532\n",
            "\n",
            "Epoch 00092: val_loss did not improve from 0.66387\n",
            "Epoch 93/100\n",
            "200/200 [==============================] - 3s 15ms/step - loss: 0.5121 - accuracy: 0.7318 - precision: 0.7309 - recall: 0.7275 - auc: 0.8207 - f1_score: 0.7288 - mcc: 0.4683 - val_loss: 0.7216 - val_accuracy: 0.6187 - val_precision: 0.6503 - val_recall: 0.5501 - val_auc: 0.6723 - val_f1_score: 0.5960 - val_mcc: 0.2510\n",
            "\n",
            "Epoch 00093: val_loss did not improve from 0.66387\n",
            "Epoch 94/100\n",
            "200/200 [==============================] - 3s 17ms/step - loss: 0.5122 - accuracy: 0.7330 - precision: 0.7381 - recall: 0.7142 - auc: 0.8210 - f1_score: 0.7256 - mcc: 0.4713 - val_loss: 0.7128 - val_accuracy: 0.6413 - val_precision: 0.6556 - val_recall: 0.6284 - val_auc: 0.6693 - val_f1_score: 0.6417 - val_mcc: 0.2978\n",
            "\n",
            "Epoch 00094: val_loss did not improve from 0.66387\n",
            "Epoch 95/100\n",
            "200/200 [==============================] - 3s 17ms/step - loss: 0.5114 - accuracy: 0.7412 - precision: 0.7431 - recall: 0.7320 - auc: 0.8214 - f1_score: 0.7374 - mcc: 0.4851 - val_loss: 0.7211 - val_accuracy: 0.6263 - val_precision: 0.6127 - val_recall: 0.7311 - val_auc: 0.6593 - val_f1_score: 0.6667 - val_mcc: 0.2610\n",
            "\n",
            "Epoch 00095: val_loss did not improve from 0.66387\n",
            "Epoch 96/100\n",
            "200/200 [==============================] - 3s 16ms/step - loss: 0.5068 - accuracy: 0.7403 - precision: 0.7425 - recall: 0.7400 - auc: 0.8252 - f1_score: 0.7412 - mcc: 0.4817 - val_loss: 0.7065 - val_accuracy: 0.6388 - val_precision: 0.6515 - val_recall: 0.6308 - val_auc: 0.6778 - val_f1_score: 0.6410 - val_mcc: 0.2882\n",
            "\n",
            "Epoch 00096: val_loss did not improve from 0.66387\n",
            "Epoch 97/100\n",
            "200/200 [==============================] - 3s 17ms/step - loss: 0.5035 - accuracy: 0.7464 - precision: 0.7432 - recall: 0.7529 - auc: 0.8305 - f1_score: 0.7479 - mcc: 0.4954 - val_loss: 0.7094 - val_accuracy: 0.6250 - val_precision: 0.6124 - val_recall: 0.7262 - val_auc: 0.6659 - val_f1_score: 0.6644 - val_mcc: 0.2541\n",
            "\n",
            "Epoch 00097: val_loss did not improve from 0.66387\n",
            "Epoch 98/100\n",
            "200/200 [==============================] - 3s 17ms/step - loss: 0.5091 - accuracy: 0.7363 - precision: 0.7365 - recall: 0.7279 - auc: 0.8221 - f1_score: 0.7321 - mcc: 0.4752 - val_loss: 0.7404 - val_accuracy: 0.6200 - val_precision: 0.5946 - val_recall: 0.8068 - val_auc: 0.6726 - val_f1_score: 0.6846 - val_mcc: 0.2542\n",
            "\n",
            "Epoch 00098: val_loss did not improve from 0.66387\n",
            "Epoch 99/100\n",
            "200/200 [==============================] - 3s 17ms/step - loss: 0.5198 - accuracy: 0.7292 - precision: 0.7190 - recall: 0.7585 - auc: 0.8145 - f1_score: 0.7374 - mcc: 0.4655 - val_loss: 0.7176 - val_accuracy: 0.6212 - val_precision: 0.6380 - val_recall: 0.5990 - val_auc: 0.6683 - val_f1_score: 0.6179 - val_mcc: 0.2544\n",
            "\n",
            "Epoch 00099: val_loss did not improve from 0.66387\n",
            "Epoch 100/100\n",
            "200/200 [==============================] - 3s 17ms/step - loss: 0.5073 - accuracy: 0.7372 - precision: 0.7427 - recall: 0.7280 - auc: 0.8248 - f1_score: 0.7350 - mcc: 0.4726 - val_loss: 0.7140 - val_accuracy: 0.6350 - val_precision: 0.6444 - val_recall: 0.6381 - val_auc: 0.6765 - val_f1_score: 0.6413 - val_mcc: 0.2811\n",
            "\n",
            "Epoch 00100: val_loss did not improve from 0.66387\n"
          ],
          "name": "stdout"
        },
        {
          "output_type": "display_data",
          "data": {
            "image/png": "[encoded data removed]",
            "text/plain": [
              "<Figure size 1440x504 with 6 Axes>"
            ]
          },
          "metadata": {
            "tags": [],
            "needs_background": "light"
          }
        }
      ]
    },
    {
      "cell_type": "code",
      "metadata": {
        "colab": {
          "base_uri": "https://localhost:8080/"
        },
        "execution": {
          "iopub.execute_input": "2021-05-27T18:00:09.710628Z",
          "iopub.status.busy": "2021-05-27T18:00:09.709489Z",
          "iopub.status.idle": "2021-05-27T18:00:10.103275Z",
          "shell.execute_reply": "2021-05-27T18:00:10.100972Z"
        },
        "id": "virgin-antenna",
        "papermill": {
          "duration": 4.243752,
          "end_time": "2021-05-27T18:00:10.103546",
          "exception": false,
          "start_time": "2021-05-27T18:00:05.859794",
          "status": "completed"
        },
        "tags": [],
        "outputId": "383563ab-6486-4a20-b125-728392534a49"
      },
      "source": [
        "test_evals = MLP.evaluate(test_data, test_labels, verbose=_VERBOSE)\n",
        "for metrics_name, metrics_value in zip(MLP.metrics_names, test_evals):\n",
        "    print(f'Test {metrics_name}: {metrics_value}')   "
      ],
      "id": "virgin-antenna",
      "execution_count": null,
      "outputs": [
        {
          "output_type": "stream",
          "text": [
            "25/25 [==============================] - 0s 12ms/step - loss: 0.7381 - accuracy: 0.6225 - precision: 0.6433 - recall: 0.5668 - auc: 0.6704 - f1_score: 0.6026 - mcc: 0.2497\n",
            "Test loss: 0.7381463050842285\n",
            "Test accuracy: 0.6225000023841858\n",
            "Test precision: 0.6432584524154663\n",
            "Test recall: 0.5668317079544067\n",
            "Test auc: 0.6703888773918152\n",
            "Test f1_score: [0.6026316]\n",
            "Test mcc: 0.24973666667938232\n"
          ],
          "name": "stdout"
        }
      ]
    },
    {
      "cell_type": "code",
      "metadata": {
        "colab": {
          "base_uri": "https://localhost:8080/"
        },
        "execution": {
          "iopub.execute_input": "2021-05-27T18:00:19.044149Z",
          "iopub.status.busy": "2021-05-27T18:00:19.020307Z",
          "iopub.status.idle": "2021-05-27T18:00:19.202521Z",
          "shell.execute_reply": "2021-05-27T18:00:19.200140Z"
        },
        "id": "martial-struggle",
        "papermill": {
          "duration": 5.145567,
          "end_time": "2021-05-27T18:00:19.202792",
          "exception": false,
          "start_time": "2021-05-27T18:00:14.057225",
          "status": "completed"
        },
        "tags": [],
        "outputId": "63be949f-2f59-4a4b-8099-312ff5587beb"
      },
      "source": [
        "CNN = models.Sequential(\n",
        "    [\n",
        "    layers.Reshape((12, -1), input_shape=(12,)),\n",
        "    layers.Conv1D(8, 8, activation='relu', name='conv_1'),\n",
        "    layers.Conv1D(8, 4, activation='relu', name='conv_2'),\n",
        "    layers.Flatten(name='flatten'),\n",
        "    layers.Dense(50, activation='relu', name='dense_1'),\n",
        "    layers.Dense(50, activation='relu', name='dense_2'),\n",
        "    layers.Dropout(0.5, name='dropout_1'),\n",
        "    layers.Dense(10, activation='relu', name='dense_3'),\n",
        "    layers.Dense(1, activation='sigmoid', name='dense_4')\n",
        "], name='CNN')\n",
        "\n",
        "CNN.compile(optimizer=optimizers.Adam(lr=_LEARNING_RATE),\n",
        "                loss=losses.BinaryCrossentropy(),\n",
        "                metrics=_METRICS)\n",
        "\n",
        "CNN.summary()"
      ],
      "id": "martial-struggle",
      "execution_count": null,
      "outputs": [
        {
          "output_type": "stream",
          "text": [
            "Model: \"CNN\"\n",
            "_________________________________________________________________\n",
            "Layer (type)                 Output Shape              Param #   \n",
            "=================================================================\n",
            "reshape_1 (Reshape)          (None, 12, 1)             0         \n",
            "_________________________________________________________________\n",
            "conv_1 (Conv1D)              (None, 5, 8)              72        \n",
            "_________________________________________________________________\n",
            "conv_2 (Conv1D)              (None, 2, 8)              264       \n",
            "_________________________________________________________________\n",
            "flatten (Flatten)            (None, 16)                0         \n",
            "_________________________________________________________________\n",
            "dense_1 (Dense)              (None, 50)                850       \n",
            "_________________________________________________________________\n",
            "dense_2 (Dense)              (None, 50)                2550      \n",
            "_________________________________________________________________\n",
            "dropout_1 (Dropout)          (None, 50)                0         \n",
            "_________________________________________________________________\n",
            "dense_3 (Dense)              (None, 10)                510       \n",
            "_________________________________________________________________\n",
            "dense_4 (Dense)              (None, 1)                 11        \n",
            "=================================================================\n",
            "Total params: 4,257\n",
            "Trainable params: 4,257\n",
            "Non-trainable params: 0\n",
            "_________________________________________________________________\n"
          ],
          "name": "stdout"
        }
      ]
    },
    {
      "cell_type": "code",
      "metadata": {
        "colab": {
          "base_uri": "https://localhost:8080/",
          "height": 1000
        },
        "collapsed": true,
        "execution": {
          "iopub.execute_input": "2021-05-27T18:00:27.260760Z",
          "iopub.status.busy": "2021-05-27T18:00:27.259313Z",
          "iopub.status.idle": "2021-05-27T18:03:14.070115Z",
          "shell.execute_reply": "2021-05-27T18:03:14.071486Z"
        },
        "id": "experienced-radiation",
        "jupyter": {
          "outputs_hidden": true
        },
        "papermill": {
          "duration": 170.713082,
          "end_time": "2021-05-27T18:03:14.072087",
          "exception": false,
          "start_time": "2021-05-27T18:00:23.359005",
          "status": "completed"
        },
        "tags": [],
        "outputId": "98d0d922-bc24-476e-ee00-154d027a4f4f"
      },
      "source": [
        "CNN_training_history = CNN.fit(train_data, train_labels, batch_size=_BATCH_SIZE,\n",
        "                                        epochs=_EPOCHS, validation_data=(val_data, val_labels),\n",
        "                                        verbose=_VERBOSE, callbacks=get_callbacks('CNN'))\n",
        "plot_metrics(CNN_training_history, 'CNN_2')"
      ],
      "id": "experienced-radiation",
      "execution_count": null,
      "outputs": [
        {
          "output_type": "stream",
          "text": [
            "Epoch 1/100\n",
            "200/200 [==============================] - 7s 23ms/step - loss: 0.6940 - accuracy: 0.5371 - precision: 0.5344 - recall: 0.6264 - auc: 0.5667 - f1_score: 0.5741 - mcc: nan - val_loss: 0.6938 - val_accuracy: 0.5425 - val_precision: 0.5405 - val_recall: 0.7017 - val_auc: 0.5360 - val_f1_score: 0.6106 - val_mcc: 0.0855\n",
            "\n",
            "Epoch 00001: val_loss improved from inf to 0.69378, saving model to ./models/CNN.h5\n",
            "Epoch 2/100\n",
            "200/200 [==============================] - 4s 19ms/step - loss: 0.6907 - accuracy: 0.5366 - precision: 0.5395 - recall: 0.5385 - auc: 0.5507 - f1_score: 0.5363 - mcc: 0.0770 - val_loss: 0.6880 - val_accuracy: 0.5387 - val_precision: 0.5730 - val_recall: 0.3839 - val_auc: 0.5693 - val_f1_score: 0.4597 - val_mcc: 0.0826\n",
            "\n",
            "Epoch 00002: val_loss improved from 0.69378 to 0.68800, saving model to ./models/CNN.h5\n",
            "Epoch 3/100\n",
            "200/200 [==============================] - 4s 19ms/step - loss: 0.6877 - accuracy: 0.5390 - precision: 0.5460 - recall: 0.4025 - auc: 0.5543 - f1_score: 0.4626 - mcc: 0.0818 - val_loss: 0.6861 - val_accuracy: 0.5487 - val_precision: 0.5490 - val_recall: 0.6577 - val_auc: 0.5708 - val_f1_score: 0.5984 - val_mcc: 0.0973\n",
            "\n",
            "Epoch 00003: val_loss improved from 0.68800 to 0.68610, saving model to ./models/CNN.h5\n",
            "Epoch 4/100\n",
            "200/200 [==============================] - 4s 19ms/step - loss: 0.6838 - accuracy: 0.5547 - precision: 0.5643 - recall: 0.4812 - auc: 0.5706 - f1_score: 0.5178 - mcc: 0.1080 - val_loss: 0.6845 - val_accuracy: 0.5650 - val_precision: 0.5761 - val_recall: 0.5648 - val_auc: 0.5769 - val_f1_score: 0.5704 - val_mcc: 0.1324\n",
            "\n",
            "Epoch 00004: val_loss improved from 0.68610 to 0.68454, saving model to ./models/CNN.h5\n",
            "Epoch 5/100\n",
            "200/200 [==============================] - 4s 19ms/step - loss: 0.6831 - accuracy: 0.5591 - precision: 0.5640 - recall: 0.5508 - auc: 0.5727 - f1_score: 0.5556 - mcc: 0.1178 - val_loss: 0.6838 - val_accuracy: 0.5638 - val_precision: 0.5968 - val_recall: 0.4523 - val_auc: 0.5815 - val_f1_score: 0.5146 - val_mcc: 0.1343\n",
            "\n",
            "Epoch 00005: val_loss improved from 0.68454 to 0.68376, saving model to ./models/CNN.h5\n",
            "Epoch 6/100\n",
            "200/200 [==============================] - 4s 18ms/step - loss: 0.6835 - accuracy: 0.5554 - precision: 0.5577 - recall: 0.5081 - auc: 0.5744 - f1_score: 0.5314 - mcc: 0.1131 - val_loss: 0.6845 - val_accuracy: 0.5663 - val_precision: 0.5939 - val_recall: 0.4792 - val_auc: 0.5782 - val_f1_score: 0.5304 - val_mcc: 0.1359\n",
            "\n",
            "Epoch 00006: val_loss did not improve from 0.68376\n",
            "Epoch 7/100\n",
            "200/200 [==============================] - 4s 19ms/step - loss: 0.6793 - accuracy: 0.5621 - precision: 0.5671 - recall: 0.5512 - auc: 0.5864 - f1_score: 0.5587 - mcc: 0.1206 - val_loss: 0.6818 - val_accuracy: 0.5612 - val_precision: 0.5744 - val_recall: 0.5477 - val_auc: 0.5818 - val_f1_score: 0.5607 - val_mcc: 0.1266\n",
            "\n",
            "Epoch 00007: val_loss improved from 0.68376 to 0.68183, saving model to ./models/CNN.h5\n",
            "Epoch 8/100\n",
            "200/200 [==============================] - 4s 19ms/step - loss: 0.6789 - accuracy: 0.5731 - precision: 0.5791 - recall: 0.5546 - auc: 0.5900 - f1_score: 0.5664 - mcc: 0.1465 - val_loss: 0.6815 - val_accuracy: 0.5612 - val_precision: 0.5792 - val_recall: 0.5183 - val_auc: 0.5851 - val_f1_score: 0.5471 - val_mcc: 0.1245\n",
            "\n",
            "Epoch 00008: val_loss improved from 0.68183 to 0.68153, saving model to ./models/CNN.h5\n",
            "Epoch 9/100\n",
            "200/200 [==============================] - 4s 19ms/step - loss: 0.6768 - accuracy: 0.5702 - precision: 0.5706 - recall: 0.4752 - auc: 0.5938 - f1_score: 0.5182 - mcc: 0.1412 - val_loss: 0.6797 - val_accuracy: 0.5725 - val_precision: 0.5844 - val_recall: 0.5672 - val_auc: 0.5878 - val_f1_score: 0.5757 - val_mcc: 0.1471\n",
            "\n",
            "Epoch 00009: val_loss improved from 0.68153 to 0.67966, saving model to ./models/CNN.h5\n",
            "Epoch 10/100\n",
            "200/200 [==============================] - 4s 19ms/step - loss: 0.6774 - accuracy: 0.5791 - precision: 0.5882 - recall: 0.5575 - auc: 0.5944 - f1_score: 0.5722 - mcc: 0.1608 - val_loss: 0.6841 - val_accuracy: 0.5587 - val_precision: 0.5819 - val_recall: 0.4866 - val_auc: 0.5854 - val_f1_score: 0.5300 - val_mcc: 0.1284\n",
            "\n",
            "Epoch 00010: val_loss did not improve from 0.67966\n",
            "Epoch 11/100\n",
            "200/200 [==============================] - 4s 19ms/step - loss: 0.6715 - accuracy: 0.5961 - precision: 0.6066 - recall: 0.5724 - auc: 0.6129 - f1_score: 0.5888 - mcc: 0.1951 - val_loss: 0.6812 - val_accuracy: 0.5663 - val_precision: 0.6013 - val_recall: 0.4499 - val_auc: 0.5942 - val_f1_score: 0.5147 - val_mcc: 0.1370\n",
            "\n",
            "Epoch 00011: val_loss did not improve from 0.67966\n",
            "Epoch 12/100\n",
            "200/200 [==============================] - 4s 21ms/step - loss: 0.6708 - accuracy: 0.5964 - precision: 0.5980 - recall: 0.5375 - auc: 0.6132 - f1_score: 0.5660 - mcc: 0.1929 - val_loss: 0.6815 - val_accuracy: 0.5788 - val_precision: 0.5833 - val_recall: 0.6161 - val_auc: 0.5959 - val_f1_score: 0.5993 - val_mcc: 0.1582\n",
            "\n",
            "Epoch 00012: val_loss did not improve from 0.67966\n",
            "Epoch 13/100\n",
            "200/200 [==============================] - 4s 20ms/step - loss: 0.6675 - accuracy: 0.5970 - precision: 0.6015 - recall: 0.5337 - auc: 0.6205 - f1_score: 0.5652 - mcc: 0.1972 - val_loss: 0.6790 - val_accuracy: 0.5875 - val_precision: 0.6015 - val_recall: 0.5721 - val_auc: 0.5985 - val_f1_score: 0.5865 - val_mcc: 0.1756\n",
            "\n",
            "Epoch 00013: val_loss improved from 0.67966 to 0.67900, saving model to ./models/CNN.h5\n",
            "Epoch 14/100\n",
            "200/200 [==============================] - 4s 20ms/step - loss: 0.6712 - accuracy: 0.5878 - precision: 0.5975 - recall: 0.5573 - auc: 0.6173 - f1_score: 0.5765 - mcc: 0.1822 - val_loss: 0.6837 - val_accuracy: 0.5725 - val_precision: 0.6106 - val_recall: 0.4523 - val_auc: 0.5931 - val_f1_score: 0.5197 - val_mcc: 0.1557\n",
            "\n",
            "Epoch 00014: val_loss did not improve from 0.67900\n",
            "Epoch 15/100\n",
            "200/200 [==============================] - 4s 19ms/step - loss: 0.6691 - accuracy: 0.6026 - precision: 0.6284 - recall: 0.5109 - auc: 0.6187 - f1_score: 0.5627 - mcc: 0.2113 - val_loss: 0.6823 - val_accuracy: 0.5775 - val_precision: 0.6172 - val_recall: 0.4572 - val_auc: 0.5966 - val_f1_score: 0.5253 - val_mcc: 0.1647\n",
            "\n",
            "Epoch 00015: val_loss did not improve from 0.67900\n",
            "Epoch 16/100\n",
            "200/200 [==============================] - 4s 20ms/step - loss: 0.6699 - accuracy: 0.5968 - precision: 0.5977 - recall: 0.5041 - auc: 0.6151 - f1_score: 0.5462 - mcc: 0.1938 - val_loss: 0.6789 - val_accuracy: 0.5863 - val_precision: 0.6010 - val_recall: 0.5672 - val_auc: 0.6004 - val_f1_score: 0.5836 - val_mcc: 0.1721\n",
            "\n",
            "Epoch 00016: val_loss improved from 0.67900 to 0.67891, saving model to ./models/CNN.h5\n",
            "Epoch 17/100\n",
            "200/200 [==============================] - 3s 17ms/step - loss: 0.6605 - accuracy: 0.6110 - precision: 0.6154 - recall: 0.5511 - auc: 0.6377 - f1_score: 0.5812 - mcc: 0.2251 - val_loss: 0.6962 - val_accuracy: 0.5688 - val_precision: 0.5773 - val_recall: 0.5844 - val_auc: 0.5939 - val_f1_score: 0.5808 - val_mcc: 0.1370\n",
            "\n",
            "Epoch 00017: val_loss did not improve from 0.67891\n",
            "Epoch 18/100\n",
            "200/200 [==============================] - 3s 17ms/step - loss: 0.6635 - accuracy: 0.6041 - precision: 0.6114 - recall: 0.5499 - auc: 0.6350 - f1_score: 0.5787 - mcc: 0.2099 - val_loss: 0.6772 - val_accuracy: 0.5813 - val_precision: 0.5864 - val_recall: 0.6137 - val_auc: 0.6046 - val_f1_score: 0.5998 - val_mcc: 0.1619\n",
            "\n",
            "Epoch 00018: val_loss improved from 0.67891 to 0.67718, saving model to ./models/CNN.h5\n",
            "Epoch 19/100\n",
            "200/200 [==============================] - 4s 18ms/step - loss: 0.6613 - accuracy: 0.6124 - precision: 0.6171 - recall: 0.5981 - auc: 0.6400 - f1_score: 0.6069 - mcc: 0.2276 - val_loss: 0.6848 - val_accuracy: 0.5587 - val_precision: 0.5596 - val_recall: 0.6430 - val_auc: 0.5948 - val_f1_score: 0.5984 - val_mcc: 0.1224\n",
            "\n",
            "Epoch 00019: val_loss did not improve from 0.67718\n",
            "Epoch 20/100\n",
            "200/200 [==============================] - 4s 19ms/step - loss: 0.6636 - accuracy: 0.5997 - precision: 0.6040 - recall: 0.5721 - auc: 0.6316 - f1_score: 0.5867 - mcc: 0.2012 - val_loss: 0.6804 - val_accuracy: 0.5800 - val_precision: 0.5968 - val_recall: 0.5501 - val_auc: 0.6036 - val_f1_score: 0.5725 - val_mcc: 0.1659\n",
            "\n",
            "Epoch 00020: val_loss did not improve from 0.67718\n",
            "Epoch 21/100\n",
            "200/200 [==============================] - 4s 19ms/step - loss: 0.6633 - accuracy: 0.6032 - precision: 0.6197 - recall: 0.5617 - auc: 0.6306 - f1_score: 0.5890 - mcc: 0.2073 - val_loss: 0.6856 - val_accuracy: 0.5750 - val_precision: 0.6088 - val_recall: 0.4719 - val_auc: 0.5975 - val_f1_score: 0.5317 - val_mcc: 0.1660\n",
            "\n",
            "Epoch 00021: val_loss did not improve from 0.67718\n",
            "Epoch 22/100\n",
            "200/200 [==============================] - 4s 19ms/step - loss: 0.6616 - accuracy: 0.5974 - precision: 0.6112 - recall: 0.4806 - auc: 0.6325 - f1_score: 0.5365 - mcc: 0.1973 - val_loss: 0.6750 - val_accuracy: 0.5938 - val_precision: 0.6135 - val_recall: 0.5550 - val_auc: 0.6135 - val_f1_score: 0.5828 - val_mcc: 0.1960\n",
            "\n",
            "Epoch 00022: val_loss improved from 0.67718 to 0.67495, saving model to ./models/CNN.h5\n",
            "Epoch 23/100\n",
            "200/200 [==============================] - 4s 19ms/step - loss: 0.6604 - accuracy: 0.6081 - precision: 0.6206 - recall: 0.5655 - auc: 0.6384 - f1_score: 0.5915 - mcc: 0.2197 - val_loss: 0.6797 - val_accuracy: 0.5825 - val_precision: 0.5793 - val_recall: 0.6699 - val_auc: 0.6084 - val_f1_score: 0.6213 - val_mcc: 0.1639\n",
            "\n",
            "Epoch 00023: val_loss did not improve from 0.67495\n",
            "Epoch 24/100\n",
            "200/200 [==============================] - 4s 19ms/step - loss: 0.6532 - accuracy: 0.6225 - precision: 0.6235 - recall: 0.6092 - auc: 0.6590 - f1_score: 0.6153 - mcc: 0.2465 - val_loss: 0.6817 - val_accuracy: 0.5713 - val_precision: 0.5851 - val_recall: 0.5550 - val_auc: 0.6069 - val_f1_score: 0.5696 - val_mcc: 0.1511\n",
            "\n",
            "Epoch 00024: val_loss did not improve from 0.67495\n",
            "Epoch 25/100\n",
            "200/200 [==============================] - 4s 19ms/step - loss: 0.6573 - accuracy: 0.6237 - precision: 0.6316 - recall: 0.5555 - auc: 0.6473 - f1_score: 0.5905 - mcc: 0.2485 - val_loss: 0.6796 - val_accuracy: 0.5888 - val_precision: 0.6064 - val_recall: 0.5575 - val_auc: 0.6013 - val_f1_score: 0.5809 - val_mcc: 0.1875\n",
            "\n",
            "Epoch 00025: val_loss did not improve from 0.67495\n",
            "Epoch 26/100\n",
            "200/200 [==============================] - 4s 18ms/step - loss: 0.6561 - accuracy: 0.6112 - precision: 0.6306 - recall: 0.5560 - auc: 0.6475 - f1_score: 0.5908 - mcc: 0.2252 - val_loss: 0.6852 - val_accuracy: 0.5800 - val_precision: 0.6090 - val_recall: 0.4988 - val_auc: 0.6086 - val_f1_score: 0.5484 - val_mcc: 0.1733\n",
            "\n",
            "Epoch 00026: val_loss did not improve from 0.67495\n",
            "Epoch 27/100\n",
            "200/200 [==============================] - 4s 19ms/step - loss: 0.6579 - accuracy: 0.6101 - precision: 0.6223 - recall: 0.5658 - auc: 0.6443 - f1_score: 0.5923 - mcc: 0.2247 - val_loss: 0.6855 - val_accuracy: 0.5863 - val_precision: 0.6043 - val_recall: 0.5526 - val_auc: 0.6089 - val_f1_score: 0.5773 - val_mcc: 0.1815\n",
            "\n",
            "Epoch 00027: val_loss did not improve from 0.67495\n",
            "Epoch 28/100\n",
            "200/200 [==============================] - 4s 20ms/step - loss: 0.6574 - accuracy: 0.6100 - precision: 0.6192 - recall: 0.5567 - auc: 0.6496 - f1_score: 0.5861 - mcc: 0.2243 - val_loss: 0.6907 - val_accuracy: 0.5800 - val_precision: 0.5828 - val_recall: 0.6284 - val_auc: 0.5979 - val_f1_score: 0.6047 - val_mcc: 0.1665\n",
            "\n",
            "Epoch 00028: val_loss did not improve from 0.67495\n",
            "Epoch 29/100\n",
            "200/200 [==============================] - 4s 21ms/step - loss: 0.6614 - accuracy: 0.5996 - precision: 0.6057 - recall: 0.5391 - auc: 0.6360 - f1_score: 0.5692 - mcc: 0.2057 - val_loss: 0.6864 - val_accuracy: 0.5825 - val_precision: 0.5931 - val_recall: 0.5844 - val_auc: 0.6065 - val_f1_score: 0.5887 - val_mcc: 0.1753\n",
            "\n",
            "Epoch 00029: val_loss did not improve from 0.67495\n",
            "Epoch 30/100\n",
            "200/200 [==============================] - 4s 20ms/step - loss: 0.6527 - accuracy: 0.6250 - precision: 0.6435 - recall: 0.5600 - auc: 0.6571 - f1_score: 0.5987 - mcc: 0.2533 - val_loss: 0.6828 - val_accuracy: 0.5875 - val_precision: 0.6005 - val_recall: 0.5770 - val_auc: 0.6110 - val_f1_score: 0.5885 - val_mcc: 0.1810\n",
            "\n",
            "Epoch 00030: val_loss did not improve from 0.67495\n",
            "Epoch 31/100\n",
            "200/200 [==============================] - 4s 18ms/step - loss: 0.6462 - accuracy: 0.6136 - precision: 0.6353 - recall: 0.5640 - auc: 0.6647 - f1_score: 0.5974 - mcc: 0.2347 - val_loss: 0.6856 - val_accuracy: 0.5813 - val_precision: 0.5837 - val_recall: 0.6308 - val_auc: 0.6051 - val_f1_score: 0.6063 - val_mcc: 0.1684\n",
            "\n",
            "Epoch 00031: val_loss did not improve from 0.67495\n",
            "Epoch 32/100\n",
            "200/200 [==============================] - 4s 18ms/step - loss: 0.6479 - accuracy: 0.6249 - precision: 0.6336 - recall: 0.6037 - auc: 0.6649 - f1_score: 0.6180 - mcc: 0.2458 - val_loss: 0.6862 - val_accuracy: 0.5825 - val_precision: 0.6133 - val_recall: 0.4963 - val_auc: 0.6087 - val_f1_score: 0.5486 - val_mcc: 0.1779\n",
            "\n",
            "Epoch 00032: val_loss did not improve from 0.67495\n",
            "Epoch 33/100\n",
            "200/200 [==============================] - 4s 18ms/step - loss: 0.6453 - accuracy: 0.6200 - precision: 0.6369 - recall: 0.5620 - auc: 0.6674 - f1_score: 0.5968 - mcc: 0.2441 - val_loss: 0.6837 - val_accuracy: 0.5888 - val_precision: 0.6031 - val_recall: 0.5721 - val_auc: 0.6135 - val_f1_score: 0.5872 - val_mcc: 0.1861\n",
            "\n",
            "Epoch 00033: val_loss did not improve from 0.67495\n",
            "Epoch 34/100\n",
            "200/200 [==============================] - 4s 18ms/step - loss: 0.6414 - accuracy: 0.6247 - precision: 0.6353 - recall: 0.5507 - auc: 0.6727 - f1_score: 0.5899 - mcc: 0.2526 - val_loss: 0.6854 - val_accuracy: 0.5800 - val_precision: 0.5859 - val_recall: 0.6088 - val_auc: 0.6089 - val_f1_score: 0.5971 - val_mcc: 0.1671\n",
            "\n",
            "Epoch 00034: val_loss did not improve from 0.67495\n",
            "Epoch 35/100\n",
            "200/200 [==============================] - 4s 20ms/step - loss: 0.6423 - accuracy: 0.6282 - precision: 0.6400 - recall: 0.6054 - auc: 0.6765 - f1_score: 0.6218 - mcc: 0.2559 - val_loss: 0.6824 - val_accuracy: 0.5875 - val_precision: 0.5876 - val_recall: 0.6479 - val_auc: 0.6181 - val_f1_score: 0.6163 - val_mcc: 0.1806\n",
            "\n",
            "Epoch 00035: val_loss did not improve from 0.67495\n",
            "Epoch 36/100\n",
            "200/200 [==============================] - 4s 20ms/step - loss: 0.6410 - accuracy: 0.6224 - precision: 0.6255 - recall: 0.5868 - auc: 0.6787 - f1_score: 0.6045 - mcc: 0.2530 - val_loss: 0.6870 - val_accuracy: 0.5838 - val_precision: 0.5872 - val_recall: 0.6259 - val_auc: 0.6192 - val_f1_score: 0.6059 - val_mcc: 0.1743\n",
            "\n",
            "Epoch 00036: val_loss did not improve from 0.67495\n",
            "Epoch 37/100\n",
            "200/200 [==============================] - 4s 19ms/step - loss: 0.6418 - accuracy: 0.6291 - precision: 0.6375 - recall: 0.5937 - auc: 0.6758 - f1_score: 0.6145 - mcc: 0.2624 - val_loss: 0.6820 - val_accuracy: 0.5863 - val_precision: 0.5965 - val_recall: 0.5892 - val_auc: 0.6124 - val_f1_score: 0.5929 - val_mcc: 0.1835\n",
            "\n",
            "Epoch 00037: val_loss did not improve from 0.67495\n",
            "Epoch 38/100\n",
            "200/200 [==============================] - 4s 20ms/step - loss: 0.6362 - accuracy: 0.6253 - precision: 0.6369 - recall: 0.5874 - auc: 0.6833 - f1_score: 0.6109 - mcc: 0.2469 - val_loss: 0.6810 - val_accuracy: 0.5950 - val_precision: 0.5968 - val_recall: 0.6406 - val_auc: 0.6208 - val_f1_score: 0.6179 - val_mcc: 0.1945\n",
            "\n",
            "Epoch 00038: val_loss did not improve from 0.67495\n",
            "Epoch 39/100\n",
            "200/200 [==============================] - 4s 18ms/step - loss: 0.6390 - accuracy: 0.6285 - precision: 0.6474 - recall: 0.5938 - auc: 0.6783 - f1_score: 0.6193 - mcc: 0.2588 - val_loss: 0.6864 - val_accuracy: 0.5863 - val_precision: 0.5911 - val_recall: 0.6186 - val_auc: 0.6222 - val_f1_score: 0.6045 - val_mcc: 0.1795\n",
            "\n",
            "Epoch 00039: val_loss did not improve from 0.67495\n",
            "Epoch 40/100\n",
            "200/200 [==============================] - 4s 19ms/step - loss: 0.6403 - accuracy: 0.6248 - precision: 0.6362 - recall: 0.6025 - auc: 0.6763 - f1_score: 0.6186 - mcc: 0.2460 - val_loss: 0.6815 - val_accuracy: 0.5987 - val_precision: 0.5973 - val_recall: 0.6601 - val_auc: 0.6217 - val_f1_score: 0.6272 - val_mcc: 0.2042\n",
            "\n",
            "Epoch 00040: val_loss did not improve from 0.67495\n",
            "Epoch 41/100\n",
            "200/200 [==============================] - 4s 20ms/step - loss: 0.6286 - accuracy: 0.6390 - precision: 0.6590 - recall: 0.6242 - auc: 0.6938 - f1_score: 0.6409 - mcc: 0.2764 - val_loss: 0.6825 - val_accuracy: 0.5813 - val_precision: 0.5885 - val_recall: 0.6015 - val_auc: 0.6218 - val_f1_score: 0.5949 - val_mcc: 0.1720\n",
            "\n",
            "Epoch 00041: val_loss did not improve from 0.67495\n",
            "Epoch 42/100\n",
            "200/200 [==============================] - 4s 19ms/step - loss: 0.6350 - accuracy: 0.6365 - precision: 0.6478 - recall: 0.6006 - auc: 0.6856 - f1_score: 0.6228 - mcc: 0.2757 - val_loss: 0.6825 - val_accuracy: 0.5888 - val_precision: 0.6111 - val_recall: 0.5379 - val_auc: 0.6239 - val_f1_score: 0.5722 - val_mcc: 0.1873\n",
            "Restoring model weights from the end of the best epoch.\n",
            "\n",
            "Epoch 00042: val_loss did not improve from 0.67495\n",
            "Epoch 00042: early stopping\n"
          ],
          "name": "stdout"
        },
        {
          "output_type": "display_data",
          "data": {
            "image/png": "[encoded data removed]",
            "text/plain": [
              "<Figure size 1440x504 with 6 Axes>"
            ]
          },
          "metadata": {
            "tags": [],
            "needs_background": "light"
          }
        }
      ]
    },
    {
      "cell_type": "code",
      "metadata": {
        "colab": {
          "base_uri": "https://localhost:8080/"
        },
        "execution": {
          "iopub.execute_input": "2021-05-27T18:03:26.063737Z",
          "iopub.status.busy": "2021-05-27T18:03:26.062438Z",
          "iopub.status.idle": "2021-05-27T18:03:26.454891Z",
          "shell.execute_reply": "2021-05-27T18:03:26.454099Z"
        },
        "id": "interpreted-setting",
        "papermill": {
          "duration": 5.734052,
          "end_time": "2021-05-27T18:03:26.455097",
          "exception": false,
          "start_time": "2021-05-27T18:03:20.721045",
          "status": "completed"
        },
        "tags": [],
        "outputId": "33e8227c-ac8d-4714-e721-2e1d6fcdcfbc"
      },
      "source": [
        "test_evals = CNN.evaluate(test_data, test_labels, verbose=_VERBOSE)\n",
        "for metrics_name, metrics_value in zip(CNN.metrics_names, test_evals):\n",
        "    print(f'Test {metrics_name}: {metrics_value}')   "
      ],
      "id": "interpreted-setting",
      "execution_count": null,
      "outputs": [
        {
          "output_type": "stream",
          "text": [
            "25/25 [==============================] - 0s 12ms/step - loss: 0.6810 - accuracy: 0.5537 - precision: 0.5658 - recall: 0.5000 - auc: 0.5754 - f1_score: 0.5309 - mcc: 0.1150\n",
            "Test loss: 0.68097323179245\n",
            "Test accuracy: 0.5537499785423279\n",
            "Test precision: 0.5658263564109802\n",
            "Test recall: 0.5\n",
            "Test auc: 0.5753981471061707\n",
            "Test f1_score: [0.5308804]\n",
            "Test mcc: 0.11504411697387695\n"
          ],
          "name": "stdout"
        }
      ]
    },
    {
      "cell_type": "code",
      "metadata": {
        "colab": {
          "base_uri": "https://localhost:8080/",
          "height": 391
        },
        "execution": {
          "iopub.execute_input": "2021-05-27T18:03:36.686384Z",
          "iopub.status.busy": "2021-05-27T18:03:36.677848Z",
          "iopub.status.idle": "2021-05-27T18:04:26.780533Z",
          "shell.execute_reply": "2021-05-27T18:04:26.781641Z"
        },
        "id": "silent-advancement",
        "papermill": {
          "duration": 55.205827,
          "end_time": "2021-05-27T18:04:26.781964",
          "exception": false,
          "start_time": "2021-05-27T18:03:31.576137",
          "status": "completed"
        },
        "tags": [],
        "outputId": "31b17f4f-3124-4293-afef-28b6bc5dc778"
      },
      "source": [
        "# Choose the metric to plot\n",
        "metric_to_plot = 'auc'  # possible options are: accuracy, precision, recall, auc, f1_score, mcc\n",
        "_BOOTSTRAP_N = 100\n",
        "_SAMPLES_PER_BOOTSTRAP = 400\n",
        "\n",
        "def get_bootstrap_statistics(model, test_data, test_labels, metrics, \n",
        "                             n_bootstraps, n_samples):\n",
        "    # This function evaluates the model performance based on bootstrap \n",
        "    # statistics\n",
        "    evals = []\n",
        "    for _ in range(n_bootstraps):\n",
        "        sub_data, sub_target = resample(test_data, test_labels, n_samples=n_samples)\n",
        "        sub_eval = model.evaluate(sub_data, sub_target, verbose=0)\n",
        "        evals.append(sub_eval[model.metrics_names.index(metrics)])\n",
        "\n",
        "    return np.mean(evals), np.std(evals) * 2\n",
        "\n",
        "\n",
        "models_dict = {'MLP_2': MLP, 'CNN_2': CNN}\n",
        "model_metrics = {}\n",
        "\n",
        "# Computing the metric lncRNA models\n",
        "for model_name, model in models_dict.items():\n",
        "    model_metrics[model_name] = get_bootstrap_statistics(\n",
        "        model, test_data, test_labels, metric_to_plot, _BOOTSTRAP_N, \n",
        "        _SAMPLES_PER_BOOTSTRAP\n",
        "    )\n",
        "\n",
        "f, ax = plt.subplots(1, 1, figsize=(10, 6))\n",
        "\n",
        "ax.bar(range(len(model_metrics)), \n",
        "          [mean for model_name, (mean, _) in model_metrics.items()], \n",
        "          yerr=[err for model_name, (_, err) in model_metrics.items()], \n",
        "          align='center', alpha=0.5, ecolor='black', capsize=10)\n",
        "ax.set_ylabel(f'{metric_to_plot} score')\n",
        "ax.set_xticks(range(len(model_metrics)))\n",
        "ax.set_xticklabels([model_name for model_name, _ in model_metrics.items()])\n",
        "ax.set_title('Performance comparison of models, HMM data, new negative data, unoptimized hyperparameters')\n",
        "ax.yaxis.grid(True)\n",
        "ax.set_ylim([0, 1])\n",
        "\n",
        "# Make some labels.\n",
        "for bar, (mean, std) in zip(ax.patches, model_metrics.values()):\n",
        "    ax.annotate(fr'${mean:.2f} \\pm {std:.2f}$', \n",
        "                   (bar.get_x() + bar.get_width() / 2, \n",
        "                    0), ha='center', va='center',\n",
        "                   size=10, xytext=(0, 8),\n",
        "                   textcoords='offset points')\n",
        "plt.savefig('./figs/bad_model_comparison.png', dpi=300)"
      ],
      "id": "silent-advancement",
      "execution_count": null,
      "outputs": [
        {
          "output_type": "display_data",
          "data": {
            "image/png": "[encoded data removed]",
            "text/plain": [
              "<Figure size 720x432 with 1 Axes>"
            ]
          },
          "metadata": {
            "tags": [],
            "needs_background": "light"
          }
        }
      ]
    },
    {
      "cell_type": "markdown",
      "metadata": {
        "id": "aggressive-possession",
        "papermill": {
          "duration": 5.114198,
          "end_time": "2021-05-27T18:04:37.055018",
          "exception": false,
          "start_time": "2021-05-27T18:04:31.940820",
          "status": "completed"
        },
        "tags": []
      },
      "source": [
        "Last hope is to optimize the NN training by using a grid of hyperparameters. Let us first disable warnings.."
      ],
      "id": "aggressive-possession"
    },
    {
      "cell_type": "code",
      "metadata": {
        "execution": {
          "iopub.execute_input": "2021-05-27T18:04:47.379306Z",
          "iopub.status.busy": "2021-05-27T18:04:47.376636Z",
          "iopub.status.idle": "2021-05-27T18:04:47.383472Z",
          "shell.execute_reply": "2021-05-27T18:04:47.382366Z"
        },
        "papermill": {
          "duration": 5.17302,
          "end_time": "2021-05-27T18:04:47.383766",
          "exception": false,
          "start_time": "2021-05-27T18:04:42.210746",
          "status": "completed"
        },
        "tags": [],
        "id": "promising-gazette"
      },
      "source": [
        "if _DO_GRIDSEARCH_NEW_DATA:\n",
        "    X = np.concatenate([train_data, val_data])\n",
        "    Y = np.concatenate([train_labels, val_labels])"
      ],
      "id": "promising-gazette",
      "execution_count": null,
      "outputs": []
    },
    {
      "cell_type": "code",
      "metadata": {
        "execution": {
          "iopub.execute_input": "2021-05-27T18:04:57.605741Z",
          "iopub.status.busy": "2021-05-27T18:04:57.599596Z",
          "iopub.status.idle": "2021-05-27T18:04:57.611544Z",
          "shell.execute_reply": "2021-05-27T18:04:57.610585Z"
        },
        "papermill": {
          "duration": 5.110555,
          "end_time": "2021-05-27T18:04:57.611748",
          "exception": false,
          "start_time": "2021-05-27T18:04:52.501193",
          "status": "completed"
        },
        "tags": [],
        "id": "optional-damages"
      },
      "source": [
        "if _DO_GRIDSEARCH_NEW_DATA:\n",
        "    def create_MLP(num_hidden_layers, add_dropout, lr, batch_size):\n",
        "        model = models.Sequential(name='MLP')\n",
        "        model.add(layers.Dense(30, input_dim=12, activation='relu', name='layer_0'))\n",
        "        num_inside_layers = num_hidden_layers + int(add_dropout)\n",
        "        for i in range(num_inside_layers):\n",
        "            if add_dropout and i == (num_inside_layers // 2):\n",
        "                model.add(layers.Dropout(0.5, name=f'layer_{i + 1}'))\n",
        "            else:\n",
        "                model.add(layers.Dense(50, activation='relu', name=f'layer_{i + 1}'))\n",
        "        model.add(layers.Dense(1, activation='sigmoid', name='final'))\n",
        "        model.compile(optimizer=optimizers.Adam(lr=lr), \n",
        "                      loss=losses.BinaryCrossentropy(), \n",
        "                      metrics=_METRICS)\n",
        "\n",
        "        return model\n",
        "\n",
        "    model = KerasClassifier(build_fn=create_MLP, verbose=0)\n",
        "    # define the grid search parameters\n",
        "    grid_num_hidden_layers = [1, 2, 3, 4]\n",
        "    dropouts = [False, True]\n",
        "    lrs = [0.0001, 0.0005, 0.001, 0.005, 0.01, 0.05, 0.1]\n",
        "    batch_sizes = [10, 30, 50, 100]\n",
        "    epochs = [40, 60, 80]\n",
        "    param_grid = dict(batch_size=batch_sizes, num_hidden_layers=grid_num_hidden_layers, \n",
        "                      add_dropout=dropouts, lr=lrs, epochs=epochs)\n",
        "    grid = GridSearchCV(estimator=model, scoring='roc_auc', param_grid=param_grid, n_jobs=1, cv=3, verbose=2, error_score=\"raise\")\n",
        "    grid_result = grid.fit(X, Y)\n",
        "    best_model = grid_result.best_estimator_.model\n",
        "    best_model.save('models/best_MLP.h5')\n",
        "    # summarize results\n",
        "    print(\"Best: %f using %s\" % (grid_result.best_score_, grid_result.best_params_))\n",
        "    means = grid_result.cv_results_['mean_test_score']\n",
        "    stds = grid_result.cv_results_['std_test_score']\n",
        "    params = grid_result.cv_results_['params']\n",
        "    for mean, stdev, param in zip(means, stds, params):\n",
        "        print(\"%f (%f) with: %r\" % (mean, stdev, param))\n",
        "    print(grid_result.best_estimator_.model.summary())"
      ],
      "id": "optional-damages",
      "execution_count": null,
      "outputs": []
    },
    {
      "cell_type": "code",
      "metadata": {
        "execution": {
          "iopub.execute_input": "2021-05-27T18:05:07.804483Z",
          "iopub.status.busy": "2021-05-27T18:05:07.799587Z",
          "iopub.status.idle": "2021-05-27T18:05:08.079804Z",
          "shell.execute_reply": "2021-05-27T18:05:08.078971Z"
        },
        "papermill": {
          "duration": 5.343711,
          "end_time": "2021-05-27T18:05:08.080033",
          "exception": false,
          "start_time": "2021-05-27T18:05:02.736322",
          "status": "completed"
        },
        "tags": [],
        "colab": {
          "base_uri": "https://localhost:8080/"
        },
        "id": "complete-arlington",
        "outputId": "009c78e6-8edc-4e33-b191-d3038f89e665"
      },
      "source": [
        "best_MLP = load_model('models/best_MLP.h5', custom_objects = {'f1_score': tfa.metrics.F1Score(name='f1_score', num_classes=1, threshold=0.5),\n",
        "                                                              'mcc': mcc})\n",
        "best_MLP.compile(optimizer=optimizers.Adam(lr=_LEARNING_RATE), \n",
        "                 loss=losses.BinaryCrossentropy(),\n",
        "                 metrics=_METRICS)\n",
        "best_MLP.summary()"
      ],
      "id": "complete-arlington",
      "execution_count": null,
      "outputs": [
        {
          "output_type": "stream",
          "text": [
            "Model: \"MLP\"\n",
            "_________________________________________________________________\n",
            "Layer (type)                 Output Shape              Param #   \n",
            "=================================================================\n",
            "layer_0 (Dense)              (None, 30)                390       \n",
            "_________________________________________________________________\n",
            "layer_1 (Dense)              (None, 50)                1550      \n",
            "_________________________________________________________________\n",
            "layer_2 (Dense)              (None, 50)                2550      \n",
            "_________________________________________________________________\n",
            "layer_3 (Dense)              (None, 50)                2550      \n",
            "_________________________________________________________________\n",
            "layer_4 (Dense)              (None, 50)                2550      \n",
            "_________________________________________________________________\n",
            "final (Dense)                (None, 1)                 51        \n",
            "=================================================================\n",
            "Total params: 9,641\n",
            "Trainable params: 9,641\n",
            "Non-trainable params: 0\n",
            "_________________________________________________________________\n"
          ],
          "name": "stdout"
        }
      ]
    },
    {
      "cell_type": "code",
      "metadata": {
        "execution": {
          "iopub.execute_input": "2021-05-27T18:05:19.162850Z",
          "iopub.status.busy": "2021-05-27T18:05:19.160147Z",
          "iopub.status.idle": "2021-05-27T18:05:20.982091Z",
          "shell.execute_reply": "2021-05-27T18:05:20.980101Z"
        },
        "papermill": {
          "duration": 7.737939,
          "end_time": "2021-05-27T18:05:20.982340",
          "exception": false,
          "start_time": "2021-05-27T18:05:13.244401",
          "status": "completed"
        },
        "tags": [],
        "id": "choice-darwin",
        "outputId": "2fb0f273-07b2-410d-a427-3c0dcdb17e2a"
      },
      "source": [
        "test_evals = best_MLP.evaluate(test_data, test_labels, verbose=_VERBOSE)\n",
        "for metrics_name, metrics_value in zip(best_MLP.metrics_names, test_evals):\n",
        "    print(f'Test {metrics_name}: {metrics_value}')     "
      ],
      "id": "choice-darwin",
      "execution_count": null,
      "outputs": [
        {
          "output_type": "stream",
          "text": [
            "25/25 [==============================] - 2s 13ms/step - loss: 1.0130 - accuracy: 0.5925 - precision: 0.5949 - recall: 0.5414 - auc: 0.6291 - f1_score: 0.5667 - mcc: 0.2911\n",
            "Test loss: 1.0462446212768555\n",
            "Test accuracy: 0.6033333539962769\n",
            "Test precision: 0.6062718033790588\n",
            "Test recall: 0.5819398164749146\n",
            "Test auc: 0.6445891261100769\n",
            "Test f1_score: [0.59385663]\n",
            "Test mcc: 0.2584535479545593\n"
          ],
          "name": "stdout"
        }
      ]
    },
    {
      "cell_type": "code",
      "metadata": {
        "execution": {
          "iopub.execute_input": "2021-05-27T18:05:31.951283Z",
          "iopub.status.busy": "2021-05-27T18:05:31.950459Z",
          "iopub.status.idle": "2021-05-27T18:05:31.956547Z",
          "shell.execute_reply": "2021-05-27T18:05:31.955760Z"
        },
        "papermill": {
          "duration": 5.296352,
          "end_time": "2021-05-27T18:05:31.956725",
          "exception": false,
          "start_time": "2021-05-27T18:05:26.660373",
          "status": "completed"
        },
        "tags": [],
        "id": "southeast-hughes"
      },
      "source": [
        "if _DO_GRIDSEARCH_NEW_DATA:\n",
        "    def create_CNN(num_conv_layers, num_hidden_layers, num_out_filters, kernel_size, \n",
        "                   add_dropout, lr, batch_size):\n",
        "        model = models.Sequential(name='CNN')\n",
        "        model.add(layers.Reshape((12, -1), input_shape=(12,), name='reshape'))\n",
        "        for i in range(num_conv_layers):\n",
        "            model.add(\n",
        "                layers.Conv1D(num_out_filters*(i + 1), kernel_size, \n",
        "                              activation='relu', \n",
        "                              name=f'layer_{i + 1}'))\n",
        "        model.add(layers.Flatten(name='flatten')),\n",
        "        for i in range(num_hidden_layers):\n",
        "            model.add(layers.Dense(50, activation='relu', name=f'layer_{num_conv_layers + i + 1}'))\n",
        "        if add_dropout:\n",
        "            model.add(layers.Dropout(0.5, name='dropout'))\n",
        "        model.add(layers.Dense(10, activation='relu', name='pre-final'))\n",
        "        model.add(layers.Dense(1, activation='sigmoid', name='final'))\n",
        "\n",
        "        model.compile(optimizer=optimizers.Adam(lr=lr), \n",
        "                      loss=losses.BinaryCrossentropy(),\n",
        "                      metrics=_METRICS)\n",
        "        return model\n",
        "\n",
        "    model = KerasClassifier(build_fn=create_CNN, verbose=0)\n",
        "    # define the grid search parameters\n",
        "    grid_num_conv_layers = [1, 2]\n",
        "    grid_num_hidden_layers = [1, 2]\n",
        "    dropouts = [True]\n",
        "    filter_sizes = [4, 8, 12]\n",
        "    kernel_sizes = [3, 6]\n",
        "    lrs = [0.0001, 0.001, 0.01, 0.1]\n",
        "    batch_sizes = [30, 50, 100]\n",
        "    epochs = [30, 60, 80]\n",
        "    param_grid = dict(batch_size=batch_sizes, num_conv_layers=grid_num_conv_layers, num_hidden_layers=grid_num_hidden_layers,\n",
        "                      add_dropout=dropouts, num_out_filters=filter_sizes, kernel_size=kernel_sizes, lr=lrs, epochs=epochs)\n",
        "    grid = GridSearchCV(estimator=model, scoring='roc_auc', cv=3, param_grid=param_grid, n_jobs=1, verbose=2, error_score=\"raise\")\n",
        "    grid_result = grid.fit(X, Y)\n",
        "    best_model = grid_result.best_estimator_.model\n",
        "    best_model.save('models/best_CNN.h5')\n",
        "    # summarize results\n",
        "    print(\"Best: %f using %s\" % (grid_result.best_score_, grid_result.best_params_))\n",
        "    means = grid_result.cv_results_['mean_test_score']\n",
        "    stds = grid_result.cv_results_['std_test_score']\n",
        "    params = grid_result.cv_results_['params']\n",
        "    for mean, stdev, param in zip(means, stds, params):\n",
        "        print(\"%f (%f) with: %r\" % (mean, stdev, param))\n",
        "    print(grid_result.best_estimator_.model.summary())"
      ],
      "id": "southeast-hughes",
      "execution_count": null,
      "outputs": []
    },
    {
      "cell_type": "code",
      "metadata": {
        "execution": {
          "iopub.execute_input": "2021-05-27T18:05:42.182174Z",
          "iopub.status.busy": "2021-05-27T18:05:42.176103Z",
          "iopub.status.idle": "2021-05-27T18:05:42.493119Z",
          "shell.execute_reply": "2021-05-27T18:05:42.494404Z"
        },
        "papermill": {
          "duration": 5.391452,
          "end_time": "2021-05-27T18:05:42.494826",
          "exception": false,
          "start_time": "2021-05-27T18:05:37.103374",
          "status": "completed"
        },
        "tags": [],
        "colab": {
          "base_uri": "https://localhost:8080/"
        },
        "id": "binding-atlantic",
        "outputId": "c03a3305-428a-47aa-a2fc-fbf657b9e388"
      },
      "source": [
        "best_CNN = load_model('models/best_CNN.h5', custom_objects = {'f1_score': tfa.metrics.F1Score(name='f1_score', num_classes=1, threshold=0.5),\n",
        "                                                              'mcc': mcc})\n",
        "best_CNN.compile(optimizer=optimizers.Adam(lr=_LEARNING_RATE), \n",
        "                 loss=losses.BinaryCrossentropy(),\n",
        "                 metrics=_METRICS)\n",
        "best_CNN.summary()"
      ],
      "id": "binding-atlantic",
      "execution_count": null,
      "outputs": [
        {
          "output_type": "stream",
          "text": [
            "Model: \"CNN\"\n",
            "_________________________________________________________________\n",
            "Layer (type)                 Output Shape              Param #   \n",
            "=================================================================\n",
            "reshape (Reshape)            (None, 12, 1)             0         \n",
            "_________________________________________________________________\n",
            "layer_1 (Conv1D)             (None, 10, 8)             32        \n",
            "_________________________________________________________________\n",
            "layer_2 (Conv1D)             (None, 8, 16)             400       \n",
            "_________________________________________________________________\n",
            "flatten (Flatten)            (None, 128)               0         \n",
            "_________________________________________________________________\n",
            "layer_3 (Dense)              (None, 50)                6450      \n",
            "_________________________________________________________________\n",
            "layer_4 (Dense)              (None, 50)                2550      \n",
            "_________________________________________________________________\n",
            "dropout (Dropout)            (None, 50)                0         \n",
            "_________________________________________________________________\n",
            "pre-final (Dense)            (None, 10)                510       \n",
            "_________________________________________________________________\n",
            "final (Dense)                (None, 1)                 11        \n",
            "=================================================================\n",
            "Total params: 9,953\n",
            "Trainable params: 9,953\n",
            "Non-trainable params: 0\n",
            "_________________________________________________________________\n"
          ],
          "name": "stdout"
        }
      ]
    },
    {
      "cell_type": "code",
      "metadata": {
        "execution": {
          "iopub.execute_input": "2021-05-27T18:05:52.788894Z",
          "iopub.status.busy": "2021-05-27T18:05:52.787789Z",
          "iopub.status.idle": "2021-05-27T18:05:54.647572Z",
          "shell.execute_reply": "2021-05-27T18:05:54.646278Z"
        },
        "papermill": {
          "duration": 6.953732,
          "end_time": "2021-05-27T18:05:54.647904",
          "exception": false,
          "start_time": "2021-05-27T18:05:47.694172",
          "status": "completed"
        },
        "tags": [],
        "id": "modern-forwarding",
        "outputId": "2a5cfdcc-6f28-4ba5-9273-00587de81fa4"
      },
      "source": [
        "test_evals = best_CNN.evaluate(test_data, test_labels, verbose=_VERBOSE)\n",
        "for metrics_name, metrics_value in zip(best_CNN.metrics_names, test_evals):\n",
        "    print(f'Test {metrics_name}: {metrics_value}')     "
      ],
      "id": "modern-forwarding",
      "execution_count": null,
      "outputs": [
        {
          "output_type": "stream",
          "text": [
            "25/25 [==============================] - 2s 13ms/step - loss: 0.8360 - accuracy: 0.6148 - precision: 0.6187 - recall: 0.5957 - auc: 0.6668 - f1_score: 0.6070 - mcc: 0.2993\n",
            "Test loss: 0.8772416710853577\n",
            "Test accuracy: 0.6194999814033508\n",
            "Test precision: 0.6251298189163208\n",
            "Test recall: 0.6007984280586243\n",
            "Test auc: 0.6774947643280029\n",
            "Test f1_score: [0.61272264]\n",
            "Test mcc: 0.2885262668132782\n"
          ],
          "name": "stdout"
        }
      ]
    },
    {
      "cell_type": "code",
      "metadata": {
        "colab": {
          "background_save": true
        },
        "execution": {
          "iopub.execute_input": "2021-05-27T18:06:04.897560Z",
          "iopub.status.busy": "2021-05-27T18:06:04.896190Z",
          "iopub.status.idle": "2021-05-27T18:06:54.549960Z",
          "shell.execute_reply": "2021-05-27T18:06:54.551281Z"
        },
        "id": "clear-ideal",
        "papermill": {
          "duration": 54.792336,
          "end_time": "2021-05-27T18:06:54.551697",
          "exception": false,
          "start_time": "2021-05-27T18:05:59.759361",
          "status": "completed"
        },
        "tags": [],
        "outputId": "9e437668-834d-4d5c-8f81-9ddc400af6e7"
      },
      "source": [
        "# Choose the metric to plot\n",
        "metric_to_plot = 'auc'  # possible options are: accuracy, precision, recall, auc, f1_score, mcc\n",
        "_BOOTSTRAP_N = 100\n",
        "_SAMPLES_PER_BOOTSTRAP = 400\n",
        "\n",
        "def get_bootstrap_statistics(model, test_data, test_labels, metrics, \n",
        "                             n_bootstraps, n_samples):\n",
        "    # This function evaluates the model performance based on bootstrap \n",
        "    # statistics\n",
        "    evals = []\n",
        "    for _ in range(n_bootstraps):\n",
        "        sub_data, sub_target = resample(test_data, test_labels, n_samples=n_samples)\n",
        "        sub_eval = model.evaluate(sub_data, sub_target, verbose=0)\n",
        "        evals.append(sub_eval[model.metrics_names.index(metrics)])\n",
        "\n",
        "    return np.mean(evals), np.std(evals) * 2\n",
        "\n",
        "\n",
        "models_dict = {'MLP': best_MLP, 'CNN': best_CNN}\n",
        "model_metrics = {}\n",
        "\n",
        "# Computing the metric lncRNA models\n",
        "for model_name, model in models_dict.items():\n",
        "    model_metrics[model_name] = get_bootstrap_statistics(\n",
        "        model, test_data, test_labels, metric_to_plot, _BOOTSTRAP_N, \n",
        "        _SAMPLES_PER_BOOTSTRAP\n",
        "    )\n",
        "\n",
        "f, ax = plt.subplots(1, 1, figsize=(10, 6))\n",
        "\n",
        "ax.bar(range(len(model_metrics)), \n",
        "          [mean for model_name, (mean, _) in model_metrics.items()], \n",
        "          yerr=[err for model_name, (_, err) in model_metrics.items()], \n",
        "          align='center', alpha=0.5, ecolor='black', capsize=10)\n",
        "ax.set_ylabel(f'{metric_to_plot} score')\n",
        "ax.set_xticks(range(len(model_metrics)))\n",
        "ax.set_xticklabels([model_name for model_name, _ in model_metrics.items()])\n",
        "ax.set_title('Performance comparison of final models, HMM data')\n",
        "ax.yaxis.grid(True)\n",
        "ax.set_ylim([0, 1])\n",
        "\n",
        "# Make some labels.\n",
        "for bar, (mean, std) in zip(ax.patches, model_metrics.values()):\n",
        "    ax.annotate(fr'${mean:.2f} \\pm {std:.2f}$', \n",
        "                   (bar.get_x() + bar.get_width() / 2, \n",
        "                    0), ha='center', va='center',\n",
        "                   size=10, xytext=(0, 8),\n",
        "                   textcoords='offset points')\n",
        "\n",
        "plt.savefig('./figs/optimized_model_comparison.png', dpi=300)"
      ],
      "id": "clear-ideal",
      "execution_count": null,
      "outputs": [
        {
          "output_type": "display_data",
          "data": {
            "image/png": "[encoded data removed]",
            "text/plain": [
              "<Figure size 720x432 with 1 Axes>"
            ]
          },
          "metadata": {
            "tags": [],
            "needs_background": "light"
          }
        }
      ]
    },
    {
      "cell_type": "code",
      "metadata": {
        "colab": {
          "base_uri": "https://localhost:8080/"
        },
        "id": "Yv4FIn0Q-lxk",
        "outputId": "64c2379b-4e20-4738-dfa0-5e5b9be43bc7"
      },
      "source": [
        "# Generate a random index 0 <= random_sample_index <= 8000\n",
        "random_sample_index = np.random.randint(_DATA_SIZE)\n",
        "\n",
        "# Get the features - fetch them from data, expand the row to the matrix,\n",
        "# then scale the matrix, then add additional axis to pass as an input to NN\n",
        "random_sample_features = np.expand_dims(data[random_sample_index], axis=0)\n",
        "random_sample_features_scaled = scaler.transform(random_sample_features)\n",
        "\n",
        "# Fetch the label for the random sample and the sequence of this sample\n",
        "random_sample_label = labels[random_sample_index]\n",
        "random_sample_seq = raw_df.iloc[random_sample_index]\n",
        "\n",
        "# Get prediction from the NN\n",
        "CNN_random_sample_prediction = best_CNN.predict(random_sample_features_scaled)\n",
        "MLP_random_sample_prediction = best_MLP.predict(random_sample_features_scaled)\n",
        "\n",
        "print('CNN:')\n",
        "print(f'Fetched a random sample with index={random_sample_index}')\n",
        "print(f'The HMM features for this sample are:\\n{random_sample_seq}')\n",
        "print(f'The known label for the sample is {random_sample_label}')\n",
        "print(f'The prediction of the NN is {CNN_random_sample_prediction[0][0]}')\n",
        "\n",
        "print('\\nMLP:')\n",
        "print(f'Fetched a random sample with index={random_sample_index}')\n",
        "print(f'The HMM features for this sample are:\\n{random_sample_seq}')\n",
        "print(f'The known label for the sample is {random_sample_label}')\n",
        "print(f'The prediction of the NN is {MLP_random_sample_prediction[0][0]}')"
      ],
      "id": "Yv4FIn0Q-lxk",
      "execution_count": null,
      "outputs": [
        {
          "output_type": "stream",
          "text": [
            "CNN:\n",
            "Fetched a random sample with index=595\n",
            "The HMM features for this sample are:\n",
            "H3K4me1      0\n",
            "H3K4me2      1\n",
            "H3K4me3      1\n",
            "H3K9me1      6\n",
            "H3K9me3      2\n",
            "H3K27me3    14\n",
            "H3K36me3     2\n",
            "H3K79me2     0\n",
            "H2A.Z        2\n",
            "H3K9ac       3\n",
            "H3K27ac      0\n",
            "H4K20me1    11\n",
            "Name: (chr5, 2175850, 2176250), dtype: int64\n",
            "The known label for the sample is 1\n",
            "The prediction of the NN is 0.5462335348129272\n",
            "\n",
            "MLP:\n",
            "Fetched a random sample with index=595\n",
            "The HMM features for this sample are:\n",
            "H3K4me1      0\n",
            "H3K4me2      1\n",
            "H3K4me3      1\n",
            "H3K9me1      6\n",
            "H3K9me3      2\n",
            "H3K27me3    14\n",
            "H3K36me3     2\n",
            "H3K79me2     0\n",
            "H2A.Z        2\n",
            "H3K9ac       3\n",
            "H3K27ac      0\n",
            "H4K20me1    11\n",
            "Name: (chr5, 2175850, 2176250), dtype: int64\n",
            "The known label for the sample is 1\n",
            "The prediction of the NN is 0.5951220989227295\n"
          ],
          "name": "stdout"
        }
      ]
    }
  ]
}